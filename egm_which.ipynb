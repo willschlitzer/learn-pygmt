{
 "cells": [
  {
   "cell_type": "code",
   "execution_count": 1,
   "id": "572ce7b6-7770-4bf8-a43d-fe3560da91cf",
   "metadata": {},
   "outputs": [],
   "source": [
    "import pygmt\n",
    "import pandas as pd\n",
    "from pygmt.src import which"
   ]
  },
  {
   "cell_type": "code",
   "execution_count": 2,
   "id": "e212255a-bfaf-49aa-ade1-921e627da10b",
   "metadata": {},
   "outputs": [],
   "source": [
    "fname = which(\"@EGM96_to_36.txt\", download=\"c\")"
   ]
  },
  {
   "cell_type": "code",
   "execution_count": 18,
   "id": "1305a70a-5fd7-4e2d-9a82-d6df74acd0aa",
   "metadata": {},
   "outputs": [],
   "source": [
    "data = pd.read_csv(fname, header=2, sep=r\"\\s+\", skiprows=[3], names = [\"num\", \"L\", \"M\", \"CLM\", \"SLM\", \"sigmaCLM\", \"sigmaSLM\"])"
   ]
  },
  {
   "cell_type": "code",
   "execution_count": 19,
   "id": "9354ebfc-0015-48cb-8821-7fd4ffbde8eb",
   "metadata": {},
   "outputs": [
    {
     "data": {
      "text/html": [
       "<div>\n",
       "<style scoped>\n",
       "    .dataframe tbody tr th:only-of-type {\n",
       "        vertical-align: middle;\n",
       "    }\n",
       "\n",
       "    .dataframe tbody tr th {\n",
       "        vertical-align: top;\n",
       "    }\n",
       "\n",
       "    .dataframe thead th {\n",
       "        text-align: right;\n",
       "    }\n",
       "</style>\n",
       "<table border=\"1\" class=\"dataframe\">\n",
       "  <thead>\n",
       "    <tr style=\"text-align: right;\">\n",
       "      <th></th>\n",
       "      <th>num</th>\n",
       "      <th>L</th>\n",
       "      <th>M</th>\n",
       "      <th>CLM</th>\n",
       "      <th>SLM</th>\n",
       "      <th>sigmaCLM</th>\n",
       "      <th>sigmaSLM</th>\n",
       "    </tr>\n",
       "  </thead>\n",
       "  <tbody>\n",
       "    <tr>\n",
       "      <th>0</th>\n",
       "      <td>2</td>\n",
       "      <td>0</td>\n",
       "      <td>-4.841654e-04</td>\n",
       "      <td>0.000000e+00</td>\n",
       "      <td>3.561063e-11</td>\n",
       "      <td>0.000000e+00</td>\n",
       "      <td>NaN</td>\n",
       "    </tr>\n",
       "    <tr>\n",
       "      <th>1</th>\n",
       "      <td>2</td>\n",
       "      <td>1</td>\n",
       "      <td>-1.869876e-10</td>\n",
       "      <td>1.195280e-09</td>\n",
       "      <td>1.000000e-30</td>\n",
       "      <td>1.000000e-30</td>\n",
       "      <td>NaN</td>\n",
       "    </tr>\n",
       "    <tr>\n",
       "      <th>2</th>\n",
       "      <td>2</td>\n",
       "      <td>2</td>\n",
       "      <td>2.439144e-06</td>\n",
       "      <td>-1.400167e-06</td>\n",
       "      <td>5.373915e-11</td>\n",
       "      <td>5.435327e-11</td>\n",
       "      <td>NaN</td>\n",
       "    </tr>\n",
       "    <tr>\n",
       "      <th>3</th>\n",
       "      <td>3</td>\n",
       "      <td>0</td>\n",
       "      <td>9.572542e-07</td>\n",
       "      <td>0.000000e+00</td>\n",
       "      <td>1.809424e-11</td>\n",
       "      <td>0.000000e+00</td>\n",
       "      <td>NaN</td>\n",
       "    </tr>\n",
       "    <tr>\n",
       "      <th>4</th>\n",
       "      <td>3</td>\n",
       "      <td>1</td>\n",
       "      <td>2.029989e-06</td>\n",
       "      <td>2.485132e-07</td>\n",
       "      <td>1.396517e-10</td>\n",
       "      <td>1.364588e-10</td>\n",
       "      <td>NaN</td>\n",
       "    </tr>\n",
       "    <tr>\n",
       "      <th>...</th>\n",
       "      <td>...</td>\n",
       "      <td>...</td>\n",
       "      <td>...</td>\n",
       "      <td>...</td>\n",
       "      <td>...</td>\n",
       "      <td>...</td>\n",
       "      <td>...</td>\n",
       "    </tr>\n",
       "    <tr>\n",
       "      <th>695</th>\n",
       "      <td>36</td>\n",
       "      <td>32</td>\n",
       "      <td>1.256542e-08</td>\n",
       "      <td>2.304762e-09</td>\n",
       "      <td>3.368724e-10</td>\n",
       "      <td>3.352420e-10</td>\n",
       "      <td>NaN</td>\n",
       "    </tr>\n",
       "    <tr>\n",
       "      <th>696</th>\n",
       "      <td>36</td>\n",
       "      <td>33</td>\n",
       "      <td>3.899576e-09</td>\n",
       "      <td>-3.503409e-09</td>\n",
       "      <td>3.377377e-10</td>\n",
       "      <td>3.363863e-10</td>\n",
       "      <td>NaN</td>\n",
       "    </tr>\n",
       "    <tr>\n",
       "      <th>697</th>\n",
       "      <td>36</td>\n",
       "      <td>34</td>\n",
       "      <td>-9.086933e-09</td>\n",
       "      <td>4.357770e-09</td>\n",
       "      <td>3.207686e-10</td>\n",
       "      <td>3.229122e-10</td>\n",
       "      <td>NaN</td>\n",
       "    </tr>\n",
       "    <tr>\n",
       "      <th>698</th>\n",
       "      <td>36</td>\n",
       "      <td>35</td>\n",
       "      <td>-1.388125e-10</td>\n",
       "      <td>-1.255273e-08</td>\n",
       "      <td>3.598314e-10</td>\n",
       "      <td>3.586207e-10</td>\n",
       "      <td>NaN</td>\n",
       "    </tr>\n",
       "    <tr>\n",
       "      <th>699</th>\n",
       "      <td>36</td>\n",
       "      <td>36</td>\n",
       "      <td>4.601465e-09</td>\n",
       "      <td>-5.942453e-09</td>\n",
       "      <td>4.465383e-10</td>\n",
       "      <td>4.473132e-10</td>\n",
       "      <td>NaN</td>\n",
       "    </tr>\n",
       "  </tbody>\n",
       "</table>\n",
       "<p>700 rows × 7 columns</p>\n",
       "</div>"
      ],
      "text/plain": [
       "     num   L             M           CLM           SLM      sigmaCLM  sigmaSLM\n",
       "0      2   0 -4.841654e-04  0.000000e+00  3.561063e-11  0.000000e+00       NaN\n",
       "1      2   1 -1.869876e-10  1.195280e-09  1.000000e-30  1.000000e-30       NaN\n",
       "2      2   2  2.439144e-06 -1.400167e-06  5.373915e-11  5.435327e-11       NaN\n",
       "3      3   0  9.572542e-07  0.000000e+00  1.809424e-11  0.000000e+00       NaN\n",
       "4      3   1  2.029989e-06  2.485132e-07  1.396517e-10  1.364588e-10       NaN\n",
       "..   ...  ..           ...           ...           ...           ...       ...\n",
       "695   36  32  1.256542e-08  2.304762e-09  3.368724e-10  3.352420e-10       NaN\n",
       "696   36  33  3.899576e-09 -3.503409e-09  3.377377e-10  3.363863e-10       NaN\n",
       "697   36  34 -9.086933e-09  4.357770e-09  3.207686e-10  3.229122e-10       NaN\n",
       "698   36  35 -1.388125e-10 -1.255273e-08  3.598314e-10  3.586207e-10       NaN\n",
       "699   36  36  4.601465e-09 -5.942453e-09  4.465383e-10  4.473132e-10       NaN\n",
       "\n",
       "[700 rows x 7 columns]"
      ]
     },
     "execution_count": 19,
     "metadata": {},
     "output_type": "execute_result"
    }
   ],
   "source": [
    "data"
   ]
  },
  {
   "cell_type": "code",
   "execution_count": 22,
   "id": "7ae5615e-bdc0-4d82-a1c7-427b96dd9376",
   "metadata": {},
   "outputs": [
    {
     "name": "stdout",
     "output_type": "stream",
     "text": [
      "(700, 7)\n"
     ]
    }
   ],
   "source": [
    "print(data.shape)"
   ]
  },
  {
   "cell_type": "code",
   "execution_count": 21,
   "id": "7470448d-dc7b-47de-932d-5c2e04293532",
   "metadata": {},
   "outputs": [
    {
     "name": "stdout",
     "output_type": "stream",
     "text": [
      ": Title: \n",
      ": Command: \n",
      ": Remark: \n",
      ": Gridline node registration used [Geographic grid]\n",
      ": Grid file format: nf = GMT netCDF format (32-bit float), CF-1.7\n",
      ": x_min: 0 x_max: 360 x_inc: 1 name: x n_columns: 361\n",
      ": y_min: -90 y_max: 90 y_inc: 1 name: y n_rows: 181\n",
      ": v_min: -0.00043260390521 v_max: 0.000219614637899 name: z\n",
      ": scale_factor: 1 add_offset: 0\n",
      ": format: classic\n",
      "\n"
     ]
    }
   ],
   "source": [
    "print(pygmt.grdinfo(grid=new_grid))"
   ]
  },
  {
   "cell_type": "code",
   "execution_count": null,
   "id": "751a18d9-6704-4c26-9e4c-f0597e0a6c2d",
   "metadata": {},
   "outputs": [],
   "source": []
  }
 ],
 "metadata": {
  "kernelspec": {
   "display_name": "Python 3 (ipykernel)",
   "language": "python",
   "name": "python3"
  },
  "language_info": {
   "codemirror_mode": {
    "name": "ipython",
    "version": 3
   },
   "file_extension": ".py",
   "mimetype": "text/x-python",
   "name": "python",
   "nbconvert_exporter": "python",
   "pygments_lexer": "ipython3",
   "version": "3.9.9"
  }
 },
 "nbformat": 4,
 "nbformat_minor": 5
}
