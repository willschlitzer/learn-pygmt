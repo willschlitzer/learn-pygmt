{
 "cells": [
  {
   "cell_type": "code",
   "execution_count": 2,
   "id": "d7cca2f5-dc44-45d0-8f3f-6cd71e2e660b",
   "metadata": {},
   "outputs": [],
   "source": [
    "import xarray as xr\n",
    "import geopandas as gpd\n",
    "import pandas as pd\n",
    "import numpy as np"
   ]
  },
  {
   "cell_type": "code",
   "execution_count": 4,
   "id": "1519269f-97ae-44b0-9e5b-0d5690e9ec9f",
   "metadata": {},
   "outputs": [
    {
     "name": "stdout",
     "output_type": "stream",
     "text": [
      "[[1, 2, 3], [4, 5, 6], [6, 7, 8]]\n"
     ]
    }
   ],
   "source": [
    "my_data = [[1,2,3], [4,5,6], [6,7,8]]\n",
    "print(my_data)"
   ]
  },
  {
   "cell_type": "code",
   "execution_count": 5,
   "id": "ed110edb-7ff7-4661-8256-8c31e0f69790",
   "metadata": {},
   "outputs": [
    {
     "name": "stdout",
     "output_type": "stream",
     "text": [
      "[[1 2 3]\n",
      " [4 5 6]\n",
      " [6 7 8]]\n"
     ]
    }
   ],
   "source": [
    "my_array = np.array(my_data)\n",
    "print(my_array)"
   ]
  },
  {
   "cell_type": "code",
   "execution_count": 17,
   "id": "82427e3a-fc58-4567-9b9f-97a5e96f0469",
   "metadata": {},
   "outputs": [
    {
     "name": "stdout",
     "output_type": "stream",
     "text": [
      "<xarray.DataArray (dim_0: 3, dim_1: 3)>\n",
      "array([[1, 2, 3],\n",
      "       [4, 5, 6],\n",
      "       [6, 7, 8]])\n",
      "Dimensions without coordinates: dim_0, dim_1\n",
      "<class 'xarray.core.dataarray.DataArray'>\n"
     ]
    }
   ],
   "source": [
    "my_xr = xr.DataArray(my_array)\n",
    "print(my_xr)\n",
    "print(type(my_xr))"
   ]
  },
  {
   "cell_type": "code",
   "execution_count": 15,
   "id": "3b91eba1-db40-45f2-8ed6-ee114b80150c",
   "metadata": {},
   "outputs": [
    {
     "name": "stdout",
     "output_type": "stream",
     "text": [
      "<xarray.DataArray (dim_0: 3, dim_1: 3)>\n",
      "array([[1, 2, 3],\n",
      "       [4, 5, 6],\n",
      "       [6, 7, 8]])\n",
      "Dimensions without coordinates: dim_0, dim_1\n",
      "<class 'xarray.core.dataarray.DataArray'>\n"
     ]
    }
   ],
   "source": [
    "my_xr_list = xr.DataArray(my_data)\n",
    "print(my_xr_list)\n"
   ]
  },
  {
   "cell_type": "code",
   "execution_count": 10,
   "id": "1964d63f-f329-4c27-ac64-cfc37195a25d",
   "metadata": {},
   "outputs": [
    {
     "name": "stdout",
     "output_type": "stream",
     "text": [
      "   1  2  3\n",
      "0  1  2  3\n",
      "1  4  5  6\n",
      "2  6  7  8\n"
     ]
    }
   ],
   "source": [
    "my_df = pd.DataFrame(my_data, columns=[\"1\", \"2\", \"3\"])\n",
    "print(my_df)"
   ]
  },
  {
   "cell_type": "code",
   "execution_count": 11,
   "id": "c46ca3e9-01f2-49e6-8fcb-ee4f274a5881",
   "metadata": {},
   "outputs": [
    {
     "name": "stdout",
     "output_type": "stream",
     "text": [
      "   1  2  3\n",
      "0  1  2  3\n",
      "1  4  5  6\n",
      "2  6  7  8\n"
     ]
    }
   ],
   "source": [
    "my_df = pd.DataFrame(my_array, columns=[\"1\", \"2\", \"3\"])\n",
    "print(my_df)\n"
   ]
  },
  {
   "cell_type": "code",
   "execution_count": 13,
   "id": "9f1c6dbc-2c3d-47cf-b9c7-e2dbe0490a6c",
   "metadata": {},
   "outputs": [
    {
     "name": "stdout",
     "output_type": "stream",
     "text": [
      "   1  2  3\n",
      "0  1  2  3\n",
      "1  4  5  6\n",
      "2  6  7  8\n"
     ]
    }
   ],
   "source": [
    "my_gpd_df = gpd.GeoDataFrame(my_data, columns=[\"1\", \"2\", \"3\"])\n",
    "print(my_df)"
   ]
  },
  {
   "cell_type": "code",
   "execution_count": 16,
   "id": "04f1ee75-ccea-457d-ac16-e35754136917",
   "metadata": {},
   "outputs": [
    {
     "name": "stdout",
     "output_type": "stream",
     "text": [
      "   1  2  3\n",
      "0  1  2  3\n",
      "1  4  5  6\n",
      "2  6  7  8\n",
      "<class 'pandas.core.frame.DataFrame'>\n"
     ]
    }
   ],
   "source": [
    "my_gpd_df = gpd.GeoDataFrame(my_array, columns=[\"1\", \"2\", \"3\"])\n",
    "print(my_df)\n",
    "print(type(my_df))"
   ]
  },
  {
   "cell_type": "code",
   "execution_count": null,
   "id": "85b3431a-edf1-4467-9184-4abec83c67b6",
   "metadata": {},
   "outputs": [],
   "source": []
  }
 ],
 "metadata": {
  "kernelspec": {
   "display_name": "Python 3 (ipykernel)",
   "language": "python",
   "name": "python3"
  },
  "language_info": {
   "codemirror_mode": {
    "name": "ipython",
    "version": 3
   },
   "file_extension": ".py",
   "mimetype": "text/x-python",
   "name": "python",
   "nbconvert_exporter": "python",
   "pygments_lexer": "ipython3",
   "version": "3.9.9"
  }
 },
 "nbformat": 4,
 "nbformat_minor": 5
}
