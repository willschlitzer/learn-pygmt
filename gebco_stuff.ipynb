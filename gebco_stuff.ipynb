{
 "cells": [
  {
   "cell_type": "code",
   "execution_count": 1,
   "id": "c31a7e23-8a16-4cc0-b729-e8282c6f688c",
   "metadata": {},
   "outputs": [],
   "source": [
    "import pygmt\n",
    "from pygmt.datasets import load_earth_relief"
   ]
  },
  {
   "cell_type": "code",
   "execution_count": 4,
   "id": "e7982980-18e7-4359-bd53-ee2bd60caefa",
   "metadata": {},
   "outputs": [
    {
     "name": "stderr",
     "output_type": "stream",
     "text": [
      "grdcut [NOTICE]: Remote data courtesy of GMT data server oceania [http://oceania.generic-mapping-tools.org]\n",
      "grdcut [NOTICE]: SRTM15 Earth Relief at 1x1 arc degrees reduced by Gaussian Cartesian filtering (111.2 km fullwidth) [Sandwell et al., 2022].\n",
      "grdcut [NOTICE]:   -> Download grid file [114K]: earth_relief_01d_p.grd\n"
     ]
    }
   ],
   "source": [
    "grid = load_earth_relief(region = [0, 5, 10, 12], resolution=\"01d\")"
   ]
  },
  {
   "cell_type": "code",
   "execution_count": 3,
   "id": "f58eee68-7d5a-46a7-8752-b2baa06b1128",
   "metadata": {},
   "outputs": [
    {
     "name": "stderr",
     "output_type": "stream",
     "text": [
      "grdcut [NOTICE]: Remote data courtesy of GMT data server oceania [http://oceania.generic-mapping-tools.org]\n",
      "grdcut [NOTICE]: GEBCO Earth Relief at 1x1 arc degrees reduced by Gaussian Cartesian filtering (111.2 km fullwidth) [GEBCO Compilation Group, 2021 GEBCO 2021 Grid].\n",
      "grdcut [NOTICE]:   -> Download grid file [105K]: earth_gebco_01d_g.grd\n",
      "grdcut [ERROR]: Libcurl Error: HTTP response code said error\n",
      "grdcut [WARNING]: You can turn remote file download off by setting GMT_DATA_UPDATE_INTERVAL to \"off\"\n",
      "grdcut [ERROR]: File /home/will/.gmt/cache/earth_gebco_01d.grd was not found\n",
      "grdcut [ERROR]: Cannot find file /home/will/.gmt/cache/earth_gebco_01d.grd\n",
      "grdcut [ERROR]: File /home/will/.gmt/cache/earth_gebco_01d.grd was not found\n",
      "grdcut [ERROR]: Cannot find file /home/will/.gmt/cache/earth_gebco_01d.grd\n",
      "grdcut [ERROR]: File /home/will/.gmt/cache/earth_gebco_01d.grd not found\n",
      "[Session pygmt-session (2)]: Error returned from GMT API: GMT_FILE_NOT_FOUND (16)\n"
     ]
    },
    {
     "ename": "GMTCLibError",
     "evalue": "Module 'grdcut' failed with status code 16:\ngrdcut [ERROR]: Libcurl Error: HTTP response code said error\ngrdcut [ERROR]: File /home/will/.gmt/cache/earth_gebco_01d.grd was not found\ngrdcut [ERROR]: Cannot find file /home/will/.gmt/cache/earth_gebco_01d.grd\ngrdcut [ERROR]: File /home/will/.gmt/cache/earth_gebco_01d.grd was not found\ngrdcut [ERROR]: Cannot find file /home/will/.gmt/cache/earth_gebco_01d.grd\ngrdcut [ERROR]: File /home/will/.gmt/cache/earth_gebco_01d.grd not found",
     "output_type": "error",
     "traceback": [
      "\u001b[0;31m---------------------------------------------------------------------------\u001b[0m",
      "\u001b[0;31mGMTCLibError\u001b[0m                              Traceback (most recent call last)",
      "\u001b[0;32m/tmp/ipykernel_15096/502390564.py\u001b[0m in \u001b[0;36m<module>\u001b[0;34m\u001b[0m\n\u001b[0;32m----> 1\u001b[0;31m \u001b[0mgrid\u001b[0m \u001b[0;34m=\u001b[0m \u001b[0mpygmt\u001b[0m\u001b[0;34m.\u001b[0m\u001b[0mgrdcut\u001b[0m\u001b[0;34m(\u001b[0m\u001b[0mgrid\u001b[0m\u001b[0;34m=\u001b[0m\u001b[0;34m\"@earth_gebco_01d\"\u001b[0m\u001b[0;34m,\u001b[0m \u001b[0mregion\u001b[0m \u001b[0;34m=\u001b[0m \u001b[0;34m[\u001b[0m\u001b[0;36m0\u001b[0m\u001b[0;34m,\u001b[0m \u001b[0;36m5\u001b[0m\u001b[0;34m,\u001b[0m \u001b[0;36m10\u001b[0m\u001b[0;34m,\u001b[0m \u001b[0;36m12\u001b[0m\u001b[0;34m]\u001b[0m\u001b[0;34m)\u001b[0m\u001b[0;34m\u001b[0m\u001b[0;34m\u001b[0m\u001b[0m\n\u001b[0m",
      "\u001b[0;32m~/Desktop/programming/current_projects/pygmt/pygmt/helpers/decorators.py\u001b[0m in \u001b[0;36mnew_module\u001b[0;34m(*args, **kwargs)\u001b[0m\n\u001b[1;32m    583\u001b[0m                     )\n\u001b[1;32m    584\u001b[0m                     \u001b[0mwarnings\u001b[0m\u001b[0;34m.\u001b[0m\u001b[0mwarn\u001b[0m\u001b[0;34m(\u001b[0m\u001b[0mmsg\u001b[0m\u001b[0;34m,\u001b[0m \u001b[0mcategory\u001b[0m\u001b[0;34m=\u001b[0m\u001b[0mSyntaxWarning\u001b[0m\u001b[0;34m,\u001b[0m \u001b[0mstacklevel\u001b[0m\u001b[0;34m=\u001b[0m\u001b[0;36m2\u001b[0m\u001b[0;34m)\u001b[0m\u001b[0;34m\u001b[0m\u001b[0;34m\u001b[0m\u001b[0m\n\u001b[0;32m--> 585\u001b[0;31m             \u001b[0;32mreturn\u001b[0m \u001b[0mmodule_func\u001b[0m\u001b[0;34m(\u001b[0m\u001b[0;34m*\u001b[0m\u001b[0margs\u001b[0m\u001b[0;34m,\u001b[0m \u001b[0;34m**\u001b[0m\u001b[0mkwargs\u001b[0m\u001b[0;34m)\u001b[0m\u001b[0;34m\u001b[0m\u001b[0;34m\u001b[0m\u001b[0m\n\u001b[0m\u001b[1;32m    586\u001b[0m \u001b[0;34m\u001b[0m\u001b[0m\n\u001b[1;32m    587\u001b[0m         \u001b[0mnew_module\u001b[0m\u001b[0;34m.\u001b[0m\u001b[0maliases\u001b[0m \u001b[0;34m=\u001b[0m \u001b[0maliases\u001b[0m\u001b[0;34m\u001b[0m\u001b[0;34m\u001b[0m\u001b[0m\n",
      "\u001b[0;32m~/Desktop/programming/current_projects/pygmt/pygmt/helpers/decorators.py\u001b[0m in \u001b[0;36mnew_module\u001b[0;34m(*args, **kwargs)\u001b[0m\n\u001b[1;32m    723\u001b[0m                         \u001b[0mkwargs\u001b[0m\u001b[0;34m[\u001b[0m\u001b[0marg\u001b[0m\u001b[0;34m]\u001b[0m \u001b[0;34m=\u001b[0m \u001b[0mseparators\u001b[0m\u001b[0;34m[\u001b[0m\u001b[0mfmt\u001b[0m\u001b[0;34m]\u001b[0m\u001b[0;34m.\u001b[0m\u001b[0mjoin\u001b[0m\u001b[0;34m(\u001b[0m\u001b[0;34mf\"{item}\"\u001b[0m \u001b[0;32mfor\u001b[0m \u001b[0mitem\u001b[0m \u001b[0;32min\u001b[0m \u001b[0mvalue\u001b[0m\u001b[0;34m)\u001b[0m\u001b[0;34m\u001b[0m\u001b[0;34m\u001b[0m\u001b[0m\n\u001b[1;32m    724\u001b[0m             \u001b[0;31m# Execute the original function and return its output\u001b[0m\u001b[0;34m\u001b[0m\u001b[0;34m\u001b[0m\u001b[0m\n\u001b[0;32m--> 725\u001b[0;31m             \u001b[0;32mreturn\u001b[0m \u001b[0mmodule_func\u001b[0m\u001b[0;34m(\u001b[0m\u001b[0;34m*\u001b[0m\u001b[0margs\u001b[0m\u001b[0;34m,\u001b[0m \u001b[0;34m**\u001b[0m\u001b[0mkwargs\u001b[0m\u001b[0;34m)\u001b[0m\u001b[0;34m\u001b[0m\u001b[0;34m\u001b[0m\u001b[0m\n\u001b[0m\u001b[1;32m    726\u001b[0m \u001b[0;34m\u001b[0m\u001b[0m\n\u001b[1;32m    727\u001b[0m         \u001b[0;32mreturn\u001b[0m \u001b[0mnew_module\u001b[0m\u001b[0;34m\u001b[0m\u001b[0;34m\u001b[0m\u001b[0m\n",
      "\u001b[0;32m~/Desktop/programming/current_projects/pygmt/pygmt/src/grdcut.py\u001b[0m in \u001b[0;36mgrdcut\u001b[0;34m(grid, **kwargs)\u001b[0m\n\u001b[1;32m    111\u001b[0m                 \u001b[0moutgrid\u001b[0m \u001b[0;34m=\u001b[0m \u001b[0mkwargs\u001b[0m\u001b[0;34m[\u001b[0m\u001b[0;34m\"G\"\u001b[0m\u001b[0;34m]\u001b[0m\u001b[0;34m\u001b[0m\u001b[0;34m\u001b[0m\u001b[0m\n\u001b[1;32m    112\u001b[0m                 \u001b[0marg_str\u001b[0m \u001b[0;34m=\u001b[0m \u001b[0;34m\" \"\u001b[0m\u001b[0;34m.\u001b[0m\u001b[0mjoin\u001b[0m\u001b[0;34m(\u001b[0m\u001b[0;34m[\u001b[0m\u001b[0minfile\u001b[0m\u001b[0;34m,\u001b[0m \u001b[0mbuild_arg_string\u001b[0m\u001b[0;34m(\u001b[0m\u001b[0mkwargs\u001b[0m\u001b[0;34m)\u001b[0m\u001b[0;34m]\u001b[0m\u001b[0;34m)\u001b[0m\u001b[0;34m\u001b[0m\u001b[0;34m\u001b[0m\u001b[0m\n\u001b[0;32m--> 113\u001b[0;31m                 \u001b[0mlib\u001b[0m\u001b[0;34m.\u001b[0m\u001b[0mcall_module\u001b[0m\u001b[0;34m(\u001b[0m\u001b[0;34m\"grdcut\"\u001b[0m\u001b[0;34m,\u001b[0m \u001b[0marg_str\u001b[0m\u001b[0;34m)\u001b[0m\u001b[0;34m\u001b[0m\u001b[0;34m\u001b[0m\u001b[0m\n\u001b[0m\u001b[1;32m    114\u001b[0m \u001b[0;34m\u001b[0m\u001b[0m\n\u001b[1;32m    115\u001b[0m         \u001b[0;32mreturn\u001b[0m \u001b[0mload_dataarray\u001b[0m\u001b[0;34m(\u001b[0m\u001b[0moutgrid\u001b[0m\u001b[0;34m)\u001b[0m \u001b[0;32mif\u001b[0m \u001b[0moutgrid\u001b[0m \u001b[0;34m==\u001b[0m \u001b[0mtmpfile\u001b[0m\u001b[0;34m.\u001b[0m\u001b[0mname\u001b[0m \u001b[0;32melse\u001b[0m \u001b[0;32mNone\u001b[0m\u001b[0;34m\u001b[0m\u001b[0;34m\u001b[0m\u001b[0m\n",
      "\u001b[0;32m~/Desktop/programming/current_projects/pygmt/pygmt/clib/session.py\u001b[0m in \u001b[0;36mcall_module\u001b[0;34m(self, module, args)\u001b[0m\n\u001b[1;32m    500\u001b[0m         )\n\u001b[1;32m    501\u001b[0m         \u001b[0;32mif\u001b[0m \u001b[0mstatus\u001b[0m \u001b[0;34m!=\u001b[0m \u001b[0;36m0\u001b[0m\u001b[0;34m:\u001b[0m\u001b[0;34m\u001b[0m\u001b[0;34m\u001b[0m\u001b[0m\n\u001b[0;32m--> 502\u001b[0;31m             raise GMTCLibError(\n\u001b[0m\u001b[1;32m    503\u001b[0m                 \u001b[0;34mf\"Module '{module}' failed with status code {status}:\\n{self._error_message}\"\u001b[0m\u001b[0;34m\u001b[0m\u001b[0;34m\u001b[0m\u001b[0m\n\u001b[1;32m    504\u001b[0m             )\n",
      "\u001b[0;31mGMTCLibError\u001b[0m: Module 'grdcut' failed with status code 16:\ngrdcut [ERROR]: Libcurl Error: HTTP response code said error\ngrdcut [ERROR]: File /home/will/.gmt/cache/earth_gebco_01d.grd was not found\ngrdcut [ERROR]: Cannot find file /home/will/.gmt/cache/earth_gebco_01d.grd\ngrdcut [ERROR]: File /home/will/.gmt/cache/earth_gebco_01d.grd was not found\ngrdcut [ERROR]: Cannot find file /home/will/.gmt/cache/earth_gebco_01d.grd\ngrdcut [ERROR]: File /home/will/.gmt/cache/earth_gebco_01d.grd not found"
     ]
    }
   ],
   "source": [
    "grid = pygmt.grdcut(grid=\"@earth_gebco_01d\", region = [0, 5, 10, 12])"
   ]
  },
  {
   "cell_type": "code",
   "execution_count": null,
   "id": "f8590ec4-b099-4190-b3b7-9f3435c2d30b",
   "metadata": {},
   "outputs": [],
   "source": []
  }
 ],
 "metadata": {
  "kernelspec": {
   "display_name": "Python 3 (ipykernel)",
   "language": "python",
   "name": "python3"
  },
  "language_info": {
   "codemirror_mode": {
    "name": "ipython",
    "version": 3
   },
   "file_extension": ".py",
   "mimetype": "text/x-python",
   "name": "python",
   "nbconvert_exporter": "python",
   "pygments_lexer": "ipython3",
   "version": "3.9.9"
  }
 },
 "nbformat": 4,
 "nbformat_minor": 5
}
