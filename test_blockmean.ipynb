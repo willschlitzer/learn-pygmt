{
 "cells": [
  {
   "cell_type": "code",
   "execution_count": 8,
   "id": "341fbeba",
   "metadata": {},
   "outputs": [],
   "source": [
    "import pygmt\n",
    "import numpy as np"
   ]
  },
  {
   "cell_type": "code",
   "execution_count": 9,
   "id": "6136108e",
   "metadata": {},
   "outputs": [],
   "source": [
    "dataframe = pygmt.datasets.load_sample_bathymetry()"
   ]
  },
  {
   "cell_type": "code",
   "execution_count": 10,
   "id": "9af26786",
   "metadata": {},
   "outputs": [],
   "source": [
    "output = pygmt.blockmean(x=dataframe.longitude, y=dataframe.latitude, z=dataframe.bathymetry, spacing=\"5m\",\n",
    "                         region=[245, 255, 20, 30], restype=\"w\")"
   ]
  },
  {
   "cell_type": "code",
   "execution_count": 11,
   "id": "b6682d72",
   "metadata": {},
   "outputs": [
    {
     "name": "stdout",
     "output_type": "stream",
     "text": [
      "               0          1   2\n",
      "0     245.888877  29.978707   3\n",
      "1     246.968210  29.975290   3\n",
      "2     245.874570  29.921270   5\n",
      "3     245.937620  29.890494   7\n",
      "4     246.957800  29.929000   1\n",
      "...          ...        ...  ..\n",
      "5844  254.078842  20.020214  27\n",
      "5845  254.177413  20.034970   3\n",
      "5846  254.232944  20.020966   7\n",
      "5847  254.313772  20.019928   9\n",
      "5848  254.416400  20.017250   2\n",
      "\n",
      "[5849 rows x 3 columns]\n"
     ]
    }
   ],
   "source": [
    "print(output)"
   ]
  },
  {
   "cell_type": "code",
   "execution_count": 12,
   "id": "a2bef09c",
   "metadata": {},
   "outputs": [],
   "source": [
    "output_w = pygmt.blockmean(x=dataframe.longitude, y=dataframe.latitude, z=dataframe.bathymetry, spacing=\"5m\",\n",
    "                         region=[245, 255, 20, 30], restype=\"w\")\n"
   ]
  },
  {
   "cell_type": "code",
   "execution_count": 13,
   "id": "2f0a091d",
   "metadata": {},
   "outputs": [
    {
     "name": "stdout",
     "output_type": "stream",
     "text": [
      "            0          1  2\n",
      "0  245.888877  29.978707  3\n",
      "1  246.968210  29.975290  3\n",
      "2  245.874570  29.921270  5\n",
      "3  245.937620  29.890494  7\n",
      "4  246.957800  29.929000  1\n"
     ]
    }
   ],
   "source": [
    "print(output_w.head())"
   ]
  },
  {
   "cell_type": "code",
   "execution_count": 14,
   "id": "f33290a0",
   "metadata": {},
   "outputs": [],
   "source": [
    "output_n = pygmt.blockmean(x=dataframe.longitude, y=dataframe.latitude, z=dataframe.bathymetry, spacing=\"5m\",\n",
    "                         region=[245, 255, 20, 30], restype=\"m\")"
   ]
  },
  {
   "cell_type": "code",
   "execution_count": 15,
   "id": "49dba89f",
   "metadata": {},
   "outputs": [
    {
     "name": "stdout",
     "output_type": "stream",
     "text": [
      "            0          1           2\n",
      "0  245.888877  29.978707 -384.000000\n",
      "1  246.968210  29.975290  -94.666667\n",
      "2  245.874570  29.921270 -426.000000\n",
      "3  245.937620  29.890494 -421.714286\n",
      "4  246.957800  29.929000  -96.000000\n"
     ]
    }
   ],
   "source": [
    "print(output_n.head())"
   ]
  },
  {
   "cell_type": "code",
   "execution_count": null,
   "id": "098aa463",
   "metadata": {},
   "outputs": [],
   "source": []
  }
 ],
 "metadata": {
  "kernelspec": {
   "display_name": "Python 3 (ipykernel)",
   "language": "python",
   "name": "python3"
  },
  "language_info": {
   "codemirror_mode": {
    "name": "ipython",
    "version": 3
   },
   "file_extension": ".py",
   "mimetype": "text/x-python",
   "name": "python",
   "nbconvert_exporter": "python",
   "pygments_lexer": "ipython3",
   "version": "3.9.4"
  }
 },
 "nbformat": 4,
 "nbformat_minor": 5
}
