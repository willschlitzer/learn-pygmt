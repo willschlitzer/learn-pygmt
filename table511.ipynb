{
 "cells": [
  {
   "cell_type": "code",
   "execution_count": 1,
   "id": "2fcde71e-599c-42f2-810b-88b2993c6d7a",
   "metadata": {},
   "outputs": [],
   "source": [
    "import pygmt"
   ]
  },
  {
   "cell_type": "code",
   "execution_count": 2,
   "id": "6df8289c-25fb-4f53-9e4d-5904904b0a0c",
   "metadata": {},
   "outputs": [
    {
     "data": {
      "text/plain": [
       "{'bathymetry': 'Table of ship bathymetric observations off Baja California',\n",
       " 'fractures': 'Table of hypothetical fracture lengths and azimuths',\n",
       " 'hotspots': 'Table of locations, names, and symbol sizes of hotpots from  Mueller et al., 1993',\n",
       " 'japan_quakes': 'Table of earthquakes around Japan from NOAA NGDC database',\n",
       " 'mars_shape': 'Table of topographic signature of the hemispheric dichotomy of  Mars from Smith and Zuber (1996)',\n",
       " 'ocean_ridge_points': 'Table of ocean ridge points for the entire world',\n",
       " 'table511': 'Table 5.11 in Davis: Statistics and Data Analysis in Geology.',\n",
       " 'usgs_quakes': 'Table of global earthquakes from the USGS'}"
      ]
     },
     "execution_count": 2,
     "metadata": {},
     "output_type": "execute_result"
    }
   ],
   "source": [
    "pygmt.datasets.list_sample_data()"
   ]
  },
  {
   "cell_type": "code",
   "execution_count": 3,
   "id": "7a2da580-a51e-426c-b15f-97ebcac7742d",
   "metadata": {},
   "outputs": [],
   "source": [
    "data = pygmt.datasets.load_sample_data(\"table511\")"
   ]
  },
  {
   "cell_type": "code",
   "execution_count": 6,
   "id": "24d5b41b-f1de-4205-95db-e869009113aa",
   "metadata": {},
   "outputs": [
    {
     "data": {
      "text/plain": [
       "(52, 3)"
      ]
     },
     "execution_count": 6,
     "metadata": {},
     "output_type": "execute_result"
    }
   ],
   "source": [
    "data.shape"
   ]
  },
  {
   "cell_type": "code",
   "execution_count": 7,
   "id": "a0a683a6-d268-4d61-bd27-c7d6b74d1f89",
   "metadata": {},
   "outputs": [],
   "source": [
    "summary = data.describe()"
   ]
  },
  {
   "cell_type": "code",
   "execution_count": 8,
   "id": "7297dd51-c34b-446e-bb2c-ebb77578cb74",
   "metadata": {},
   "outputs": [
    {
     "data": {
      "text/html": [
       "<div>\n",
       "<style scoped>\n",
       "    .dataframe tbody tr th:only-of-type {\n",
       "        vertical-align: middle;\n",
       "    }\n",
       "\n",
       "    .dataframe tbody tr th {\n",
       "        vertical-align: top;\n",
       "    }\n",
       "\n",
       "    .dataframe thead th {\n",
       "        text-align: right;\n",
       "    }\n",
       "</style>\n",
       "<table border=\"1\" class=\"dataframe\">\n",
       "  <thead>\n",
       "    <tr style=\"text-align: right;\">\n",
       "      <th></th>\n",
       "      <th>x</th>\n",
       "      <th>y</th>\n",
       "      <th>z</th>\n",
       "    </tr>\n",
       "  </thead>\n",
       "  <tbody>\n",
       "    <tr>\n",
       "      <th>count</th>\n",
       "      <td>52.000000</td>\n",
       "      <td>52.000000</td>\n",
       "      <td>52.000000</td>\n",
       "    </tr>\n",
       "    <tr>\n",
       "      <th>mean</th>\n",
       "      <td>3.319231</td>\n",
       "      <td>3.211538</td>\n",
       "      <td>827.076923</td>\n",
       "    </tr>\n",
       "    <tr>\n",
       "      <th>std</th>\n",
       "      <td>1.877633</td>\n",
       "      <td>1.986094</td>\n",
       "      <td>61.997738</td>\n",
       "    </tr>\n",
       "    <tr>\n",
       "      <th>min</th>\n",
       "      <td>0.200000</td>\n",
       "      <td>0.000000</td>\n",
       "      <td>690.000000</td>\n",
       "    </tr>\n",
       "    <tr>\n",
       "      <th>25%</th>\n",
       "      <td>1.925000</td>\n",
       "      <td>1.550000</td>\n",
       "      <td>787.500000</td>\n",
       "    </tr>\n",
       "    <tr>\n",
       "      <th>50%</th>\n",
       "      <td>3.250000</td>\n",
       "      <td>3.300000</td>\n",
       "      <td>830.000000</td>\n",
       "    </tr>\n",
       "    <tr>\n",
       "      <th>75%</th>\n",
       "      <td>4.975000</td>\n",
       "      <td>4.850000</td>\n",
       "      <td>873.000000</td>\n",
       "    </tr>\n",
       "    <tr>\n",
       "      <th>max</th>\n",
       "      <td>6.300000</td>\n",
       "      <td>6.200000</td>\n",
       "      <td>960.000000</td>\n",
       "    </tr>\n",
       "  </tbody>\n",
       "</table>\n",
       "</div>"
      ],
      "text/plain": [
       "               x          y           z\n",
       "count  52.000000  52.000000   52.000000\n",
       "mean    3.319231   3.211538  827.076923\n",
       "std     1.877633   1.986094   61.997738\n",
       "min     0.200000   0.000000  690.000000\n",
       "25%     1.925000   1.550000  787.500000\n",
       "50%     3.250000   3.300000  830.000000\n",
       "75%     4.975000   4.850000  873.000000\n",
       "max     6.300000   6.200000  960.000000"
      ]
     },
     "execution_count": 8,
     "metadata": {},
     "output_type": "execute_result"
    }
   ],
   "source": [
    "summary"
   ]
  },
  {
   "cell_type": "code",
   "execution_count": null,
   "id": "ae5b452b-65bc-4b37-9ef2-fc5b16431609",
   "metadata": {},
   "outputs": [],
   "source": []
  }
 ],
 "metadata": {
  "kernelspec": {
   "display_name": "Python 3 (ipykernel)",
   "language": "python",
   "name": "python3"
  },
  "language_info": {
   "codemirror_mode": {
    "name": "ipython",
    "version": 3
   },
   "file_extension": ".py",
   "mimetype": "text/x-python",
   "name": "python",
   "nbconvert_exporter": "python",
   "pygments_lexer": "ipython3",
   "version": "3.9.9"
  }
 },
 "nbformat": 4,
 "nbformat_minor": 5
}
