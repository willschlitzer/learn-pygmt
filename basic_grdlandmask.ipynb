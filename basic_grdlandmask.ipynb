{
 "cells": [
  {
   "cell_type": "code",
   "execution_count": 32,
   "id": "d9b8fa57",
   "metadata": {},
   "outputs": [],
   "source": [
    "import pygmt\n",
    "new_grid = pygmt.grdlandmask(increment=1, region = [-5, 5, -5, 5])"
   ]
  },
  {
   "cell_type": "code",
   "execution_count": 33,
   "id": "8a5d3049",
   "metadata": {},
   "outputs": [
    {
     "name": "stdout",
     "output_type": "stream",
     "text": [
      ": Title: \n",
      ": Command: \n",
      ": Remark: \n",
      ": Gridline node registration used [Geographic grid]\n",
      ": Grid file format: nf = GMT netCDF format (32-bit float), CF-1.7\n",
      ": x_min: -5 x_max: 5 x_inc: 1 name: x n_columns: 11\n",
      ": y_min: -5 y_max: 5 y_inc: 1 name: y n_rows: 11\n",
      ": v_min: 0 v_max: 1 name: z\n",
      ": scale_factor: 1 add_offset: 0\n",
      ": format: classic\n",
      "\n"
     ]
    }
   ],
   "source": [
    "print(pygmt.grdinfo(grid=new_grid))"
   ]
  },
  {
   "cell_type": "code",
   "execution_count": 34,
   "id": "a56f88b3",
   "metadata": {},
   "outputs": [
    {
     "name": "stdout",
     "output_type": "stream",
     "text": [
      "['-5', '5', '-5', '5', '0', '1', '1', '1', '11', '11', '0', '1']\n"
     ]
    }
   ],
   "source": [
    "result = pygmt.grdinfo(grid=new_grid, force_scan=0, per_column=\"n\").strip().split()\n",
    "print(result)"
   ]
  },
  {
   "cell_type": "code",
   "execution_count": 35,
   "id": "93c7b84f",
   "metadata": {},
   "outputs": [
    {
     "name": "stdout",
     "output_type": "stream",
     "text": [
      ": Title: \n",
      ": Command: \n",
      ": Remark: \n",
      ": Gridline node registration used [Geographic grid]\n",
      ": Grid file format: nf = GMT netCDF format (32-bit float), CF-1.7\n",
      ": x_min: -5 x_max: 5 x_inc: 1 name: x n_columns: 11\n",
      ": y_min: -5 y_max: 5 y_inc: 1 name: y n_rows: 11\n",
      ": v_min: 0 v_max: 1 name: z\n",
      ": scale_factor: 1 add_offset: 0\n",
      ": format: classic\n",
      "\n"
     ]
    }
   ],
   "source": [
    "result = pygmt.grdinfo(grid=new_grid)\n",
    "print(result)"
   ]
  },
  {
   "cell_type": "code",
   "execution_count": 43,
   "id": "6c8cbcfd",
   "metadata": {},
   "outputs": [
    {
     "ename": "AssertionError",
     "evalue": "",
     "output_type": "error",
     "traceback": [
      "\u001b[0;31m---------------------------------------------------------------------------\u001b[0m",
      "\u001b[0;31mAssertionError\u001b[0m                            Traceback (most recent call last)",
      "\u001b[0;32m<ipython-input-43-f0e876ac80f8>\u001b[0m in \u001b[0;36m<module>\u001b[0;34m\u001b[0m\n\u001b[1;32m      4\u001b[0m \u001b[0;32massert\u001b[0m \u001b[0mtemp_grid\u001b[0m\u001b[0;34m.\u001b[0m\u001b[0mgmt\u001b[0m\u001b[0;34m.\u001b[0m\u001b[0mregistration\u001b[0m \u001b[0;34m==\u001b[0m \u001b[0;36m0\u001b[0m\u001b[0;34m\u001b[0m\u001b[0;34m\u001b[0m\u001b[0m\n\u001b[1;32m      5\u001b[0m \u001b[0;32massert\u001b[0m \u001b[0mtemp_grid\u001b[0m\u001b[0;34m.\u001b[0m\u001b[0mmin\u001b[0m\u001b[0;34m(\u001b[0m\u001b[0;34m)\u001b[0m \u001b[0;34m==\u001b[0m \u001b[0;36m0\u001b[0m\u001b[0;34m\u001b[0m\u001b[0;34m\u001b[0m\u001b[0m\n\u001b[0;32m----> 6\u001b[0;31m \u001b[0;32massert\u001b[0m \u001b[0mtemp_grid\u001b[0m\u001b[0;34m.\u001b[0m\u001b[0mmax\u001b[0m\u001b[0;34m(\u001b[0m\u001b[0;34m)\u001b[0m \u001b[0;34m==\u001b[0m \u001b[0;36m0\u001b[0m\u001b[0;34m\u001b[0m\u001b[0;34m\u001b[0m\u001b[0m\n\u001b[0m",
      "\u001b[0;31mAssertionError\u001b[0m: "
     ]
    }
   ],
   "source": [
    "temp_grid = pygmt.grdlandmask(increment=1, region = [-5, 5, -5, 5])\n",
    "assert temp_grid.dims == (\"lat\", \"lon\")\n",
    "assert temp_grid.gmt.gtype == 1  # Geographic grid\n",
    "assert temp_grid.gmt.registration == 0\n",
    "assert temp_grid.min() == 0\n",
    "assert temp_grid.max() == 1"
   ]
  },
  {
   "cell_type": "code",
   "execution_count": null,
   "id": "97f8ae05",
   "metadata": {},
   "outputs": [],
   "source": []
  }
 ],
 "metadata": {
  "kernelspec": {
   "display_name": "Python 3 (ipykernel)",
   "language": "python",
   "name": "python3"
  },
  "language_info": {
   "codemirror_mode": {
    "name": "ipython",
    "version": 3
   },
   "file_extension": ".py",
   "mimetype": "text/x-python",
   "name": "python",
   "nbconvert_exporter": "python",
   "pygments_lexer": "ipython3",
   "version": "3.9.9"
  }
 },
 "nbformat": 4,
 "nbformat_minor": 5
}
