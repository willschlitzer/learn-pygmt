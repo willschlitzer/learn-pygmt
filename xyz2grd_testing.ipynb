{
 "cells": [
  {
   "cell_type": "code",
   "execution_count": 1,
   "id": "4f512d1e-008d-4cd6-b150-083110925f32",
   "metadata": {},
   "outputs": [],
   "source": [
    "import numpy as np\n",
    "import pygmt"
   ]
  },
  {
   "cell_type": "code",
   "execution_count": 2,
   "id": "9c370eff-c908-4104-b574-8072de748405",
   "metadata": {},
   "outputs": [],
   "source": [
    "x, y = np.meshgrid([0, 1, 2, 3], [10.5, 11.0, 11.5, 12.0, 12.5])\n",
    "z = x**2 + y**2\n",
    "xx, yy, zz = x.flatten(), y.flatten(), z.flatten()"
   ]
  },
  {
   "cell_type": "code",
   "execution_count": 3,
   "id": "d9874864-519a-41ce-93dc-7aba3b18d8f1",
   "metadata": {},
   "outputs": [],
   "source": [
    "grid = pygmt.xyz2grd(x=xx, y=yy, z=zz, spacing=(1.0, 0.5), region=[0,3,10,13])"
   ]
  },
  {
   "cell_type": "code",
   "execution_count": 4,
   "id": "2acb174a-e0c3-4ca3-8b80-0181bdd76d18",
   "metadata": {},
   "outputs": [
    {
     "name": "stdout",
     "output_type": "stream",
     "text": [
      ": Title: \n",
      ": Command: \n",
      ": Remark: \n",
      ": Gridline node registration used [Cartesian grid]\n",
      ": Grid file format: nf = GMT netCDF format (32-bit float), CF-1.7\n",
      ": x_min: 0 x_max: 3 x_inc: 1 name: x n_columns: 4\n",
      ": y_min: 10 y_max: 13 y_inc: 0.5 name: y n_rows: 7\n",
      ": v_min: 110.25 v_max: 165.25 name: z\n",
      ": scale_factor: 1 add_offset: 0\n",
      ": format: classic\n",
      "\n"
     ]
    }
   ],
   "source": [
    "print(pygmt.grdinfo(grid=grid))"
   ]
  },
  {
   "cell_type": "code",
   "execution_count": null,
   "id": "8154473d-3195-4e54-b1a1-b59c72480d14",
   "metadata": {},
   "outputs": [],
   "source": []
  }
 ],
 "metadata": {
  "kernelspec": {
   "display_name": "Python 3 (ipykernel)",
   "language": "python",
   "name": "python3"
  },
  "language_info": {
   "codemirror_mode": {
    "name": "ipython",
    "version": 3
   },
   "file_extension": ".py",
   "mimetype": "text/x-python",
   "name": "python",
   "nbconvert_exporter": "python",
   "pygments_lexer": "ipython3",
   "version": "3.9.9"
  }
 },
 "nbformat": 4,
 "nbformat_minor": 5
}
