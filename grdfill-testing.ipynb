{
 "cells": [
  {
   "cell_type": "code",
   "execution_count": 26,
   "id": "d1e93060-a9aa-495a-8d50-eec29103e4c5",
   "metadata": {},
   "outputs": [],
   "source": [
    "import pygmt\n",
    "import numpy as np"
   ]
  },
  {
   "cell_type": "code",
   "execution_count": 27,
   "id": "478ba773-03cc-4938-a4d7-38aea7e772c4",
   "metadata": {},
   "outputs": [],
   "source": [
    "grid = pygmt.datasets.load_earth_relief(registration=\"pixel\", region=[125, 130, -25, -20])\n",
    "grid[2:4, 1:3] = np.nan\n",
    "grid[0:2, 2:4] = np.inf\n",
    "#print(grid)"
   ]
  },
  {
   "cell_type": "code",
   "execution_count": 29,
   "id": "d6de46a6-57aa-4f02-ab5d-264c3d44a48c",
   "metadata": {},
   "outputs": [
    {
     "name": "stdout",
     "output_type": "stream",
     "text": [
      "<xarray.DataArray 'z' (lat: 5, lon: 5)>\n",
      "array([[442.5, 439. ,   inf,   inf, 508. ],\n",
      "       [393. , 364.5,   inf,   inf, 506.5],\n",
      "       [362. ,  20. ,  20. , 373.5, 402.5],\n",
      "       [321.5,  20. ,  20. , 356. , 422.5],\n",
      "       [282.5, 318. , 326.5, 379.5, 383.5]], dtype=float32)\n",
      "Coordinates:\n",
      "  * lon      (lon) float64 125.5 126.5 127.5 128.5 129.5\n",
      "  * lat      (lat) float64 -24.5 -23.5 -22.5 -21.5 -20.5\n",
      "Attributes:\n",
      "    long_name:     z\n",
      "    actual_range:  [20. inf]\n"
     ]
    }
   ],
   "source": [
    "result = pygmt.grdfill(grid=grid, mode=\"c20\")\n",
    "print(result)"
   ]
  },
  {
   "cell_type": "code",
   "execution_count": null,
   "id": "60c9d0f8-82a6-44a8-ac41-d4602baa1d3b",
   "metadata": {},
   "outputs": [],
   "source": []
  }
 ],
 "metadata": {
  "kernelspec": {
   "display_name": "Python 3 (ipykernel)",
   "language": "python",
   "name": "python3"
  },
  "language_info": {
   "codemirror_mode": {
    "name": "ipython",
    "version": 3
   },
   "file_extension": ".py",
   "mimetype": "text/x-python",
   "name": "python",
   "nbconvert_exporter": "python",
   "pygments_lexer": "ipython3",
   "version": "3.9.9"
  }
 },
 "nbformat": 4,
 "nbformat_minor": 5
}
