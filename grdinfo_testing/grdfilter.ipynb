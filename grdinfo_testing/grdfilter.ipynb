{
 "cells": [
  {
   "cell_type": "code",
   "execution_count": 7,
   "id": "87b66a28-d9ee-43b8-bb64-87f6960899ca",
   "metadata": {},
   "outputs": [],
   "source": [
    "import pygmt\n",
    "from pygmt.helpers.testing import load_static_earth_relief"
   ]
  },
  {
   "cell_type": "code",
   "execution_count": 8,
   "id": "081e767e-7fd0-48e5-bb61-94bc862c62bb",
   "metadata": {},
   "outputs": [],
   "source": [
    "sample_grid = load_static_earth_relief()"
   ]
  },
  {
   "cell_type": "code",
   "execution_count": 9,
   "id": "256bda1a-4790-42d8-8979-f49dc7d60b7d",
   "metadata": {},
   "outputs": [
    {
     "name": "stdout",
     "output_type": "stream",
     "text": [
      ": Title: \n",
      ": Command: \n",
      ": Remark: \n",
      ": Pixel node registration used [Geographic grid]\n",
      ": Grid file format: nf = GMT netCDF format (32-bit float), CF-1.7\n",
      ": x_min: -55 x_max: -47 x_inc: 1 name: x n_columns: 8\n",
      ": y_min: -24 y_max: -10 y_inc: 1 name: y n_rows: 14\n",
      ": v_min: 190 v_max: 981 name: z\n",
      ": scale_factor: 1 add_offset: 0\n",
      ": format: classic\n",
      "\n"
     ]
    }
   ],
   "source": [
    "print(pygmt.grdinfo(grid=sample_grid))"
   ]
  },
  {
   "cell_type": "code",
   "execution_count": 10,
   "id": "dd035292-4d09-4468-8edc-59887011b956",
   "metadata": {},
   "outputs": [],
   "source": [
    "result = pygmt.grdfilter(grid=sample_grid, filter=\"g600\", distance=\"4\", region=[-53, -49, -20, -17])"
   ]
  },
  {
   "cell_type": "code",
   "execution_count": 11,
   "id": "1d563fe8-0489-4aa3-827e-8e1b5469f4b0",
   "metadata": {},
   "outputs": [
    {
     "name": "stdout",
     "output_type": "stream",
     "text": [
      "<xarray.DataArray 'z' (lat: 3, lon: 4)>\n",
      "array([[502.61914, 488.27576, 494.10657, 559.06244],\n",
      "       [614.6496 , 601.4992 , 569.9743 , 606.0966 ],\n",
      "       [661.41003, 656.9681 , 625.1668 , 664.40204]], dtype=float32)\n",
      "Coordinates:\n",
      "  * lon      (lon) float64 -52.5 -51.5 -50.5 -49.5\n",
      "  * lat      (lat) float64 -19.5 -18.5 -17.5\n",
      "Attributes:\n",
      "    long_name:     z\n",
      "    actual_range:  [488.27575684 664.40203857]\n"
     ]
    }
   ],
   "source": [
    "print(result)"
   ]
  },
  {
   "cell_type": "code",
   "execution_count": 13,
   "id": "bab515c0-3c7a-4074-a343-8480bcdb0948",
   "metadata": {},
   "outputs": [
    {
     "name": "stdout",
     "output_type": "stream",
     "text": [
      "<xarray.DataArray 'lat' (lat: 3)>\n",
      "array([-19.5, -18.5, -17.5])\n",
      "Coordinates:\n",
      "  * lat      (lat) float64 -19.5 -18.5 -17.5\n",
      "Attributes:\n",
      "    long_name:      latitude\n",
      "    units:          degrees_north\n",
      "    standard_name:  latitude\n",
      "    axis:           Y\n",
      "    actual_range:   [-20. -17.]\n"
     ]
    }
   ],
   "source": [
    "print(result.lat)"
   ]
  },
  {
   "cell_type": "code",
   "execution_count": 14,
   "id": "4d59f70f-74ae-4f08-a4a2-0afc6965a644",
   "metadata": {},
   "outputs": [
    {
     "name": "stdout",
     "output_type": "stream",
     "text": [
      "<xarray.DataArray 'lon' (lon: 4)>\n",
      "array([-52.5, -51.5, -50.5, -49.5])\n",
      "Coordinates:\n",
      "  * lon      (lon) float64 -52.5 -51.5 -50.5 -49.5\n",
      "Attributes:\n",
      "    long_name:      longitude\n",
      "    units:          degrees_east\n",
      "    standard_name:  longitude\n",
      "    axis:           X\n",
      "    actual_range:   [-53. -49.]\n"
     ]
    }
   ],
   "source": [
    "print(result.lon)"
   ]
  },
  {
   "cell_type": "code",
   "execution_count": null,
   "id": "b54a2eb5-ac74-47c4-a6df-f66f6e9bdda0",
   "metadata": {},
   "outputs": [],
   "source": []
  }
 ],
 "metadata": {
  "kernelspec": {
   "display_name": "Python 3 (ipykernel)",
   "language": "python",
   "name": "python3"
  },
  "language_info": {
   "codemirror_mode": {
    "name": "ipython",
    "version": 3
   },
   "file_extension": ".py",
   "mimetype": "text/x-python",
   "name": "python",
   "nbconvert_exporter": "python",
   "pygments_lexer": "ipython3",
   "version": "3.9.9"
  }
 },
 "nbformat": 4,
 "nbformat_minor": 5
}
