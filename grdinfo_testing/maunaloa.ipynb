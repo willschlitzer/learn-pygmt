{
 "cells": [
  {
   "cell_type": "code",
   "execution_count": 1,
   "id": "f1348e6a-adfa-47c7-a941-31a9712b1ca5",
   "metadata": {},
   "outputs": [],
   "source": [
    "import pygmt\n",
    "import pandas as pd\n",
    "import numpy.testing as npt"
   ]
  },
  {
   "cell_type": "code",
   "execution_count": 2,
   "id": "5204b39d-0b09-4c04-9ef0-5294c1d3e9cc",
   "metadata": {},
   "outputs": [
    {
     "data": {
      "text/plain": [
       "{'bathymetry': 'Table of ship bathymetric observations off Baja California',\n",
       " 'earth_relief_holes': 'Regional 20 arc-minute Earth relief grid with holes',\n",
       " 'fractures': 'Table of hypothetical fracture lengths and azimuths',\n",
       " 'hotspots': 'Table of locations, names, and symbol sizes of hotpots from  Mueller et al., 1993',\n",
       " 'japan_quakes': 'Table of earthquakes around Japan from NOAA NGDC database',\n",
       " 'mars_shape': 'Table of topographic signature of the hemispheric dichotomy of  Mars from Smith and Zuber (1996)',\n",
       " 'maunaloa_co2': 'Table of CO2 readings from Mauna Loa',\n",
       " 'ocean_ridge_points': 'Table of ocean ridge points for the entire world',\n",
       " 'notre_dame_topography': 'Table 5.11 in Davis: Statistics and Data Analysis in Geology',\n",
       " 'usgs_quakes': 'Table of global earthquakes from the USGS'}"
      ]
     },
     "execution_count": 2,
     "metadata": {},
     "output_type": "execute_result"
    }
   ],
   "source": [
    "pygmt.datasets.list_sample_data()"
   ]
  },
  {
   "cell_type": "code",
   "execution_count": 3,
   "id": "529385cd-94f2-47d0-9727-05f0934e4dd1",
   "metadata": {},
   "outputs": [
    {
     "name": "stdout",
     "output_type": "stream",
     "text": [
      "          date  co2_ppm\n",
      "0    1958.2027   315.70\n",
      "1    1958.2877   317.45\n",
      "2    1958.3699   317.50\n",
      "3    1958.5370   315.86\n",
      "4    1958.6219   314.93\n",
      "..         ...      ...\n",
      "725  2019.0411   410.92\n",
      "726  2019.1260   411.66\n",
      "727  2019.2027   412.00\n",
      "728  2019.2877   413.51\n",
      "729  2019.3699   414.83\n",
      "\n",
      "[730 rows x 2 columns]\n"
     ]
    }
   ],
   "source": [
    "data = pygmt.datasets.load_sample_data(\"maunaloa_co2\")\n",
    "print(data)"
   ]
  },
  {
   "cell_type": "code",
   "execution_count": 4,
   "id": "f377d444-c30d-41fb-8e84-6c6e063dd8cc",
   "metadata": {},
   "outputs": [
    {
     "data": {
      "text/plain": [
       "(730, 2)"
      ]
     },
     "execution_count": 4,
     "metadata": {},
     "output_type": "execute_result"
    }
   ],
   "source": [
    "data.shape"
   ]
  },
  {
   "cell_type": "code",
   "execution_count": 5,
   "id": "f14f4c9f-4c73-489d-a3ff-f9e4234cdf9c",
   "metadata": {},
   "outputs": [],
   "source": [
    "summary = data.describe()"
   ]
  },
  {
   "cell_type": "code",
   "execution_count": 6,
   "id": "4e75ba7e-4b8c-4177-b945-52ac141c17aa",
   "metadata": {},
   "outputs": [
    {
     "name": "stdout",
     "output_type": "stream",
     "text": [
      "              date     co2_ppm\n",
      "count   730.000000  730.000000\n",
      "mean   1988.972818  354.454397\n",
      "std      17.612087   27.859683\n",
      "min    1958.202700  313.200000\n",
      "25%    1973.810250  329.302500\n",
      "50%    1988.998700  351.785000\n",
      "75%    2004.185100  376.745000\n",
      "max    2019.369900  414.830000\n"
     ]
    }
   ],
   "source": [
    "print(summary)"
   ]
  },
  {
   "cell_type": "code",
   "execution_count": 8,
   "id": "a001f614-2578-4a21-ade7-ffbe006f449c",
   "metadata": {},
   "outputs": [
    {
     "ename": "AssertionError",
     "evalue": "\nNot equal to tolerance rtol=1e-07, atol=0\n\nMismatched elements: 1 / 1 (100%)\nMax absolute difference: 1760.\nMax relative difference: 8.87979831\n x: array(1958.2027)\n y: array(198.2027)",
     "output_type": "error",
     "traceback": [
      "\u001b[0;31m---------------------------------------------------------------------------\u001b[0m",
      "\u001b[0;31mAssertionError\u001b[0m                            Traceback (most recent call last)",
      "\u001b[0;32m/tmp/ipykernel_20390/1869536661.py\u001b[0m in \u001b[0;36m<module>\u001b[0;34m\u001b[0m\n\u001b[0;32m----> 1\u001b[0;31m \u001b[0mnpt\u001b[0m\u001b[0;34m.\u001b[0m\u001b[0massert_allclose\u001b[0m\u001b[0;34m(\u001b[0m\u001b[0msummary\u001b[0m\u001b[0;34m.\u001b[0m\u001b[0mloc\u001b[0m\u001b[0;34m[\u001b[0m\u001b[0;34m\"min\"\u001b[0m\u001b[0;34m,\u001b[0m \u001b[0;34m\"date\"\u001b[0m\u001b[0;34m]\u001b[0m\u001b[0;34m,\u001b[0m \u001b[0;36m198.2027\u001b[0m\u001b[0;34m)\u001b[0m\u001b[0;34m\u001b[0m\u001b[0;34m\u001b[0m\u001b[0m\n\u001b[0m",
      "    \u001b[0;31m[... skipping hidden 1 frame]\u001b[0m\n",
      "\u001b[0;32m~/miniconda3/envs/pygmt-dev/lib/python3.9/site-packages/numpy/testing/_private/utils.py\u001b[0m in \u001b[0;36massert_array_compare\u001b[0;34m(comparison, x, y, err_msg, verbose, header, precision, equal_nan, equal_inf)\u001b[0m\n\u001b[1;32m    842\u001b[0m                                 \u001b[0mverbose\u001b[0m\u001b[0;34m=\u001b[0m\u001b[0mverbose\u001b[0m\u001b[0;34m,\u001b[0m \u001b[0mheader\u001b[0m\u001b[0;34m=\u001b[0m\u001b[0mheader\u001b[0m\u001b[0;34m,\u001b[0m\u001b[0;34m\u001b[0m\u001b[0;34m\u001b[0m\u001b[0m\n\u001b[1;32m    843\u001b[0m                                 names=('x', 'y'), precision=precision)\n\u001b[0;32m--> 844\u001b[0;31m             \u001b[0;32mraise\u001b[0m \u001b[0mAssertionError\u001b[0m\u001b[0;34m(\u001b[0m\u001b[0mmsg\u001b[0m\u001b[0;34m)\u001b[0m\u001b[0;34m\u001b[0m\u001b[0;34m\u001b[0m\u001b[0m\n\u001b[0m\u001b[1;32m    845\u001b[0m     \u001b[0;32mexcept\u001b[0m \u001b[0mValueError\u001b[0m\u001b[0;34m:\u001b[0m\u001b[0;34m\u001b[0m\u001b[0;34m\u001b[0m\u001b[0m\n\u001b[1;32m    846\u001b[0m         \u001b[0;32mimport\u001b[0m \u001b[0mtraceback\u001b[0m\u001b[0;34m\u001b[0m\u001b[0;34m\u001b[0m\u001b[0m\n",
      "\u001b[0;31mAssertionError\u001b[0m: \nNot equal to tolerance rtol=1e-07, atol=0\n\nMismatched elements: 1 / 1 (100%)\nMax absolute difference: 1760.\nMax relative difference: 8.87979831\n x: array(1958.2027)\n y: array(198.2027)"
     ]
    }
   ],
   "source": [
    "npt.assert_allclose(summary.loc[\"min\", \"date\"], 1958.2027)"
   ]
  },
  {
   "cell_type": "code",
   "execution_count": 10,
   "id": "f0748eeb-12a4-424b-9c39-faba6f71b68d",
   "metadata": {},
   "outputs": [
    {
     "ename": "AssertionError",
     "evalue": "",
     "output_type": "error",
     "traceback": [
      "\u001b[0;31m---------------------------------------------------------------------------\u001b[0m",
      "\u001b[0;31mAssertionError\u001b[0m                            Traceback (most recent call last)",
      "\u001b[0;32m/tmp/ipykernel_20390/361058501.py\u001b[0m in \u001b[0;36m<module>\u001b[0;34m\u001b[0m\n\u001b[0;32m----> 1\u001b[0;31m \u001b[0;32massert\u001b[0m \u001b[0msummary\u001b[0m\u001b[0;34m.\u001b[0m\u001b[0mloc\u001b[0m\u001b[0;34m[\u001b[0m\u001b[0;34m\"min\"\u001b[0m\u001b[0;34m,\u001b[0m \u001b[0;34m\"date\"\u001b[0m\u001b[0;34m]\u001b[0m \u001b[0;34m==\u001b[0m \u001b[0;36m198.2027\u001b[0m\u001b[0;34m\u001b[0m\u001b[0;34m\u001b[0m\u001b[0m\n\u001b[0m",
      "\u001b[0;31mAssertionError\u001b[0m: "
     ]
    }
   ],
   "source": [
    "assert summary.loc[\"min\", \"date\"] == 1958.2027"
   ]
  },
  {
   "cell_type": "code",
   "execution_count": null,
   "id": "748c8ed3-d448-4cd6-ac16-b7fe04be2fa8",
   "metadata": {},
   "outputs": [],
   "source": []
  }
 ],
 "metadata": {
  "kernelspec": {
   "display_name": "Python 3 (ipykernel)",
   "language": "python",
   "name": "python3"
  },
  "language_info": {
   "codemirror_mode": {
    "name": "ipython",
    "version": 3
   },
   "file_extension": ".py",
   "mimetype": "text/x-python",
   "name": "python",
   "nbconvert_exporter": "python",
   "pygments_lexer": "ipython3",
   "version": "3.9.9"
  }
 },
 "nbformat": 4,
 "nbformat_minor": 5
}
