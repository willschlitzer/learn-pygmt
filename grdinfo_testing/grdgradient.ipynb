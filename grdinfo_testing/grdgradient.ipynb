{
 "cells": [
  {
   "cell_type": "code",
   "execution_count": 1,
   "id": "9ef46528-a606-4be0-b08b-b251644888f9",
   "metadata": {},
   "outputs": [],
   "source": [
    "import pygmt\n",
    "from pygmt.helpers.testing import load_static_earth_relief"
   ]
  },
  {
   "cell_type": "code",
   "execution_count": 2,
   "id": "9e861613-bf27-45f6-9453-8eae77e811c7",
   "metadata": {},
   "outputs": [],
   "source": [
    "grid = load_static_earth_relief()"
   ]
  },
  {
   "cell_type": "code",
   "execution_count": 3,
   "id": "293c81b2-79f3-4a26-9a9c-22a7e065258e",
   "metadata": {},
   "outputs": [],
   "source": [
    "result = pygmt.grdgradient(grid=grid, azimuth=10, region=[-53, -49, -20, -17])"
   ]
  },
  {
   "cell_type": "code",
   "execution_count": 4,
   "id": "54718f0e-c7b4-482d-8dc1-3e10ee90cc8d",
   "metadata": {},
   "outputs": [
    {
     "name": "stdout",
     "output_type": "stream",
     "text": [
      "<xarray.DataArray 'z' (lat: 3, lon: 4)>\n",
      "array([[-1.5974800e-03, -9.9056680e-04, -6.1276241e-04, -3.6172546e-04],\n",
      "       [-1.5880326e-03, -1.6113354e-03, -5.4624723e-04, -5.0047837e-04],\n",
      "       [ 7.2569086e-04,  2.4801277e-04,  1.8859128e-05, -1.2269041e-03]],\n",
      "      dtype=float32)\n",
      "Coordinates:\n",
      "  * lon      (lon) float64 -52.5 -51.5 -50.5 -49.5\n",
      "  * lat      (lat) float64 -19.5 -18.5 -17.5\n",
      "Attributes:\n",
      "    long_name:     z\n",
      "    actual_range:  [-0.00161134  0.00072569]\n"
     ]
    }
   ],
   "source": [
    "print(result)"
   ]
  },
  {
   "cell_type": "code",
   "execution_count": 5,
   "id": "7b78ac39-6438-4efc-a4c2-ed898b093ece",
   "metadata": {},
   "outputs": [
    {
     "name": "stdout",
     "output_type": "stream",
     "text": [
      "<xarray.DataArray 'lon' (lon: 4)>\n",
      "array([-52.5, -51.5, -50.5, -49.5])\n",
      "Coordinates:\n",
      "  * lon      (lon) float64 -52.5 -51.5 -50.5 -49.5\n",
      "Attributes:\n",
      "    long_name:      longitude\n",
      "    units:          degrees_east\n",
      "    standard_name:  longitude\n",
      "    axis:           X\n",
      "    actual_range:   [-53. -49.]\n"
     ]
    }
   ],
   "source": [
    "print(result.lon)"
   ]
  },
  {
   "cell_type": "code",
   "execution_count": 6,
   "id": "e2d5914c-4223-4835-a45c-dcd9cd62427d",
   "metadata": {},
   "outputs": [
    {
     "name": "stdout",
     "output_type": "stream",
     "text": [
      "<xarray.DataArray 'lat' (lat: 3)>\n",
      "array([-19.5, -18.5, -17.5])\n",
      "Coordinates:\n",
      "  * lat      (lat) float64 -19.5 -18.5 -17.5\n",
      "Attributes:\n",
      "    long_name:      latitude\n",
      "    units:          degrees_north\n",
      "    standard_name:  latitude\n",
      "    axis:           Y\n",
      "    actual_range:   [-20. -17.]\n"
     ]
    }
   ],
   "source": [
    "print(result.lat)"
   ]
  },
  {
   "cell_type": "code",
   "execution_count": null,
   "id": "0f24311f-7db6-469d-ac5d-915d87d5207d",
   "metadata": {},
   "outputs": [],
   "source": []
  },
  {
   "cell_type": "code",
   "execution_count": null,
   "id": "04462fb4-4e9b-41e0-b5f7-bef1aea66d49",
   "metadata": {},
   "outputs": [],
   "source": []
  }
 ],
 "metadata": {
  "kernelspec": {
   "display_name": "Python 3 (ipykernel)",
   "language": "python",
   "name": "python3"
  },
  "language_info": {
   "codemirror_mode": {
    "name": "ipython",
    "version": 3
   },
   "file_extension": ".py",
   "mimetype": "text/x-python",
   "name": "python",
   "nbconvert_exporter": "python",
   "pygments_lexer": "ipython3",
   "version": "3.9.9"
  }
 },
 "nbformat": 4,
 "nbformat_minor": 5
}
