{
 "cells": [
  {
   "cell_type": "code",
   "execution_count": 1,
   "id": "2e537930-8b63-43c2-97b8-a5dac0ab2f0c",
   "metadata": {},
   "outputs": [],
   "source": [
    "import pygmt\n",
    "from pygmt.helpers.testing import load_static_earth_relief\n",
    "grid = load_static_earth_relief()"
   ]
  },
  {
   "cell_type": "code",
   "execution_count": 5,
   "id": "704b3a73-0ecf-4716-98a4-c6d3df17b614",
   "metadata": {},
   "outputs": [
    {
     "data": {
      "text/plain": [
       "'-55 -47 -24 -10 190 981 1 1 8 14 1 1'"
      ]
     },
     "execution_count": 5,
     "metadata": {},
     "output_type": "execute_result"
    }
   ],
   "source": [
    "result = pygmt.grdinfo(grid=grid, force_scan=0, per_column=\"n\")\n",
    "result.strip()"
   ]
  },
  {
   "cell_type": "code",
   "execution_count": 6,
   "id": "9729ecf8-56ed-4e0b-8640-d108d75497a7",
   "metadata": {},
   "outputs": [
    {
     "data": {
      "text/plain": [
       "'-55 -47 -24 -10 190 981 1 1 8 14 1 1'"
      ]
     },
     "execution_count": 6,
     "metadata": {},
     "output_type": "execute_result"
    }
   ],
   "source": [
    "result = pygmt.grdinfo(grid=\"@static_earth_relief.nc\", force_scan=0, per_column=\"n\")\n",
    "result.strip()"
   ]
  },
  {
   "cell_type": "code",
   "execution_count": 7,
   "id": "c6e11cbc-9850-437d-ab67-362fd8c03bea",
   "metadata": {},
   "outputs": [
    {
     "data": {
      "text/plain": [
       "'-54 -50 -23 -20 284.5 491 1 1 4 3 1 1'"
      ]
     },
     "execution_count": 7,
     "metadata": {},
     "output_type": "execute_result"
    }
   ],
   "source": [
    "result = pygmt.grdinfo(grid=grid, force_scan=0, per_column=\"n\", region=[-54, -50, -23, -20])\n",
    "result.strip()"
   ]
  },
  {
   "cell_type": "code",
   "execution_count": null,
   "id": "8dfc7adf-531e-49e8-9c16-0ac79eb23234",
   "metadata": {},
   "outputs": [],
   "source": []
  }
 ],
 "metadata": {
  "kernelspec": {
   "display_name": "Python 3 (ipykernel)",
   "language": "python",
   "name": "python3"
  },
  "language_info": {
   "codemirror_mode": {
    "name": "ipython",
    "version": 3
   },
   "file_extension": ".py",
   "mimetype": "text/x-python",
   "name": "python",
   "nbconvert_exporter": "python",
   "pygments_lexer": "ipython3",
   "version": "3.9.9"
  }
 },
 "nbformat": 4,
 "nbformat_minor": 5
}
