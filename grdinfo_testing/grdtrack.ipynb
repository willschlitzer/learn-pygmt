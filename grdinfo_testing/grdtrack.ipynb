{
 "cells": [
  {
   "cell_type": "code",
   "execution_count": 1,
   "id": "2567b996-f8fc-4bd9-a8fa-806f6c03dfe7",
   "metadata": {},
   "outputs": [],
   "source": [
    "import pygmt\n",
    "import numpy as np\n",
    "import pandas as pd\n",
    "import xarray as xr\n",
    "from pygmt.datasets import load_sample_data\n",
    "from pygmt.helpers.testing import load_static_earth_relief\n",
    "grid = load_static_earth_relief()\n"
   ]
  },
  {
   "cell_type": "code",
   "execution_count": 9,
   "id": "6515ca1e-f56a-494a-9135-c0fa0217a32a",
   "metadata": {},
   "outputs": [],
   "source": [
    "points = [\n",
    "        [-51.613, -17.93],\n",
    "        [-48.917, -22.434],\n",
    "        [-50.444, -16.358],\n",
    "        [-50.721, -16.628],\n",
    "        [-51.394, -12.196],\n",
    "        [-50.207, -18.404],\n",
    "        [-52.56, -16.977],\n",
    "        [-51.866, -19.794],\n",
    "        [-48.001, -14.144],\n",
    "        [-54.438, -19.193],\n",
    "    ]\n",
    "dataframe =  pd.DataFrame(data=points, columns=[\"longitude\", \"latitude\"])"
   ]
  },
  {
   "cell_type": "code",
   "execution_count": 10,
   "id": "7a7d2d0a-d6ac-46dc-926d-9b15f6c1afd8",
   "metadata": {},
   "outputs": [
    {
     "name": "stdout",
     "output_type": "stream",
     "text": [
      "   longitude  latitude  bathymetry\n",
      "0    -51.613   -17.930  796.594345\n",
      "1    -48.917   -22.434  566.491844\n",
      "2    -50.444   -16.358  571.149279\n",
      "3    -50.721   -16.628  578.761169\n",
      "4    -51.394   -12.196  274.432055\n",
      "5    -50.207   -18.404  532.114449\n",
      "6    -52.560   -16.977  670.169344\n",
      "7    -51.866   -19.794  426.773008\n",
      "8    -48.001   -14.144  741.358241\n",
      "9    -54.438   -19.193  490.027167\n"
     ]
    }
   ],
   "source": [
    "output = pygmt.grdtrack(points=dataframe, grid=grid, newcolname=\"bathymetry\")\n",
    "assert isinstance(output, pd.DataFrame)\n",
    "assert output.columns.to_list() == [\"longitude\", \"latitude\", \"bathymetry\"]\n",
    "print(output)"
   ]
  },
  {
   "cell_type": "code",
   "execution_count": 19,
   "id": "bdb51ae1-c290-46a6-afa6-626e0779d91e",
   "metadata": {},
   "outputs": [
    {
     "data": {
      "text/plain": [
       "array([], shape=(10, 0), dtype=float64)"
      ]
     },
     "execution_count": 19,
     "metadata": {},
     "output_type": "execute_result"
    }
   ],
   "source": [
    "np.array(output)[:, 3:3]"
   ]
  },
  {
   "cell_type": "code",
   "execution_count": 18,
   "id": "bcac6e0d-db1d-4343-99e0-6f9d68d09baa",
   "metadata": {},
   "outputs": [
    {
     "data": {
      "text/plain": [
       "array([[-51.613     , -17.93      , 796.59434514],\n",
       "       [-48.917     , -22.434     , 566.49184359],\n",
       "       [-50.444     , -16.358     , 571.1492788 ],\n",
       "       [-50.721     , -16.628     , 578.76116859],\n",
       "       [-51.394     , -12.196     , 274.43205501],\n",
       "       [-50.207     , -18.404     , 532.11444935],\n",
       "       [-52.56      , -16.977     , 670.16934401],\n",
       "       [-51.866     , -19.794     , 426.77300768],\n",
       "       [-48.001     , -14.144     , 741.35824074],\n",
       "       [-54.438     , -19.193     , 490.02716679]])"
      ]
     },
     "execution_count": 18,
     "metadata": {},
     "output_type": "execute_result"
    }
   ],
   "source": [
    "np.array(output)"
   ]
  },
  {
   "cell_type": "code",
   "execution_count": null,
   "id": "bb780f18-2456-4345-8441-bb71ec9791ec",
   "metadata": {},
   "outputs": [],
   "source": []
  },
  {
   "cell_type": "code",
   "execution_count": null,
   "id": "40f8cb3b-aaea-4ede-94b6-9ca7ed027269",
   "metadata": {},
   "outputs": [],
   "source": []
  },
  {
   "cell_type": "code",
   "execution_count": null,
   "id": "c96644a8-ba45-4124-8df3-0c9031ff0f63",
   "metadata": {},
   "outputs": [],
   "source": []
  },
  {
   "cell_type": "code",
   "execution_count": null,
   "id": "87cb21da-7275-4f4c-ada9-4180179327d1",
   "metadata": {},
   "outputs": [],
   "source": []
  },
  {
   "cell_type": "code",
   "execution_count": null,
   "id": "9c4f0081-ac81-4388-90ed-fbf970124c5f",
   "metadata": {},
   "outputs": [],
   "source": []
  }
 ],
 "metadata": {
  "kernelspec": {
   "display_name": "Python 3 (ipykernel)",
   "language": "python",
   "name": "python3"
  },
  "language_info": {
   "codemirror_mode": {
    "name": "ipython",
    "version": 3
   },
   "file_extension": ".py",
   "mimetype": "text/x-python",
   "name": "python",
   "nbconvert_exporter": "python",
   "pygments_lexer": "ipython3",
   "version": "3.9.9"
  }
 },
 "nbformat": 4,
 "nbformat_minor": 5
}
