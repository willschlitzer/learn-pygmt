{
 "cells": [
  {
   "cell_type": "code",
   "execution_count": 3,
   "id": "7c0c0f1f-1e89-4b96-b3f7-61ee6b8a6864",
   "metadata": {},
   "outputs": [],
   "source": [
    "import pygmt\n",
    "from pygmt.helpers.testing import load_static_earth_relief\n",
    "grid = load_static_earth_relief()"
   ]
  },
  {
   "cell_type": "code",
   "execution_count": 6,
   "id": "4996ecc9-9fa7-4cc3-b5df-e3afe078452b",
   "metadata": {},
   "outputs": [],
   "source": [
    "test_output = pygmt.grdvolume(grid=grid, contour=[200, 400, 50], region=[-53, -50, -22, -20], output_type=\"numpy\")"
   ]
  },
  {
   "cell_type": "code",
   "execution_count": 7,
   "id": "56798718-07fc-4c08-aec0-f170a61208a8",
   "metadata": {},
   "outputs": [
    {
     "data": {
      "text/plain": [
       "array([[2.00000000e+02, 2.30079975e+10, 3.92142453e+12, 1.70437454e+02],\n",
       "       [2.50000000e+02, 2.30079975e+10, 2.77102465e+12, 1.20437454e+02],\n",
       "       [3.00000000e+02, 2.30079975e+10, 1.62062477e+12, 7.04374542e+01],\n",
       "       [3.50000000e+02, 1.76916116e+10, 4.53991397e+11, 2.56613930e+01],\n",
       "       [4.00000000e+02, 2.81602292e+09, 2.34764859e+10, 8.33675242e+00]])"
      ]
     },
     "execution_count": 7,
     "metadata": {},
     "output_type": "execute_result"
    }
   ],
   "source": [
    "test_output"
   ]
  },
  {
   "cell_type": "code",
   "execution_count": null,
   "id": "fa2ce202-75c3-42d0-887c-10292ee4d3a7",
   "metadata": {},
   "outputs": [],
   "source": []
  }
 ],
 "metadata": {
  "kernelspec": {
   "display_name": "Python 3 (ipykernel)",
   "language": "python",
   "name": "python3"
  },
  "language_info": {
   "codemirror_mode": {
    "name": "ipython",
    "version": 3
   },
   "file_extension": ".py",
   "mimetype": "text/x-python",
   "name": "python",
   "nbconvert_exporter": "python",
   "pygments_lexer": "ipython3",
   "version": "3.9.9"
  }
 },
 "nbformat": 4,
 "nbformat_minor": 5
}
