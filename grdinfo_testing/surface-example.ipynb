{
 "cells": [
  {
   "cell_type": "code",
   "execution_count": 8,
   "id": "cf173e73-31d7-41c8-9aa3-74f149e12963",
   "metadata": {},
   "outputs": [],
   "source": [
    "import pygmt"
   ]
  },
  {
   "cell_type": "code",
   "execution_count": 9,
   "id": "12f15040-f23e-44bc-86bc-136f1b4154b3",
   "metadata": {},
   "outputs": [],
   "source": [
    "data = pygmt.datasets.load_sample_data(name=\"notre_dame_topography\")\n",
    "region = [0, 4, 0, 8]\n",
    "spacing = 1"
   ]
  },
  {
   "cell_type": "code",
   "execution_count": 10,
   "id": "751724b0-f36b-49b9-ba42-2222438f4867",
   "metadata": {},
   "outputs": [
    {
     "name": "stderr",
     "output_type": "stream",
     "text": [
      "surface [WARNING]: 1 unusable points were supplied; these will be ignored.\n",
      "surface [WARNING]: You should have pre-processed the data with block-mean, -median, or -mode.\n",
      "surface [WARNING]: Check that previous processing steps write results with enough decimals.\n",
      "surface [WARNING]: Possibly some data were half-way between nodes and subject to IEEE 754 rounding.\n"
     ]
    }
   ],
   "source": [
    "output = pygmt.surface(\n",
    "        data=\"@Table_5_11_mean.xyz\",\n",
    "        spacing=spacing,\n",
    "        region=region,)"
   ]
  },
  {
   "cell_type": "code",
   "execution_count": 11,
   "id": "06460b7f-2c18-4922-b476-b084b9e7f340",
   "metadata": {},
   "outputs": [
    {
     "name": "stdout",
     "output_type": "stream",
     "text": [
      "<xarray.DataArray 'z' (y: 9, x: 5)>\n",
      "array([[962.23615, 909.526  , 872.2578 , 876.5983 , 950.573  ],\n",
      "       [944.369  , 905.82526, 872.1614 , 901.85834, 943.6854 ],\n",
      "       [911.05994, 865.305  , 845.5058 , 855.7317 , 867.16376],\n",
      "       [878.5973 , 851.71   , 814.6884 , 812.11273, 819.9591 ],\n",
      "       [842.05225, 815.28955, 788.2292 , 777.0031 , 785.63446],\n",
      "       [854.25146, 813.30347, 781.     , 742.36414, 735.64966],\n",
      "       [882.97205, 818.46356, 773.611  , 718.7798 , 685.4824 ],\n",
      "       [897.45325, 822.9642 , 756.4472 , 687.594  , 626.22986],\n",
      "       [910.29315, 823.33075, 737.9952 , 651.4994 , 565.9981 ]],\n",
      "      dtype=float32)\n",
      "Coordinates:\n",
      "  * x        (x) float64 0.0 1.0 2.0 3.0 4.0\n",
      "  * y        (y) float64 0.0 1.0 2.0 3.0 4.0 5.0 6.0 7.0 8.0\n",
      "Attributes:\n",
      "    long_name:     z\n",
      "    actual_range:  [565.99810791 962.23614502]\n"
     ]
    }
   ],
   "source": [
    "print(output)"
   ]
  },
  {
   "cell_type": "code",
   "execution_count": 12,
   "id": "f49c31de-d5d0-4657-a3db-1713e282ad1c",
   "metadata": {},
   "outputs": [
    {
     "name": "stderr",
     "output_type": "stream",
     "text": [
      "surface [WARNING]: 9 unusable points were supplied; these will be ignored.\n",
      "surface [WARNING]: You should have pre-processed the data with block-mean, -median, or -mode.\n",
      "surface [WARNING]: Check that previous processing steps write results with enough decimals.\n",
      "surface [WARNING]: Possibly some data were half-way between nodes and subject to IEEE 754 rounding.\n"
     ]
    }
   ],
   "source": [
    "output = pygmt.surface(\n",
    "        data=data,\n",
    "        spacing=spacing,\n",
    "        region=region,)"
   ]
  },
  {
   "cell_type": "code",
   "execution_count": 13,
   "id": "04a5e62e-c5b2-465c-a5d0-c8ef4b1b5ddb",
   "metadata": {},
   "outputs": [
    {
     "name": "stdout",
     "output_type": "stream",
     "text": [
      "<xarray.DataArray 'z' (y: 9, x: 5)>\n",
      "array([[962.639  , 909.7762 , 873.0261 , 877.0729 , 940.8464 ],\n",
      "       [945.3841 , 904.2501 , 866.25635, 901.1552 , 948.70386],\n",
      "       [912.0163 , 861.9804 , 836.4513 , 862.0307 , 896.83466],\n",
      "       [878.88403, 851.3776 , 815.74713, 818.59717, 836.73505],\n",
      "       [841.80444, 817.0826 , 796.6586 , 778.1159 , 784.14954],\n",
      "       [852.33276, 808.5483 , 770.8903 , 733.4931 , 733.37036],\n",
      "       [882.9752 , 817.4882 , 771.0639 , 718.0874 , 690.6312 ],\n",
      "       [899.2656 , 825.39166, 759.5787 , 693.04266, 635.7768 ],\n",
      "       [913.845  , 828.9891 , 745.82965, 661.95483, 579.50903]],\n",
      "      dtype=float32)\n",
      "Coordinates:\n",
      "  * x        (x) float64 0.0 1.0 2.0 3.0 4.0\n",
      "  * y        (y) float64 0.0 1.0 2.0 3.0 4.0 5.0 6.0 7.0 8.0\n",
      "Attributes:\n",
      "    long_name:     z\n",
      "    actual_range:  [579.5090332  962.63897705]\n"
     ]
    }
   ],
   "source": [
    "print(output)"
   ]
  },
  {
   "cell_type": "code",
   "execution_count": null,
   "id": "614a09d4-6dcc-4235-b85f-e8754ecd030c",
   "metadata": {},
   "outputs": [],
   "source": []
  }
 ],
 "metadata": {
  "kernelspec": {
   "display_name": "Python 3 (ipykernel)",
   "language": "python",
   "name": "python3"
  },
  "language_info": {
   "codemirror_mode": {
    "name": "ipython",
    "version": 3
   },
   "file_extension": ".py",
   "mimetype": "text/x-python",
   "name": "python",
   "nbconvert_exporter": "python",
   "pygments_lexer": "ipython3",
   "version": "3.9.9"
  }
 },
 "nbformat": 4,
 "nbformat_minor": 5
}
