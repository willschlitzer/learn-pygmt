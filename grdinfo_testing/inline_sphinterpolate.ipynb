{
 "cells": [
  {
   "cell_type": "code",
   "execution_count": 1,
   "id": "f9447fb4-4633-4a82-9bdb-b0b77d8b1ad3",
   "metadata": {},
   "outputs": [],
   "source": [
    "import pygmt"
   ]
  },
  {
   "cell_type": "code",
   "execution_count": 2,
   "id": "b670c61e-49cc-4f65-9d13-72fcade37a13",
   "metadata": {},
   "outputs": [],
   "source": [
    "mars_shape = pygmt.datasets.load_sample_data(\"mars_shape\")"
   ]
  },
  {
   "cell_type": "code",
   "execution_count": 3,
   "id": "312efde9-86e3-48dd-b263-96b76206fd80",
   "metadata": {},
   "outputs": [],
   "source": [
    "grid = pygmt.sphinterpolate(data=mars_shape, spacing=1, region=\"g\")"
   ]
  },
  {
   "cell_type": "code",
   "execution_count": 4,
   "id": "baf08f16-c13b-4d51-8700-fda368462b8b",
   "metadata": {},
   "outputs": [
    {
     "name": "stdout",
     "output_type": "stream",
     "text": [
      "<xarray.DataArray 'z' (lat: 181, lon: 361)>\n",
      "array([[ 3716.746 ,  3716.746 ,  3716.746 , ...,  3716.746 ,  3716.746 ,\n",
      "         3716.746 ],\n",
      "       [ 3641.7764,  3642.924 ,  3644.0745, ...,  3639.4902,  3640.6316,\n",
      "         3641.7764],\n",
      "       [ 3631.8354,  3634.1326,  3636.4355, ...,  3627.2603,  3629.5444,\n",
      "         3631.8354],\n",
      "       ...,\n",
      "       [-1960.8583, -1959.5143, -1958.0068, ..., -1963.0549, -1962.0386,\n",
      "        -1960.8583],\n",
      "       [-1746.8477, -1746.3579, -1745.8523, ..., -1747.7788, -1747.3214,\n",
      "        -1746.8477],\n",
      "       [-1719.4928, -1719.4928, -1719.4928, ..., -1719.4928, -1719.4928,\n",
      "        -1719.4928]], dtype=float32)\n",
      "Coordinates:\n",
      "  * lon      (lon) float64 0.0 1.0 2.0 3.0 4.0 ... 356.0 357.0 358.0 359.0 360.0\n",
      "  * lat      (lat) float64 -90.0 -89.0 -88.0 -87.0 -86.0 ... 87.0 88.0 89.0 90.0\n",
      "Attributes:\n",
      "    long_name:     z\n",
      "    actual_range:  [-6908.19873047 14628.14355469]\n"
     ]
    }
   ],
   "source": [
    "print(grid)"
   ]
  },
  {
   "cell_type": "code",
   "execution_count": null,
   "id": "e7dd8e40-60cf-4084-89ff-7d9a0f9d8b5d",
   "metadata": {},
   "outputs": [],
   "source": []
  }
 ],
 "metadata": {
  "kernelspec": {
   "display_name": "Python 3 (ipykernel)",
   "language": "python",
   "name": "python3"
  },
  "language_info": {
   "codemirror_mode": {
    "name": "ipython",
    "version": 3
   },
   "file_extension": ".py",
   "mimetype": "text/x-python",
   "name": "python",
   "nbconvert_exporter": "python",
   "pygments_lexer": "ipython3",
   "version": "3.9.9"
  }
 },
 "nbformat": 4,
 "nbformat_minor": 5
}
