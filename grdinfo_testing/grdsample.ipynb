{
 "cells": [
  {
   "cell_type": "code",
   "execution_count": 1,
   "id": "64e0f0a5-bf9a-43d2-9d56-36ffac5fde6f",
   "metadata": {},
   "outputs": [],
   "source": [
    "import pygmt\n",
    "from pygmt.helpers.testing import load_static_earth_relief"
   ]
  },
  {
   "cell_type": "code",
   "execution_count": 2,
   "id": "d1684829-88b5-479f-80bb-455f09559f45",
   "metadata": {},
   "outputs": [],
   "source": [
    "grid = load_static_earth_relief()"
   ]
  },
  {
   "cell_type": "code",
   "execution_count": 3,
   "id": "4d20638e-ef8c-4ed9-8717-183b30b478f9",
   "metadata": {},
   "outputs": [
    {
     "name": "stderr",
     "output_type": "stream",
     "text": [
      "grdsample [WARNING]: Output sampling interval in x exceeds input interval and may lead to aliasing.\n"
     ]
    }
   ],
   "source": [
    "result = pygmt.grdsample(grid=grid, spacing=[2, 1], region=[-53, -47, -20, -15])"
   ]
  },
  {
   "cell_type": "code",
   "execution_count": 4,
   "id": "879ae637-8d3e-4e06-9f70-e54da44f3fd9",
   "metadata": {},
   "outputs": [
    {
     "name": "stdout",
     "output_type": "stream",
     "text": [
      "<xarray.DataArray 'z' (lat: 5, lon: 3)>\n",
      "array([[460.84375, 482.78125, 891.09375],\n",
      "       [680.46875, 519.09375, 764.9375 ],\n",
      "       [867.75   , 579.03125, 852.53125],\n",
      "       [551.75   , 666.6875 , 958.21875],\n",
      "       [411.3125 , 518.4375 , 931.28125]], dtype=float32)\n",
      "Coordinates:\n",
      "  * lon      (lon) float64 -52.0 -50.0 -48.0\n",
      "  * lat      (lat) float64 -19.5 -18.5 -17.5 -16.5 -15.5\n",
      "Attributes:\n",
      "    long_name:     z\n",
      "    actual_range:  [411.3125  958.21875]\n"
     ]
    }
   ],
   "source": [
    "print(result)"
   ]
  },
  {
   "cell_type": "code",
   "execution_count": 5,
   "id": "9da6218e-d8fd-4ec4-819f-4ed61a81aa9a",
   "metadata": {},
   "outputs": [
    {
     "name": "stdout",
     "output_type": "stream",
     "text": [
      "<xarray.DataArray 'lon' (lon: 3)>\n",
      "array([-52., -50., -48.])\n",
      "Coordinates:\n",
      "  * lon      (lon) float64 -52.0 -50.0 -48.0\n",
      "Attributes:\n",
      "    long_name:      longitude\n",
      "    units:          degrees_east\n",
      "    standard_name:  longitude\n",
      "    axis:           X\n",
      "    actual_range:   [-53. -47.]\n"
     ]
    }
   ],
   "source": [
    "print(result.lon)"
   ]
  },
  {
   "cell_type": "code",
   "execution_count": 6,
   "id": "d1d23152-b410-4e28-93b8-62fa1efedf0f",
   "metadata": {},
   "outputs": [
    {
     "name": "stdout",
     "output_type": "stream",
     "text": [
      "<xarray.DataArray 'lat' (lat: 5)>\n",
      "array([-19.5, -18.5, -17.5, -16.5, -15.5])\n",
      "Coordinates:\n",
      "  * lat      (lat) float64 -19.5 -18.5 -17.5 -16.5 -15.5\n",
      "Attributes:\n",
      "    long_name:      latitude\n",
      "    units:          degrees_north\n",
      "    standard_name:  latitude\n",
      "    axis:           Y\n",
      "    actual_range:   [-20. -15.]\n"
     ]
    }
   ],
   "source": [
    "print(result.lat)"
   ]
  }
 ],
 "metadata": {
  "kernelspec": {
   "display_name": "Python 3 (ipykernel)",
   "language": "python",
   "name": "python3"
  },
  "language_info": {
   "codemirror_mode": {
    "name": "ipython",
    "version": 3
   },
   "file_extension": ".py",
   "mimetype": "text/x-python",
   "name": "python",
   "nbconvert_exporter": "python",
   "pygments_lexer": "ipython3",
   "version": "3.9.9"
  }
 },
 "nbformat": 4,
 "nbformat_minor": 5
}
