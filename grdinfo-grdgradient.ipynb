{
 "cells": [
  {
   "cell_type": "code",
   "execution_count": 20,
   "id": "50cc0cdf-6c59-4168-b972-efa9d2f42837",
   "metadata": {},
   "outputs": [],
   "source": [
    "import pygmt"
   ]
  },
  {
   "cell_type": "code",
   "execution_count": 33,
   "id": "e020ee09-dd80-4809-9e04-463771e0ffd6",
   "metadata": {},
   "outputs": [],
   "source": [
    "grid = pygmt.datasets.load_earth_relief(resolution=\"01d\", registration=\"pixel\", region=[124, 130, -25, -20])"
   ]
  },
  {
   "cell_type": "code",
   "execution_count": 34,
   "id": "bd19b08a-116f-4d00-8ae4-2dc02bd789be",
   "metadata": {},
   "outputs": [
    {
     "name": "stderr",
     "output_type": "stream",
     "text": [
      "grdsample [WARNING]: Output sampling interval in x exceeds input interval and may lead to aliasing.\n"
     ]
    }
   ],
   "source": [
    "result = pygmt.grdsample(grid=grid, spacing=[2, 1])"
   ]
  },
  {
   "cell_type": "code",
   "execution_count": 35,
   "id": "626251c4-28ed-454b-8142-8c5732f712f3",
   "metadata": {},
   "outputs": [
    {
     "name": "stdout",
     "output_type": "stream",
     "text": [
      "<xarray.DataArray 'z' (lat: 5, lon: 3)>\n",
      "array([[433.65625, 447.96875, 540.0625 ],\n",
      "       [397.28125, 386.15625, 484.125  ],\n",
      "       [334.96875, 417.25   , 385.1875 ],\n",
      "       [303.40625, 373.625  , 395.     ],\n",
      "       [311.15625, 321.15625, 389.875  ]], dtype=float32)\n",
      "Coordinates:\n",
      "  * lon      (lon) float64 125.0 127.0 129.0\n",
      "  * lat      (lat) float64 -24.5 -23.5 -22.5 -21.5 -20.5\n",
      "Attributes:\n",
      "    long_name:     z\n",
      "    actual_range:  [303.40625 540.0625 ]\n"
     ]
    }
   ],
   "source": [
    "print(result)"
   ]
  },
  {
   "cell_type": "code",
   "execution_count": 28,
   "id": "e2d81d51-08f5-4a4e-a748-de35d9624fd8",
   "metadata": {},
   "outputs": [
    {
     "ename": "AttributeError",
     "evalue": "'DataArray' object has no attribute 'y'",
     "output_type": "error",
     "traceback": [
      "\u001b[0;31m---------------------------------------------------------------------------\u001b[0m",
      "\u001b[0;31mAttributeError\u001b[0m                            Traceback (most recent call last)",
      "\u001b[0;32m/tmp/ipykernel_25833/964217318.py\u001b[0m in \u001b[0;36m<module>\u001b[0;34m\u001b[0m\n\u001b[0;32m----> 1\u001b[0;31m \u001b[0mprint\u001b[0m\u001b[0;34m(\u001b[0m\u001b[0mresult\u001b[0m\u001b[0;34m.\u001b[0m\u001b[0my\u001b[0m\u001b[0;34m)\u001b[0m\u001b[0;34m\u001b[0m\u001b[0;34m\u001b[0m\u001b[0m\n\u001b[0m",
      "\u001b[0;32m~/miniconda3/envs/pygmt-dev/lib/python3.9/site-packages/xarray/core/common.py\u001b[0m in \u001b[0;36m__getattr__\u001b[0;34m(self, name)\u001b[0m\n\u001b[1;32m    237\u001b[0m                 \u001b[0;32mwith\u001b[0m \u001b[0msuppress\u001b[0m\u001b[0;34m(\u001b[0m\u001b[0mKeyError\u001b[0m\u001b[0;34m)\u001b[0m\u001b[0;34m:\u001b[0m\u001b[0;34m\u001b[0m\u001b[0;34m\u001b[0m\u001b[0m\n\u001b[1;32m    238\u001b[0m                     \u001b[0;32mreturn\u001b[0m \u001b[0msource\u001b[0m\u001b[0;34m[\u001b[0m\u001b[0mname\u001b[0m\u001b[0;34m]\u001b[0m\u001b[0;34m\u001b[0m\u001b[0;34m\u001b[0m\u001b[0m\n\u001b[0;32m--> 239\u001b[0;31m         raise AttributeError(\n\u001b[0m\u001b[1;32m    240\u001b[0m             \u001b[0;34m\"{!r} object has no attribute {!r}\"\u001b[0m\u001b[0;34m.\u001b[0m\u001b[0mformat\u001b[0m\u001b[0;34m(\u001b[0m\u001b[0mtype\u001b[0m\u001b[0;34m(\u001b[0m\u001b[0mself\u001b[0m\u001b[0;34m)\u001b[0m\u001b[0;34m.\u001b[0m\u001b[0m__name__\u001b[0m\u001b[0;34m,\u001b[0m \u001b[0mname\u001b[0m\u001b[0;34m)\u001b[0m\u001b[0;34m\u001b[0m\u001b[0;34m\u001b[0m\u001b[0m\n\u001b[1;32m    241\u001b[0m         )\n",
      "\u001b[0;31mAttributeError\u001b[0m: 'DataArray' object has no attribute 'y'"
     ]
    }
   ],
   "source": [
    "print(result.y)"
   ]
  },
  {
   "cell_type": "code",
   "execution_count": null,
   "id": "b6cd2efb-98fa-4efc-87ab-d69da44c3992",
   "metadata": {},
   "outputs": [],
   "source": []
  }
 ],
 "metadata": {
  "kernelspec": {
   "display_name": "Python 3 (ipykernel)",
   "language": "python",
   "name": "python3"
  },
  "language_info": {
   "codemirror_mode": {
    "name": "ipython",
    "version": 3
   },
   "file_extension": ".py",
   "mimetype": "text/x-python",
   "name": "python",
   "nbconvert_exporter": "python",
   "pygments_lexer": "ipython3",
   "version": "3.9.9"
  }
 },
 "nbformat": 4,
 "nbformat_minor": 5
}
