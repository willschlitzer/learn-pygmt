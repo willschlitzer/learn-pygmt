{
 "cells": [
  {
   "cell_type": "code",
   "execution_count": 3,
   "id": "59041d85-86e8-498a-858a-9fd57ea1b6b7",
   "metadata": {},
   "outputs": [],
   "source": [
    "import pygmt"
   ]
  },
  {
   "cell_type": "code",
   "execution_count": 7,
   "id": "5e9ae9a4-155e-47a7-898b-ed497a855918",
   "metadata": {},
   "outputs": [],
   "source": [
    "grid = pygmt.datasets.load_earth_relief(registration=\"pixel\", region=[125, 130, -25, -20])"
   ]
  },
  {
   "cell_type": "code",
   "execution_count": 8,
   "id": "0e879c1f-6478-4c68-9576-a2a5f9c38788",
   "metadata": {},
   "outputs": [],
   "source": [
    "result = pygmt.grdfilter(grid=grid, filter=\"g600\", distance=\"4\")"
   ]
  },
  {
   "cell_type": "code",
   "execution_count": 9,
   "id": "663796f8-f234-44ff-9fe2-c041f0b8b8b4",
   "metadata": {},
   "outputs": [
    {
     "name": "stdout",
     "output_type": "stream",
     "text": [
      "<xarray.DataArray 'z' (lat: 5, lon: 5)>\n",
      "array([[420.08807, 426.77594, 447.09592, 472.27304, 489.7439 ],\n",
      "       [396.38043, 404.6039 , 422.78824, 443.64108, 460.98114],\n",
      "       [371.33716, 383.5158 , 395.80002, 406.05035, 418.44943],\n",
      "       [342.4835 , 357.37195, 368.98615, 380.39688, 394.0022 ],\n",
      "       [316.79086, 332.9292 , 350.14505, 369.29675, 384.69217]],\n",
      "      dtype=float32)\n",
      "Coordinates:\n",
      "  * lon      (lon) float64 125.5 126.5 127.5 128.5 129.5\n",
      "  * lat      (lat) float64 -24.5 -23.5 -22.5 -21.5 -20.5\n",
      "Attributes:\n",
      "    long_name:     z\n",
      "    actual_range:  [316.79086304 489.74389648]\n"
     ]
    }
   ],
   "source": [
    "print(result)"
   ]
  },
  {
   "cell_type": "code",
   "execution_count": 10,
   "id": "4c367987-8b47-49b6-9498-48727dc17afe",
   "metadata": {},
   "outputs": [
    {
     "name": "stdout",
     "output_type": "stream",
     "text": [
      "<xarray.DataArray 'elevation' (lat: 5, lon: 5)>\n",
      "array([[442.5, 439. , 462.5, 503.5, 508. ],\n",
      "       [393. , 364.5, 415.5, 448.5, 506.5],\n",
      "       [362. , 401. , 422.5, 373.5, 402.5],\n",
      "       [321.5, 378. , 361.5, 356. , 422.5],\n",
      "       [282.5, 318. , 326.5, 379.5, 383.5]], dtype=float32)\n",
      "Coordinates:\n",
      "  * lon      (lon) float64 125.5 126.5 127.5 128.5 129.5\n",
      "  * lat      (lat) float64 -24.5 -23.5 -22.5 -21.5 -20.5\n",
      "Attributes:\n",
      "    long_name:         elevation relative to the geoid\n",
      "    units:             meters\n",
      "    vertical_datum:    EMG96\n",
      "    horizontal_datum:  WGS84\n"
     ]
    }
   ],
   "source": [
    "print(grid)"
   ]
  },
  {
   "cell_type": "code",
   "execution_count": null,
   "id": "1931f525-3b5e-4be1-94de-2c01f33b5686",
   "metadata": {},
   "outputs": [],
   "source": []
  }
 ],
 "metadata": {
  "kernelspec": {
   "display_name": "Python 3 (ipykernel)",
   "language": "python",
   "name": "python3"
  },
  "language_info": {
   "codemirror_mode": {
    "name": "ipython",
    "version": 3
   },
   "file_extension": ".py",
   "mimetype": "text/x-python",
   "name": "python",
   "nbconvert_exporter": "python",
   "pygments_lexer": "ipython3",
   "version": "3.9.9"
  }
 },
 "nbformat": 4,
 "nbformat_minor": 5
}
