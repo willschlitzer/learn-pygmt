{
 "cells": [
  {
   "cell_type": "code",
   "execution_count": 12,
   "id": "f28f4d20",
   "metadata": {},
   "outputs": [],
   "source": [
    "import pygmt\n",
    "import pandas as pd\n",
    "import numpy as np"
   ]
  },
  {
   "cell_type": "code",
   "execution_count": 13,
   "id": "a670e192",
   "metadata": {},
   "outputs": [
    {
     "name": "stderr",
     "output_type": "stream",
     "text": [
      "xyz2grd [WARNING]: 4 values gave bad indices: Pixel vs Gridline registration confusion?\n"
     ]
    }
   ],
   "source": [
    "output = pygmt.xyz2grd(table=\"grd-may21.txt\", region = [-10, 1, -1, 1], increment=1)"
   ]
  },
  {
   "cell_type": "code",
   "execution_count": 14,
   "id": "3dca468c",
   "metadata": {},
   "outputs": [],
   "source": [
    "data = \"\"\"-4.5 4.5 -2899.5\n",
    "-3.5 4.5 -2042\n",
    "-2.5 4.5 -656\n",
    "-1.5 4.5 -160\n",
    "-0.5 4.5 -3484.5\n",
    "0.5 4.5 -3897.5\n",
    "1.5 4.5 -3833\n",
    "2.5 4.5 -3833\n",
    "3.5 4.5 -2966.5\n",
    "4.5 4.5 -1247.5\n",
    "-4.5 3.5 -4154\n",
    "-3.5 3.5 -4148.5\n",
    "-2.5 3.5 -4115.5\n",
    "-1.5 3.5 -4996\n",
    "-0.5 3.5 -4762\n",
    "0.5 3.5 -4599\n",
    "1.5 3.5 -4355.5\n",
    "2.5 3.5 -4120.5\n",
    "3.5 3.5 -3771\n",
    "4.5 3.5 -3064.5\n",
    "-4.5 2.5 -4760.5\n",
    "-3.5 2.5 -4895\n",
    "-2.5 2.5 -5069.5\n",
    "-1.5 2.5 -5105\n",
    "-0.5 2.5 -4937\n",
    "0.5 2.5 -4708\n",
    "1.5 2.5 -4537.5\n",
    "2.5 2.5 -4370.5\n",
    "3.5 2.5 -4062.5\n",
    "4.5 2.5 -3742.5\n",
    "-4.5 1.5 -5074\n",
    "-3.5 1.5 -5099.5\n",
    "-2.5 1.5 -5122\n",
    "-1.5 1.5 -5059.5\n",
    "-0.5 1.5 -4984.5\n",
    "0.5 1.5 -4813.5\n",
    "1.5 1.5 -4675.5\n",
    "2.5 1.5 -4452\n",
    "3.5 1.5 -4208\n",
    "4.5 1.5 -3865.5\n",
    "-4.5 0.5 -5095.5\n",
    "-3.5 0.5 -5124\n",
    "-2.5 0.5 -5102.5\n",
    "-1.5 0.5 -5040\n",
    "-0.5 0.5 -4967\n",
    "0.5 0.5 -4852\n",
    "1.5 0.5 -4697.5\n",
    "2.5 0.5 -4422\n",
    "3.5 0.5 -4213\n",
    "4.5 0.5 -3966.5\n",
    "-4.5 -0.5 -5115.5\n",
    "-3.5 -0.5 -5130.5\n",
    "-2.5 -0.5 -5019.5\n",
    "-1.5 -0.5 -5008\n",
    "-0.5 -0.5 -4917\n",
    "0.5 -0.5 -4747.5\n",
    "1.5 -0.5 -4431.5\n",
    "2.5 -0.5 -4176\n",
    "3.5 -0.5 -4169.5\n",
    "4.5 -0.5 -3992\n",
    "-4.5 -1.5 -4988\n",
    "-3.5 -1.5 -5068\n",
    "-2.5 -1.5 -4964.5\n",
    "-1.5 -1.5 -4771\n",
    "-0.5 -1.5 -4635.5\n",
    "0.5 -1.5 -4396.5\n",
    "1.5 -1.5 -4469.5\n",
    "2.5 -1.5 -4305.5\n",
    "3.5 -1.5 -4111.5\n",
    "4.5 -1.5 -3679\n",
    "-4.5 -2.5 -4875\n",
    "-3.5 -2.5 -4867\n",
    "-2.5 -2.5 -4762\n",
    "-1.5 -2.5 -4788\n",
    "-0.5 -2.5 -4680.5\n",
    "0.5 -2.5 -4545\n",
    "1.5 -2.5 -4377\n",
    "2.5 -2.5 -4095.5\n",
    "3.5 -2.5 -3960\n",
    "4.5 -2.5 -4166\n",
    "-4.5 -3.5 -4684.5\n",
    "-3.5 -3.5 -4759.5\n",
    "-2.5 -3.5 -4615\n",
    "-1.5 -3.5 -4389.5\n",
    "-0.5 -3.5 -4034\n",
    "0.5 -3.5 -4130\n",
    "1.5 -3.5 -3763.5\n",
    "2.5 -3.5 -4578\n",
    "3.5 -3.5 -4262.5\n",
    "4.5 -3.5 -4667\n",
    "-4.5 -4.5 -4560\n",
    "-3.5 -4.5 -4421\n",
    "-2.5 -4.5 -4341\n",
    "-1.5 -4.5 -4664\n",
    "-0.5 -4.5 -4578\n",
    "0.5 -4.5 -4642\n",
    "1.5 -4.5 -4796\n",
    "2.5 -4.5 -5001.5\n",
    "3.5 -4.5 -4578\n",
    "4.5 -4.5 -4678\"\"\""
   ]
  },
  {
   "cell_type": "code",
   "execution_count": 15,
   "id": "d2abbda0",
   "metadata": {},
   "outputs": [],
   "source": [
    "split_data = data.strip().split(\"\\n\")\n",
    "#print(split_data)\n",
    "new_data = []\n",
    "for entry in split_data:\n",
    "    entry_list = []\n",
    "    split_entry = entry.split(\" \")\n",
    "    for item in split_entry:\n",
    "        entry_list.append(float(item))\n",
    "    new_data.append(entry_list)\n",
    "#print(new_data)\n",
    "df = pd.DataFrame(new_data)\n",
    "array= np.array(new_data)"
   ]
  },
  {
   "cell_type": "code",
   "execution_count": 16,
   "id": "7c7f301e",
   "metadata": {},
   "outputs": [],
   "source": [
    "output = pygmt.xyz2grd(table=array, region = [-7, 1, -1, 1], increment=1)"
   ]
  },
  {
   "cell_type": "code",
   "execution_count": 17,
   "id": "b9369f25",
   "metadata": {},
   "outputs": [
    {
     "name": "stdout",
     "output_type": "stream",
     "text": [
      ": Title: \n",
      ": Command: \n",
      ": Remark: \n",
      ": Gridline node registration used [Cartesian grid]\n",
      ": Grid file format: nf = GMT netCDF format (32-bit float), CF-1.7\n",
      ": x_min: -7 x_max: 1 x_inc: 1 name: x n_columns: 9\n",
      ": y_min: -1 y_max: 1 y_inc: 1 name: y n_rows: 3\n",
      ": v_min: -5112 v_max: -4511.25 name: z\n",
      ": scale_factor: 1 add_offset: 0\n",
      ": format: classic\n",
      "\n"
     ]
    }
   ],
   "source": [
    "print(pygmt.grdinfo(grid=output))"
   ]
  },
  {
   "cell_type": "code",
   "execution_count": null,
   "id": "e70a04a5",
   "metadata": {},
   "outputs": [],
   "source": []
  },
  {
   "cell_type": "code",
   "execution_count": null,
   "id": "c2e6ebfd",
   "metadata": {},
   "outputs": [],
   "source": []
  }
 ],
 "metadata": {
  "kernelspec": {
   "display_name": "Python 3",
   "language": "python",
   "name": "python3"
  },
  "language_info": {
   "codemirror_mode": {
    "name": "ipython",
    "version": 3
   },
   "file_extension": ".py",
   "mimetype": "text/x-python",
   "name": "python",
   "nbconvert_exporter": "python",
   "pygments_lexer": "ipython3",
   "version": "3.9.4"
  }
 },
 "nbformat": 4,
 "nbformat_minor": 5
}
