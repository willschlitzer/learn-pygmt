{
 "cells": [
  {
   "cell_type": "code",
   "execution_count": 4,
   "id": "94608716",
   "metadata": {},
   "outputs": [],
   "source": [
    "import pygmt\n",
    "#region = [-92, -90, -1, 1]\n",
    "import numpy as np\n",
    "import pytest\n",
    "import xarray as xr\n",
    "from pygmt import grdfill\n",
    "from pygmt.datasets import load_earth_relief\n"
   ]
  },
  {
   "cell_type": "code",
   "execution_count": 5,
   "id": "20b63c09",
   "metadata": {},
   "outputs": [],
   "source": [
    "#fig = pygmt.Figure()\n",
    "#pygmt.makecpt(cmap=\"turbo\", series=\"-5000/0\")\n",
    "#fig.grdimage(grid=\"gal_entire.nc\", region=region, cmap=True,  projection=\"M20c\", frame=\"a\")\n",
    "#fig.show()\n",
    "#new_grid = pygmt.grdfill(grid=\"gal_entire.nc\", mode=\"s*\")\n",
    "#fig = pygmt.Figure()\n",
    "#pygmt.makecpt(cmap=\"turbo\", series=\"-5000/0\")\n",
    "#fig.grdimage(grid=new_grid, region=region, cmap=True,  projection=\"M20c\", frame=\"a\")\n",
    "#fig.show()"
   ]
  },
  {
   "cell_type": "code",
   "execution_count": 10,
   "id": "6b8bb72b",
   "metadata": {},
   "outputs": [
    {
     "ename": "AssertionError",
     "evalue": "",
     "output_type": "error",
     "traceback": [
      "\u001b[0;31m---------------------------------------------------------------------------\u001b[0m",
      "\u001b[0;31mAssertionError\u001b[0m                            Traceback (most recent call last)",
      "\u001b[0;32m<ipython-input-10-0389027ff7ba>\u001b[0m in \u001b[0;36m<module>\u001b[0;34m\u001b[0m\n\u001b[1;32m      4\u001b[0m \u001b[0;34m\u001b[0m\u001b[0m\n\u001b[1;32m      5\u001b[0m \u001b[0;32massert\u001b[0m \u001b[0misinstance\u001b[0m\u001b[0;34m(\u001b[0m\u001b[0mresult\u001b[0m\u001b[0;34m,\u001b[0m \u001b[0mxr\u001b[0m\u001b[0;34m.\u001b[0m\u001b[0mDataArray\u001b[0m\u001b[0;34m)\u001b[0m\u001b[0;34m\u001b[0m\u001b[0;34m\u001b[0m\u001b[0m\n\u001b[0;32m----> 6\u001b[0;31m \u001b[0;32massert\u001b[0m \u001b[0mresult\u001b[0m\u001b[0;34m[\u001b[0m\u001b[0;36m10\u001b[0m\u001b[0;34m,\u001b[0m\u001b[0;36m10\u001b[0m\u001b[0;34m]\u001b[0m \u001b[0;34m==\u001b[0m \u001b[0;36m40\u001b[0m\u001b[0;34m\u001b[0m\u001b[0;34m\u001b[0m\u001b[0m\n\u001b[0m\u001b[1;32m      7\u001b[0m \u001b[0mprint\u001b[0m\u001b[0;34m(\u001b[0m\u001b[0mresult\u001b[0m\u001b[0;34m[\u001b[0m\u001b[0;36m10\u001b[0m\u001b[0;34m,\u001b[0m \u001b[0;36m10\u001b[0m\u001b[0;34m]\u001b[0m\u001b[0;34m)\u001b[0m\u001b[0;34m\u001b[0m\u001b[0;34m\u001b[0m\u001b[0m\n",
      "\u001b[0;31mAssertionError\u001b[0m: "
     ]
    }
   ],
   "source": [
    "grid = load_earth_relief(registration=\"pixel\")\n",
    "grid[10,10] = np.nan\n",
    "result = grdfill(grid=grid,mode=\"c20\")\n",
    "\n",
    "assert isinstance(result, xr.DataArray)\n",
    "assert result[10,10] == 10\n",
    "print(result[10, 10])"
   ]
  },
  {
   "cell_type": "code",
   "execution_count": null,
   "id": "d47a027d",
   "metadata": {},
   "outputs": [],
   "source": []
  }
 ],
 "metadata": {
  "kernelspec": {
   "display_name": "Python 3",
   "language": "python",
   "name": "python3"
  },
  "language_info": {
   "codemirror_mode": {
    "name": "ipython",
    "version": 3
   },
   "file_extension": ".py",
   "mimetype": "text/x-python",
   "name": "python",
   "nbconvert_exporter": "python",
   "pygments_lexer": "ipython3",
   "version": "3.9.4"
  }
 },
 "nbformat": 4,
 "nbformat_minor": 5
}
