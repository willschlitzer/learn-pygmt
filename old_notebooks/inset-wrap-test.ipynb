{
 "cells": [
  {
   "cell_type": "code",
   "execution_count": 1,
   "metadata": {},
   "outputs": [],
   "source": [
    "import pygmt"
   ]
  },
  {
   "cell_type": "code",
   "execution_count": 2,
   "metadata": {},
   "outputs": [
    {
     "ename": "AttributeError",
     "evalue": "'Figure' object has no attribute 'inset_begin'",
     "output_type": "error",
     "traceback": [
      "\u001B[0;31m---------------------------------------------------------------------------\u001B[0m",
      "\u001B[0;31mAttributeError\u001B[0m                            Traceback (most recent call last)",
      "\u001B[0;32m<ipython-input-2-0970edfc885f>\u001B[0m in \u001B[0;36m<module>\u001B[0;34m\u001B[0m\n\u001B[1;32m      1\u001B[0m \u001B[0mfig\u001B[0m\u001B[0;34m=\u001B[0m\u001B[0mpygmt\u001B[0m\u001B[0;34m.\u001B[0m\u001B[0mFigure\u001B[0m\u001B[0;34m(\u001B[0m\u001B[0;34m)\u001B[0m\u001B[0;34m\u001B[0m\u001B[0;34m\u001B[0m\u001B[0m\n\u001B[1;32m      2\u001B[0m \u001B[0mfig\u001B[0m\u001B[0;34m.\u001B[0m\u001B[0mcoast\u001B[0m\u001B[0;34m(\u001B[0m\u001B[0mregion\u001B[0m\u001B[0;34m=\u001B[0m\u001B[0;34m\"MG+r2\"\u001B[0m\u001B[0;34m,\u001B[0m \u001B[0mland\u001B[0m\u001B[0;34m=\u001B[0m\u001B[0;34m\"brown\"\u001B[0m\u001B[0;34m,\u001B[0m \u001B[0mwater\u001B[0m\u001B[0;34m=\u001B[0m\u001B[0;34m\"lightblue\"\u001B[0m\u001B[0;34m,\u001B[0m \u001B[0mshorelines\u001B[0m\u001B[0;34m=\u001B[0m\u001B[0;34m\"thin\"\u001B[0m\u001B[0;34m,\u001B[0m \u001B[0mframe\u001B[0m\u001B[0;34m=\u001B[0m\u001B[0;34m\"a\"\u001B[0m\u001B[0;34m)\u001B[0m\u001B[0;34m\u001B[0m\u001B[0;34m\u001B[0m\u001B[0m\n\u001B[0;32m----> 3\u001B[0;31m \u001B[0mfig\u001B[0m\u001B[0;34m.\u001B[0m\u001B[0minset_begin\u001B[0m\u001B[0;34m(\u001B[0m\u001B[0mD\u001B[0m\u001B[0;34m=\u001B[0m\u001B[0;34m\"jTL+w3.5c+o0.2c\"\u001B[0m\u001B[0;34m,\u001B[0m \u001B[0mmargin\u001B[0m\u001B[0;34m=\u001B[0m\u001B[0;36m0\u001B[0m\u001B[0;34m,\u001B[0m \u001B[0mborder\u001B[0m\u001B[0;34m=\u001B[0m\u001B[0;34m\"+pgreen\"\u001B[0m\u001B[0;34m)\u001B[0m\u001B[0;34m\u001B[0m\u001B[0;34m\u001B[0m\u001B[0m\n\u001B[0m\u001B[1;32m      4\u001B[0m \u001B[0;31m#fig.inset_begin(D=\"jTL+w3.5c\")\u001B[0m\u001B[0;34m\u001B[0m\u001B[0;34m\u001B[0m\u001B[0;34m\u001B[0m\u001B[0m\n\u001B[1;32m      5\u001B[0m \u001B[0;31m#fig.inset_begin(D=[44, 46, -14, -11], margin=[0, 1, 2, 3], border=\"+pred\")\u001B[0m\u001B[0;34m\u001B[0m\u001B[0;34m\u001B[0m\u001B[0;34m\u001B[0m\u001B[0m\n",
      "\u001B[0;31mAttributeError\u001B[0m: 'Figure' object has no attribute 'inset_begin'"
     ]
    }
   ],
   "source": [
    "fig=pygmt.Figure()\n",
    "fig.coast(region=\"MG+r2\", land=\"brown\", water=\"lightblue\", shorelines=\"thin\", frame=\"a\")\n",
    "fig.inset_begin(D=\"jTL+w3.5c+o0.2c\", margin=0, border=\"+pgreen\")\n",
    "#fig.inset_begin(D=\"jTL+w3.5c\")\n",
    "#fig.inset_begin(D=[44, 46, -14, -11], margin=[0, 1, 2, 3], border=\"+pred\")\n",
    "#fig.inset_begin(D=[44, 46, -14, -11], margin=\"0/1/2/3\", border=\"+pred\")\n",
    "fig.coast(region=\"g\", projection=\"G47/-20/4c\", G=\"gray\", S=\"white\", E=\"MG+gred\")\n",
    "#fig.basemap(frame=\"a\")\n",
    "fig.inset_end()\n",
    "#fig.basemap(frame=[\"a\", \"+tIceland\"])\n",
    "fig.show()"
   ]
  },
  {
   "cell_type": "code",
   "execution_count": null,
   "metadata": {},
   "outputs": [],
   "source": [
    "fig=pygmt.Figure()\n",
    "fig.coast(region=\"MG+r2\", land=\"brown\", water=\"lightblue\", shorelines=\"thin\", frame=\"a\")\n",
    "fig.inset_begin(location=\"jTL+w3.5c+o0.2c\", margin=0, border=\"+pgreen\")\n",
    "fig.coast(region=\"g\", projection=\"G47/-20/4c\", G=\"gray\", S=\"white\", E=\"MG+gred\")\n",
    "fig.inset_end()\n",
    "#fig.show()\n",
    "print(type(fig))"
   ]
  },
  {
   "cell_type": "code",
   "execution_count": null,
   "metadata": {},
   "outputs": [],
   "source": [
    "fig=pygmt.Figure()\n",
    "fig.coast(region=\"MG+r2\", land=\"brown\", water=\"lightblue\", shorelines=\"thin\", frame=\"a\")\n",
    "fig.inset_begin(D=\"jTL+w3.5c+o0.2c\", M=0, F=\"+pgreen\")\n",
    "fig.coast(region=\"g\", projection=\"G47/-20/4c\", G=\"gray\", S=\"white\", E=\"MG+gred\")\n",
    "fig.inset_end()\n",
    "#fig.show()\n",
    "print(type(fig))"
   ]
  },
  {
   "cell_type": "code",
   "execution_count": null,
   "metadata": {},
   "outputs": [],
   "source": [
    "fig_test = pygmt.Figure()\n",
    "fig_test.coast(\n",
    "        region=\"MG+r2\", land=\"brown\", water=\"lightblue\", shorelines=\"thin\", frame=\"a\"\n",
    "    )\n",
    "#fig_test.basemap(frame=\"+tTest\")\n",
    "fig_test.inset_begin(location=\"jTL+w3.5c+o0.2c\", margin=0, border=\"+pgreen\")\n",
    "fig_test.coast(\n",
    "        region=\"g\", projection=\"G47/-20/4c\", land=\"gray\", water=\"white\", E=\"MG+gred\"\n",
    "    )\n",
    "fig_test.inset_end()\n",
    "fig_test.basemap(frame=\"+tTest\")\n",
    "fig_test.show()"
   ]
  },
  {
   "cell_type": "code",
   "execution_count": null,
   "metadata": {},
   "outputs": [],
   "source": [
    "fig=pygmt.Figure()\n",
    "fig.coast(region=\"MG+r2\", land=\"brown\", water=\"lightblue\", shorelines=\"thin\", frame=\"a\")\n",
    "fig.inset_begin(D=\"jTL+w3.5c+o0.2c\", margin=0, border=\"+pgreen\")\n",
    "fig.coast(region=\"g\", projection=\"G47/-20/4c\", G=\"gray\", S=\"white\", E=\"MG+gred\")\n",
    "\n",
    "fig.inset_end()\n",
    "fig.show()"
   ]
  },
  {
   "cell_type": "code",
   "execution_count": null,
   "metadata": {},
   "outputs": [],
   "source": []
  }
 ],
 "metadata": {
  "kernelspec": {
   "display_name": "Python 3",
   "language": "python",
   "name": "python3"
  },
  "language_info": {
   "codemirror_mode": {
    "name": "ipython",
    "version": 3
   },
   "file_extension": ".py",
   "mimetype": "text/x-python",
   "name": "python",
   "nbconvert_exporter": "python",
   "pygments_lexer": "ipython3",
   "version": "3.9.1"
  }
 },
 "nbformat": 4,
 "nbformat_minor": 4
}