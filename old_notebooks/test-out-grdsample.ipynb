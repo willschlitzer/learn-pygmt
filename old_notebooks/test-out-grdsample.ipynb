{
 "cells": [
  {
   "cell_type": "code",
   "execution_count": 1,
   "id": "b46b622c-544a-4644-be86-2fab9f3b61c8",
   "metadata": {},
   "outputs": [],
   "source": [
    "import pygmt"
   ]
  },
  {
   "cell_type": "code",
   "execution_count": 30,
   "id": "d3b9931b-1559-44d7-8880-2513cf1b69b2",
   "metadata": {},
   "outputs": [],
   "source": [
    "grid = pygmt.datasets.load_earth_relief(registration=\"pixel\", region=[-5, 5, -5, 5], resolution=\"01d\",)"
   ]
  },
  {
   "cell_type": "code",
   "execution_count": 31,
   "id": "cc50711e-982a-436f-a251-22a232e1e551",
   "metadata": {},
   "outputs": [
    {
     "name": "stdout",
     "output_type": "stream",
     "text": [
      ": Title: \n",
      ": Command: \n",
      ": Remark: \n",
      ": Pixel node registration used [Geographic grid]\n",
      ": Grid file format: nf = GMT netCDF format (32-bit float), CF-1.7\n",
      ": x_min: -5 x_max: 5 x_inc: 1 name: x n_columns: 10\n",
      ": y_min: -5 y_max: 5 y_inc: 1 name: y n_rows: 10\n",
      ": v_min: -5130.5 v_max: -160 name: z\n",
      ": scale_factor: 1 add_offset: 0\n",
      ": format: classic\n",
      "\n"
     ]
    }
   ],
   "source": [
    "print(pygmt.grdinfo(grid))"
   ]
  },
  {
   "cell_type": "code",
   "execution_count": 34,
   "id": "e3a05b9d-db99-4748-82da-cbbe9cce85c8",
   "metadata": {},
   "outputs": [
    {
     "name": "stderr",
     "output_type": "stream",
     "text": [
      "grdsample [WARNING]: Output sampling interval in y exceeds input interval and may lead to aliasing.\n"
     ]
    }
   ],
   "source": [
    "new_grid = pygmt.grdsample(grid=grid, increment=[1, 2.5], registration=\"g\")"
   ]
  },
  {
   "cell_type": "code",
   "execution_count": 35,
   "id": "6d309a31-eaaf-4285-b37f-208fff3b8981",
   "metadata": {},
   "outputs": [
    {
     "name": "stdout",
     "output_type": "stream",
     "text": [
      ": Title: \n",
      ": Command: \n",
      ": Remark: \n",
      ": Gridline node registration used [Geographic grid]\n",
      ": Grid file format: nf = GMT netCDF format (32-bit float), CF-1.7\n",
      ": x_min: -5 x_max: 5 x_inc: 1 name: x n_columns: 11\n",
      ": y_min: -5 y_max: 5 y_inc: 2.5 name: y n_rows: 5\n",
      ": v_min: -1.55895201037e+17 v_max: 1.73216890041e+16 name: z\n",
      ": scale_factor: 1 add_offset: 0\n",
      ": format: classic\n",
      "\n"
     ]
    }
   ],
   "source": [
    "print(pygmt.grdinfo(new_grid))"
   ]
  },
  {
   "cell_type": "code",
   "execution_count": 22,
   "id": "4d892743-e587-4e39-b9d6-a11baefb60f6",
   "metadata": {},
   "outputs": [
    {
     "name": "stdout",
     "output_type": "stream",
     "text": [
      "['-15', '15', '-15', '15', '-5545.1796875', '1106.984375', '3', '5', '10', '6', '1', '1']\n"
     ]
    }
   ],
   "source": [
    "result = pygmt.grdinfo(grid=new_grid, per_column=True).strip().split()\n",
    "print(result)"
   ]
  },
  {
   "cell_type": "code",
   "execution_count": 27,
   "id": "b314164d-0c04-4d06-99e8-63e0d34fcf05",
   "metadata": {},
   "outputs": [
    {
     "name": "stdout",
     "output_type": "stream",
     "text": [
      "1\n"
     ]
    }
   ],
   "source": [
    "print(grid.gmt.registration)"
   ]
  },
  {
   "cell_type": "code",
   "execution_count": 28,
   "id": "828bcf9f-a287-4587-99dd-182dbed736f9",
   "metadata": {},
   "outputs": [
    {
     "name": "stdout",
     "output_type": "stream",
     "text": [
      "0\n"
     ]
    }
   ],
   "source": [
    "print(new_grid.gmt.registration)"
   ]
  },
  {
   "cell_type": "code",
   "execution_count": null,
   "id": "e52fb8ba-7a0e-448f-a364-fa0ce9f92fd0",
   "metadata": {},
   "outputs": [],
   "source": []
  }
 ],
 "metadata": {
  "kernelspec": {
   "display_name": "Python 3",
   "language": "python",
   "name": "python3"
  },
  "language_info": {
   "codemirror_mode": {
    "name": "ipython",
    "version": 3
   },
   "file_extension": ".py",
   "mimetype": "text/x-python",
   "name": "python",
   "nbconvert_exporter": "python",
   "pygments_lexer": "ipython3",
   "version": "3.9.4"
  }
 },
 "nbformat": 4,
 "nbformat_minor": 5
}
