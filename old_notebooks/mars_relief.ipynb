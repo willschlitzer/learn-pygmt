{
 "cells": [
  {
   "cell_type": "code",
   "execution_count": 5,
   "id": "c68abde6-6d49-4a78-a441-bd07916adcea",
   "metadata": {},
   "outputs": [],
   "source": [
    "import pygmt"
   ]
  },
  {
   "cell_type": "code",
   "execution_count": 6,
   "id": "da2416db-beec-4d1c-89dd-ea4708b19585",
   "metadata": {},
   "outputs": [],
   "source": [
    "mars = pygmt.datasets.load_mars_shape()"
   ]
  },
  {
   "cell_type": "code",
   "execution_count": 7,
   "id": "5326bad0-ad08-4701-9d79-e91be8e39ccc",
   "metadata": {},
   "outputs": [
    {
     "name": "stdout",
     "output_type": "stream",
     "text": [
      "         lon     lat  radius(m)\n",
      "0    278.231 -40.059       6888\n",
      "1    302.360  15.487       -233\n",
      "2     57.109 -60.574       2913\n",
      "3     82.265 -62.616       3280\n",
      "4    332.540 -53.018       1952\n",
      "..       ...     ...        ...\n",
      "365  301.904 -25.727       5461\n",
      "366  280.133 -57.926       2395\n",
      "367  308.384 -32.260       1375\n",
      "368  312.032  22.271      -4400\n",
      "369  134.260  47.670      -3820\n",
      "\n",
      "[370 rows x 3 columns]\n"
     ]
    }
   ],
   "source": [
    "print(mars)"
   ]
  },
  {
   "cell_type": "code",
   "execution_count": 8,
   "id": "e30cfff2-83e3-4e4e-815a-8d1dfa6632c7",
   "metadata": {},
   "outputs": [
    {
     "name": "stdout",
     "output_type": "stream",
     "text": [
      "(370, 3)\n"
     ]
    }
   ],
   "source": [
    "print(mars.shape)"
   ]
  },
  {
   "cell_type": "code",
   "execution_count": 9,
   "id": "1f9b89ba-162f-4212-bbf2-6e02bbd6a838",
   "metadata": {},
   "outputs": [],
   "source": [
    "summary = mars.describe()"
   ]
  },
  {
   "cell_type": "code",
   "execution_count": 10,
   "id": "e593eb01-3085-4f45-8009-e9a3bfe1eb84",
   "metadata": {},
   "outputs": [
    {
     "name": "stdout",
     "output_type": "stream",
     "text": [
      "              lon         lat     radius(m)\n",
      "count  370.000000  370.000000    370.000000\n",
      "mean   173.445738   10.967822   -365.083784\n",
      "std    101.795895   45.912747   3756.793174\n",
      "min      0.008000  -79.715000  -6930.000000\n",
      "25%     84.059500  -28.128000  -3238.500000\n",
      "50%    173.780000   18.775000  -1176.500000\n",
      "75%    262.155500   57.320750   2532.750000\n",
      "max    359.983000   85.887000  15001.000000\n"
     ]
    }
   ],
   "source": [
    "print(summary)"
   ]
  },
  {
   "cell_type": "code",
   "execution_count": null,
   "id": "e363eba3-c1ac-4382-aff2-9afc5e4d5205",
   "metadata": {},
   "outputs": [],
   "source": []
  }
 ],
 "metadata": {
  "kernelspec": {
   "display_name": "Python 3",
   "language": "python",
   "name": "python3"
  },
  "language_info": {
   "codemirror_mode": {
    "name": "ipython",
    "version": 3
   },
   "file_extension": ".py",
   "mimetype": "text/x-python",
   "name": "python",
   "nbconvert_exporter": "python",
   "pygments_lexer": "ipython3",
   "version": "3.9.4"
  }
 },
 "nbformat": 4,
 "nbformat_minor": 5
}
