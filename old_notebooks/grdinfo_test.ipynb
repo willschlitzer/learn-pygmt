{
 "cells": [
  {
   "cell_type": "code",
   "execution_count": 1,
   "metadata": {},
   "outputs": [],
   "source": [
    "import pygmt\n",
    "grid = pygmt.datasets.load_earth_relief(resolution=\"05m\", region=[-92.5, -82.5, -3, 10])"
   ]
  },
  {
   "cell_type": "code",
   "execution_count": 19,
   "metadata": {},
   "outputs": [
    {
     "name": "stdout",
     "output_type": "stream",
     "text": [
      ": Title: \n",
      ": Command: \n",
      ": Remark: \n",
      ": Pixel node registration used [Geographic grid]\n",
      ": Unrecognized grid file format! Probably not a GMT grid\n",
      ": x_min: -92.5 x_max: -82.5 x_inc: 0.0833333333333 (5 min) name: longitude n_columns: 120\n",
      ": y_min: -3 y_max: 4 y_inc: 0.0833333333333 (5 min) name: latitude n_rows: 84\n",
      ": z_min: -4745.5 z_max: 3043 name: z\n",
      ": scale_factor: 1 add_offset: 0\n",
      "\n"
     ]
    }
   ],
   "source": [
    "#print(pygmt.grdinfo(grid=grid, R=\"-92.5/-82.5/-3/4\"))\n",
    "print(pygmt.grdinfo(grid=grid, region=[-92.5, -82.5, -3, 4]))\n",
    "#print(pygmt.grdinfo())"
   ]
  },
  {
   "cell_type": "code",
   "execution_count": 29,
   "metadata": {},
   "outputs": [
    {
     "name": "stdout",
     "output_type": "stream",
     "text": [
      "-170 170 -80 80 -8182 5651.5 1 1 340 160 1 1\n",
      "\n"
     ]
    }
   ],
   "source": [
    "result = pygmt.grdinfo(grid=\"@earth_relief_01d\", L=0, C=\"n\", R=[-170, 170, -80, 80])\n",
    "print(result)"
   ]
  },
  {
   "cell_type": "code",
   "execution_count": 21,
   "metadata": {},
   "outputs": [
    {
     "name": "stdout",
     "output_type": "stream",
     "text": [
      "-170 170 -80 80 -8182 5651.5 1 1 340 160 1 1 /home/will/.gmt/server/earth/earth_relief/earth_relief_01d_p.grd\n",
      "\n"
     ]
    }
   ],
   "source": [
    "result = pygmt.grdinfo(\"@earth_relief_01d\", L=0, C=\"t\", R=[-170, 170, -80, 80])\n",
    "print(result)"
   ]
  },
  {
   "cell_type": "code",
   "execution_count": 24,
   "metadata": {},
   "outputs": [
    {
     "name": "stdout",
     "output_type": "stream",
     "text": [
      "-170 170 -80 80 -8182 5651.5 1 1 340 160 1 1\n",
      "\n"
     ]
    }
   ],
   "source": [
    "result = pygmt.grdinfo(\"@earth_relief_01d\", L=0, C=True, R=[-170, 170, -80, 80])\n",
    "print(result)"
   ]
  },
  {
   "cell_type": "code",
   "execution_count": 27,
   "metadata": {},
   "outputs": [
    {
     "name": "stdout",
     "output_type": "stream",
     "text": [
      "-170 170 -80 80 -8182 5651.5 1 1 340 160 -3265.5 2740.5861 -2333.78181111 2478.20117887 3404.10128653 -4319.75 1882.53135 1 1\n",
      "\n"
     ]
    }
   ],
   "source": [
    "result = pygmt.grdinfo(\"@earth_relief_01d\", L=\"a\", C=\"n\", R=[-170, 170, -80, 80])\n",
    "print(result)"
   ]
  },
  {
   "cell_type": "code",
   "execution_count": 38,
   "metadata": {},
   "outputs": [
    {
     "name": "stdout",
     "output_type": "stream",
     "text": [
      "-170 170 -80 80 -8182 5651.5 1 1 340 160 142.5 30.5 80.5 35.5 0 1 1\n",
      "\n"
     ]
    }
   ],
   "source": [
    "result = pygmt.grdinfo(\"@earth_relief_01d\", C=True, M=True, L=\"0\",  R=[-170, 170, -80, 80])\n",
    "print(result)"
   ]
  },
  {
   "cell_type": "code",
   "execution_count": 39,
   "metadata": {},
   "outputs": [
    {
     "name": "stdout",
     "output_type": "stream",
     "text": [
      "-170 170 -80 80 -8182 5651.5 1 1 340 160 1 1\n",
      "\n"
     ]
    }
   ],
   "source": [
    "result = pygmt.grdinfo(\"@earth_relief_01d\", C=True, M=False, L=\"0\",  R=[-170, 170, -80, 80])\n",
    "print(result)"
   ]
  },
  {
   "cell_type": "code",
   "execution_count": 40,
   "metadata": {},
   "outputs": [
    {
     "name": "stdout",
     "output_type": "stream",
     "text": [
      "/home/will/.gmt/server/earth/earth_relief/earth_relief_01d_p.grd: Title: Earth Relief at 01 arc degree\n",
      "/home/will/.gmt/server/earth/earth_relief/earth_relief_01d_p.grd: Command: grdfilter SRTM15+V2.1.nc -Fg111.2 -D1 -I01d -rp -Gearth/earth_relief/earth_relief_01d_p.grd=ns+s0.5+o0 --IO_NC4_DEFLATION_LEVEL=9 --IO_NC4_CHUNK_SIZE=4096 --PROJ_ELLIPSOID=Sphere\n",
      "/home/will/.gmt/server/earth/earth_relief/earth_relief_01d_p.grd: Remark: Obtained by Gaussian Cartesian filtering (111.2 km fullwidth) from SRTM15+V2.1.nc [Tozer et al., 2019; http://dx.doi.org/10.1029/2019EA000658]\n",
      "/home/will/.gmt/server/earth/earth_relief/earth_relief_01d_p.grd: Pixel node registration used [Geographic grid]\n",
      "/home/will/.gmt/server/earth/earth_relief/earth_relief_01d_p.grd: Grid file format: ns = GMT netCDF format (16-bit integer), CF-1.7\n",
      "/home/will/.gmt/server/earth/earth_relief/earth_relief_01d_p.grd: x_min: -170.0000000\n",
      "/home/will/.gmt/server/earth/earth_relief/earth_relief_01d_p.grd: x_max: 170.0000000\n",
      "/home/will/.gmt/server/earth/earth_relief/earth_relief_01d_p.grd: x_inc: 1.0000000\n",
      "/home/will/.gmt/server/earth/earth_relief/earth_relief_01d_p.grd: name: longitude [degrees_east]\n",
      "/home/will/.gmt/server/earth/earth_relief/earth_relief_01d_p.grd: n_columns: 340\n",
      "/home/will/.gmt/server/earth/earth_relief/earth_relief_01d_p.grd: y_min: -80.0000000\n",
      "/home/will/.gmt/server/earth/earth_relief/earth_relief_01d_p.grd: y_max: 80.0000000\n",
      "/home/will/.gmt/server/earth/earth_relief/earth_relief_01d_p.grd: y_inc: 1.0000000\n",
      "/home/will/.gmt/server/earth/earth_relief/earth_relief_01d_p.grd: name: latitude [degrees_north]\n",
      "/home/will/.gmt/server/earth/earth_relief/earth_relief_01d_p.grd: n_rows: 160\n",
      "/home/will/.gmt/server/earth/earth_relief/earth_relief_01d_p.grd: z_min: -8182 at x = 142.5 y = 30.5 z_max: 5651.5 at x = 80.5 y = 35.5\n",
      "/home/will/.gmt/server/earth/earth_relief/earth_relief_01d_p.grd: scale_factor: 0.5 add_offset: 0 packed z-range: [-16364,11303]\n",
      "/home/will/.gmt/server/earth/earth_relief/earth_relief_01d_p.grd: format: netCDF-4 chunk_size: 180,180 shuffle: on deflation_level: 9\n",
      "\n"
     ]
    }
   ],
   "source": [
    "result = pygmt.grdinfo(\"@earth_relief_01d\", F=True, M=True, L=\"0\",  R=[-170, 170, -80, 80])\n",
    "print(result)"
   ]
  },
  {
   "cell_type": "code",
   "execution_count": 41,
   "metadata": {},
   "outputs": [
    {
     "name": "stdout",
     "output_type": "stream",
     "text": [
      "/home/will/.gmt/server/earth/earth_relief/earth_relief_01d_p.grd: Title: Earth Relief at 01 arc degree\n",
      "/home/will/.gmt/server/earth/earth_relief/earth_relief_01d_p.grd: Command: grdfilter SRTM15+V2.1.nc -Fg111.2 -D1 -I01d -rp -Gearth/earth_relief/earth_relief_01d_p.grd=ns+s0.5+o0 --IO_NC4_DEFLATION_LEVEL=9 --IO_NC4_CHUNK_SIZE=4096 --PROJ_ELLIPSOID=Sphere\n",
      "/home/will/.gmt/server/earth/earth_relief/earth_relief_01d_p.grd: Remark: Obtained by Gaussian Cartesian filtering (111.2 km fullwidth) from SRTM15+V2.1.nc [Tozer et al., 2019; http://dx.doi.org/10.1029/2019EA000658]\n",
      "/home/will/.gmt/server/earth/earth_relief/earth_relief_01d_p.grd: Pixel node registration used [Geographic grid]\n",
      "/home/will/.gmt/server/earth/earth_relief/earth_relief_01d_p.grd: Grid file format: ns = GMT netCDF format (16-bit integer), CF-1.7\n",
      "/home/will/.gmt/server/earth/earth_relief/earth_relief_01d_p.grd: x_min: -170.0000000\n",
      "/home/will/.gmt/server/earth/earth_relief/earth_relief_01d_p.grd: x_max: 170.0000000\n",
      "/home/will/.gmt/server/earth/earth_relief/earth_relief_01d_p.grd: x_inc: 1.0000000\n",
      "/home/will/.gmt/server/earth/earth_relief/earth_relief_01d_p.grd: name: longitude [degrees_east]\n",
      "/home/will/.gmt/server/earth/earth_relief/earth_relief_01d_p.grd: n_columns: 340\n",
      "/home/will/.gmt/server/earth/earth_relief/earth_relief_01d_p.grd: y_min: -80.0000000\n",
      "/home/will/.gmt/server/earth/earth_relief/earth_relief_01d_p.grd: y_max: 80.0000000\n",
      "/home/will/.gmt/server/earth/earth_relief/earth_relief_01d_p.grd: y_inc: 1.0000000\n",
      "/home/will/.gmt/server/earth/earth_relief/earth_relief_01d_p.grd: name: latitude [degrees_north]\n",
      "/home/will/.gmt/server/earth/earth_relief/earth_relief_01d_p.grd: n_rows: 160\n",
      "/home/will/.gmt/server/earth/earth_relief/earth_relief_01d_p.grd: zmin: -8182\n",
      "/home/will/.gmt/server/earth/earth_relief/earth_relief_01d_p.grd: zmax: 5651.5\n",
      "/home/will/.gmt/server/earth/earth_relief/earth_relief_01d_p.grd: name: elevation (m)\n",
      "/home/will/.gmt/server/earth/earth_relief/earth_relief_01d_p.grd: scale_factor: 0.5 add_offset: 0 packed z-range: [-16364,11303]\n",
      "/home/will/.gmt/server/earth/earth_relief/earth_relief_01d_p.grd: format: netCDF-4 chunk_size: 180,180 shuffle: on deflation_level: 9\n",
      "\n"
     ]
    }
   ],
   "source": [
    "result = pygmt.grdinfo(\"@earth_relief_01d\", F=True, M=False, L=\"0\",  R=[-170, 170, -80, 80])\n",
    "print(result)"
   ]
  },
  {
   "cell_type": "code",
   "execution_count": null,
   "metadata": {},
   "outputs": [],
   "source": []
  }
 ],
 "metadata": {
  "kernelspec": {
   "display_name": "Python 3",
   "language": "python",
   "name": "python3"
  },
  "language_info": {
   "codemirror_mode": {
    "name": "ipython",
    "version": 3
   },
   "file_extension": ".py",
   "mimetype": "text/x-python",
   "name": "python",
   "nbconvert_exporter": "python",
   "pygments_lexer": "ipython3",
   "version": "3.9.4"
  }
 },
 "nbformat": 4,
 "nbformat_minor": 4
}
