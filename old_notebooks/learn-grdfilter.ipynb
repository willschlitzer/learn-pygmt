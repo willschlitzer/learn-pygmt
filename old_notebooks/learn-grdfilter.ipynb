{
 "cells": [
  {
   "cell_type": "code",
   "execution_count": 27,
   "metadata": {},
   "outputs": [],
   "source": [
    "import pygmt\n",
    "from pygmt.helpers import GMTTempFile\n",
    "import xarray as xr\n",
    "from pygmt import grdcut, grdinfo, grdfilter\n",
    "from pygmt.datasets import load_earth_relief\n",
    "from pygmt.exceptions import GMTInvalidInput\n",
    "from pygmt.helpers import GMTTempFile\n",
    "import os\n",
    "import numpy as np"
   ]
  },
  {
   "cell_type": "code",
   "execution_count": 28,
   "metadata": {},
   "outputs": [
    {
     "name": "stdout",
     "output_type": "stream",
     "text": [
      "<xarray.DataArray 'z' (lat: 180, lon: 360)>\n",
      "array([[ 2901.9534,  2901.3103,  2900.6545, ...,  2903.8042,  2903.2004,\n",
      "         2902.5835],\n",
      "       [ 2963.1248,  2960.8792,  2958.576 , ...,  2969.5137,  2967.4434,\n",
      "         2965.3132],\n",
      "       [ 2884.941 ,  2877.6084,  2870.0527, ...,  2905.4631,  2898.868 ,\n",
      "         2892.031 ],\n",
      "       ...,\n",
      "       [-3359.723 , -3364.6345, -3367.713 , ..., -3334.4705, -3344.619 ,\n",
      "        -3353.0056],\n",
      "       [-3284.2292, -3285.5964, -3286.227 , ..., -3275.8582, -3279.3655,\n",
      "        -3282.175 ],\n",
      "       [-3184.8066, -3178.6543, -3172.2986, ..., -3202.082 , -3196.3865,\n",
      "        -3190.7192]], dtype=float32)\n",
      "Coordinates:\n",
      "  * lon      (lon) float64 -179.5 -178.5 -177.5 -176.5 ... 177.5 178.5 179.5\n",
      "  * lat      (lat) float64 -89.5 -88.5 -87.5 -86.5 -85.5 ... 86.5 87.5 88.5 89.5\n",
      "Attributes:\n",
      "    long_name:     z\n",
      "    actual_range:  [-6147.47265625  5164.11572266]\n",
      "True\n",
      "-89.5\n",
      "89.5\n",
      "-179.5\n",
      "179.5\n",
      "-6147.4727\n",
      "5164.1157\n",
      "180\n",
      "360\n"
     ]
    }
   ],
   "source": [
    "grid = pygmt.datasets.load_earth_relief(registration=\"pixel\")\n",
    "smooth_field = pygmt.grdfilter(grid=grid, filter=\"g600\", distance=\"4\")\n",
    "print(smooth_field)\n",
    "assert isinstance(smooth_field, xr.DataArray)\n",
    "print(isinstance(smooth_field, xr.DataArray))\n",
    "print(smooth_field.coords[\"lat\"].data.min())\n",
    "print(smooth_field.coords[\"lat\"].data.max())\n",
    "print(smooth_field.coords[\"lon\"].data.min())\n",
    "print(smooth_field.coords[\"lon\"].data.max())\n",
    "print(smooth_field.data.min())\n",
    "print(smooth_field.data.max())\n",
    "print(smooth_field.sizes[\"lat\"])\n",
    "print(smooth_field.sizes[\"lon\"])\n",
    "assert smooth_field.coords[\"lat\"].data.min() == -89.5\n",
    "assert smooth_field.coords[\"lat\"].data.max() == 89.5\n",
    "assert smooth_field.coords[\"lon\"].data.min() == -179.5\n",
    "assert smooth_field.coords[\"lon\"].data.max() == 179.5\n",
    "#assert smooth_field.data.min() == -6147.4727\n",
    "#assert smooth_field.data.max() == 5164.1157\n",
    "assert smooth_field.sizes[\"lat\"] == 180\n",
    "assert smooth_field.sizes[\"lon\"] == 360"
   ]
  },
  {
   "cell_type": "code",
   "execution_count": 29,
   "metadata": {},
   "outputs": [
    {
     "name": "stdout",
     "output_type": "stream",
     "text": [
      "0 180 0 90 -8182 5651.5 1 1 180 90 1 1\n",
      "\n"
     ]
    }
   ],
   "source": [
    "    with GMTTempFile(suffix=\".nc\") as tmpfile:\n",
    "        result = grdcut(\"@earth_relief_01d\", outgrid=tmpfile.name, region=\"0/180/0/90\")\n",
    "        assert result is None  # return value is None\n",
    "        assert os.path.exists(path=tmpfile.name)  # check that outgrid exists\n",
    "        result = grdinfo(tmpfile.name, C=True)\n",
    "        assert result == \"0 180 0 90 -8182 5651.5 1 1 180 90 1 1\\n\"\n",
    "        print(result)"
   ]
  },
  {
   "cell_type": "code",
   "execution_count": 30,
   "metadata": {},
   "outputs": [
    {
     "name": "stdout",
     "output_type": "stream",
     "text": [
      "0 180 0 90 -6147.49072266 5164.06005859 1 1 180 90 1 1\n",
      "\n"
     ]
    }
   ],
   "source": [
    "with GMTTempFile(suffix=\".nc\") as tmpfile:\n",
    "    result = grdfilter(\"@earth_relief_01d\", outgrid=tmpfile.name, region=\"0/180/0/90\", filter=\"g600\", distance=\"4\")\n",
    "    assert result is None  # grdcut returns None if output to a file\n",
    "    result = pygmt.grdinfo(tmpfile.name, C=True)\n",
    "    print(result)"
   ]
  },
  {
   "cell_type": "code",
   "execution_count": 42,
   "metadata": {},
   "outputs": [
    {
     "name": "stdout",
     "output_type": "stream",
     "text": [
      "180\n"
     ]
    }
   ],
   "source": [
    "    outgrid = grdfilter(\"@earth_relief_01d\", region=\"0/180/0/90\", filter=\"g600\", distance=\"4\")\n",
    "    assert isinstance(outgrid, xr.DataArray)\n",
    "    assert outgrid.gmt.registration == 1  # Pixel registration\n",
    "    assert outgrid.gmt.gtype == 1  # Geographic type\n",
    "    # check information of the output grid\n",
    "    # the '@earth_relief_01d' is in pixel registration, so the grid range is\n",
    "    # not exactly 0/180/0/90\n",
    "    assert isinstance(outgrid, xr.DataArray)\n",
    "    print(outgrid.sizes[\"lon\"])\n",
    "    assert outgrid.coords[\"lat\"].data.min() == 0.5\n",
    "    assert outgrid.coords[\"lat\"].data.max() == 89.5\n",
    "    assert outgrid.coords[\"lon\"].data.min() == 0.5\n",
    "    assert outgrid.coords[\"lon\"].data.max() == 179.5\n",
    "    np.testing.assert_almost_equal(outgrid.data.min(), -6147.4907, decimal=2)\n",
    "    np.testing.assert_almost_equal(outgrid.data.max(), 5164.06, decimal=2)\n",
    "    assert outgrid.sizes[\"lat\"] == 90\n",
    "    assert outgrid.sizes[\"lon\"] == 180"
   ]
  },
  {
   "cell_type": "code",
   "execution_count": null,
   "metadata": {},
   "outputs": [],
   "source": [
    "outgrid = pygmt.grdcut(\"@earth_relief_01d\", region=\"0/180/0/90\")\n",
    "print(outgrid)\n",
    "assert isinstance(outgrid, xr.DataArray)\n",
    "assert outgrid.gmt.registration == 1  # Pixel registration\n",
    "assert outgrid.gmt.gtype == 1  # Geographic type\n",
    "    # check information of the output grid\n",
    "    # the '@earth_relief_01d' is in pixel registration, so the grid range is\n",
    "    # not exactly 0/180/0/90\n",
    "assert outgrid.coords[\"lat\"].data.min() == 0.5\n",
    "assert outgrid.coords[\"lat\"].data.max() == 89.5\n",
    "assert outgrid.coords[\"lon\"].data.min() == 0.5\n",
    "assert outgrid.coords[\"lon\"].data.max() == 179.5\n",
    "assert outgrid.data.min() == -8182.0\n",
    "assert outgrid.data.max() == 5651.5\n",
    "assert outgrid.sizes[\"lat\"] == 90\n",
    "assert outgrid.sizes[\"lon\"] == 180"
   ]
  }
 ],
 "metadata": {
  "kernelspec": {
   "display_name": "Python 3",
   "language": "python",
   "name": "python3"
  },
  "language_info": {
   "codemirror_mode": {
    "name": "ipython",
    "version": 3
   },
   "file_extension": ".py",
   "mimetype": "text/x-python",
   "name": "python",
   "nbconvert_exporter": "python",
   "pygments_lexer": "ipython3",
   "version": "3.9.1"
  }
 },
 "nbformat": 4,
 "nbformat_minor": 4
}
