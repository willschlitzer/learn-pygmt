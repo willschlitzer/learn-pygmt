{
 "cells": [
  {
   "cell_type": "code",
   "execution_count": 1,
   "id": "dc23614c-bdeb-4672-a52e-f972743cd5ca",
   "metadata": {},
   "outputs": [],
   "source": [
    "import pygmt\n",
    "from pygmt.src import which\n",
    "import pandas as pd"
   ]
  },
  {
   "cell_type": "code",
   "execution_count": 2,
   "id": "5b51ffba-8eff-45df-8784-9838672370d7",
   "metadata": {},
   "outputs": [
    {
     "name": "stdout",
     "output_type": "stream",
     "text": [
      "[[330.249933144 -18.4048179232\n",
      "  'Points read: 703 Average Position (Flat Earth)']\n",
      " [330.169184777 -18.4206532702 'L2 Average Position (Eigenval Method)']\n",
      " [52.7451972868 21.2040074195\n",
      "  'L2 N Hemisphere Great Circle Pole (Eigenval Method)']\n",
      " [232.745197287 -21.2040074195\n",
      "  'L2 S Hemisphere Great Circle Pole (Eigenval Method)']]\n"
     ]
    }
   ],
   "source": [
    "data = pygmt.fitcircle(data=\"@sat_03.txt\", normalize=2, output_type=\"numpy\")\n",
    "print(data)"
   ]
  },
  {
   "cell_type": "code",
   "execution_count": 3,
   "id": "a1580dfc-73b3-4ac1-8600-8bf50b967b12",
   "metadata": {},
   "outputs": [
    {
     "name": "stdout",
     "output_type": "stream",
     "text": [
      "[[330.249933144 -18.4048179232\n",
      "  'Points read: 703 Average Position (Flat Earth)']\n",
      " [330.169184777 -18.4206532702 'L2 Average Position (Eigenval Method)']\n",
      " [52.7451972868 21.2040074195\n",
      "  'L2 N Hemisphere Great Circle Pole (Eigenval Method)']\n",
      " [232.745197287 -21.2040074195\n",
      "  'L2 S Hemisphere Great Circle Pole (Eigenval Method)']]\n"
     ]
    }
   ],
   "source": [
    "print(data)"
   ]
  },
  {
   "cell_type": "code",
   "execution_count": 4,
   "id": "e1d4a253-e066-47e9-9bbc-f90d7053f839",
   "metadata": {},
   "outputs": [
    {
     "name": "stdout",
     "output_type": "stream",
     "text": [
      "   longitutde   latitude                                             method\n",
      "0  330.249933 -18.404818     Points read: 703 Average Position (Flat Earth)\n",
      "1  330.169110 -18.420642              L1 Average Position (Fisher's Method)\n",
      "2   52.743557  21.208071  L1 N Hemisphere Great Circle Pole (Cross-Avera...\n",
      "3  232.743557 -21.208071  L1 S Hemisphere Great Circle Pole (Cross-Avera...\n"
     ]
    }
   ],
   "source": [
    "data = pygmt.fitcircle(data=\"@sat_03.txt\", normalize=1)\n",
    "print(data)"
   ]
  },
  {
   "cell_type": "code",
   "execution_count": 5,
   "id": "49143748-f87d-4971-a00c-bcafb09e944b",
   "metadata": {},
   "outputs": [
    {
     "name": "stdout",
     "output_type": "stream",
     "text": [
      "   longitutde   latitude                                             method\n",
      "0  330.249933 -18.404818     Points read: 703 Average Position (Flat Earth)\n",
      "1  330.169110 -18.420642              L1 Average Position (Fisher's Method)\n",
      "2   52.743557  21.208071  L1 N Hemisphere Great Circle Pole (Cross-Avera...\n",
      "3  232.743557 -21.208071  L1 S Hemisphere Great Circle Pole (Cross-Avera...\n",
      "4  330.169185 -18.420653              L2 Average Position (Eigenval Method)\n",
      "5   52.745197  21.204007  L2 N Hemisphere Great Circle Pole (Eigenval Me...\n",
      "6  232.745197 -21.204007  L2 S Hemisphere Great Circle Pole (Eigenval Me...\n"
     ]
    }
   ],
   "source": [
    "data = pygmt.fitcircle(data=\"@sat_03.txt\", normalize=True)\n",
    "print(data)"
   ]
  },
  {
   "cell_type": "code",
   "execution_count": 24,
   "id": "c58589f2-627b-4794-9673-b977aac1e5c4",
   "metadata": {},
   "outputs": [],
   "source": [
    "fname = which(\"@sat_03.txt\", download=\"c\")\n",
    "sat_data = pd.read_csv(\n",
    "        fname,\n",
    "        header=None,\n",
    "        skiprows=1,\n",
    "        sep=\"\\t\",\n",
    "        names=[\"longitutde\", \"latitude\", \"z\"],\n",
    "    )"
   ]
  },
  {
   "cell_type": "code",
   "execution_count": 25,
   "id": "5655420c-72c2-415c-8059-c6fc19cc6756",
   "metadata": {},
   "outputs": [
    {
     "name": "stdout",
     "output_type": "stream",
     "text": [
      "   longitutde   latitude                                             method\n",
      "0  330.243650 -18.391013     Points read: 702 Average Position (Flat Earth)\n",
      "1  330.163133 -18.406777              L1 Average Position (Fisher's Method)\n",
      "2   52.743427  21.208537  L1 N Hemisphere Great Circle Pole (Cross-Avera...\n",
      "3  232.743427 -21.208537  L1 S Hemisphere Great Circle Pole (Cross-Avera...\n",
      "4  330.163208 -18.406788              L2 Average Position (Eigenval Method)\n",
      "5   52.744985  21.204683  L2 N Hemisphere Great Circle Pole (Eigenval Me...\n",
      "6  232.744985 -21.204683  L2 S Hemisphere Great Circle Pole (Eigenval Me...\n"
     ]
    }
   ],
   "source": [
    "data = pygmt.fitcircle(data=sat_data, normalize=True)\n",
    "print(data)"
   ]
  },
  {
   "cell_type": "code",
   "execution_count": 26,
   "id": "f7db8e15-2b81-4a7e-9dc5-ccf41f28acd9",
   "metadata": {},
   "outputs": [
    {
     "name": "stdout",
     "output_type": "stream",
     "text": [
      "longitutde                                         330.24365\n",
      "latitude                                          -18.391013\n",
      "method        Points read: 702 Average Position (Flat Earth)\n",
      "Name: 0, dtype: object\n"
     ]
    }
   ],
   "source": [
    "print(data.iloc[0])"
   ]
  },
  {
   "cell_type": "code",
   "execution_count": 27,
   "id": "633cba89-047e-4bbc-b9cc-5635da08578d",
   "metadata": {},
   "outputs": [
    {
     "name": "stdout",
     "output_type": "stream",
     "text": [
      "-21.2085369093\n"
     ]
    }
   ],
   "source": [
    "print(data.iloc[:,1].min())"
   ]
  },
  {
   "cell_type": "code",
   "execution_count": 28,
   "id": "7a306272-f8b1-4b2c-b6a4-0b2cd29151c1",
   "metadata": {},
   "outputs": [
    {
     "name": "stdout",
     "output_type": "stream",
     "text": [
      "21.2085369093\n"
     ]
    }
   ],
   "source": [
    "print(data.iloc[:,1].max())"
   ]
  },
  {
   "cell_type": "code",
   "execution_count": 29,
   "id": "b6f944f0-74f8-42ee-ac0d-3706ad83826f",
   "metadata": {},
   "outputs": [
    {
     "name": "stdout",
     "output_type": "stream",
     "text": [
      "-7.886368329728571\n"
     ]
    }
   ],
   "source": [
    "print(data.iloc[:,1].mean())"
   ]
  },
  {
   "cell_type": "code",
   "execution_count": 30,
   "id": "d46ee3a0-adac-4fb6-8d73-b5a1243dcd13",
   "metadata": {},
   "outputs": [
    {
     "name": "stdout",
     "output_type": "stream",
     "text": [
      "-18.4067771888\n"
     ]
    }
   ],
   "source": [
    "print(data.iloc[:,1].median())"
   ]
  },
  {
   "cell_type": "code",
   "execution_count": 31,
   "id": "c6c1679d-4fc4-45a7-b7ef-985d0e872c54",
   "metadata": {},
   "outputs": [
    {
     "name": "stdout",
     "output_type": "stream",
     "text": [
      "52.7434273422\n"
     ]
    }
   ],
   "source": [
    "print(data.iloc[:,0].min())"
   ]
  },
  {
   "cell_type": "code",
   "execution_count": 33,
   "id": "4965f3da-912e-4a07-af00-d2f161e951f4",
   "metadata": {},
   "outputs": [
    {
     "name": "stdout",
     "output_type": "stream",
     "text": [
      "330.243649573\n"
     ]
    }
   ],
   "source": [
    "print(data.iloc[:,0].max())"
   ]
  },
  {
   "cell_type": "code",
   "execution_count": 34,
   "id": "ffdd66b5-fb88-4e12-afdc-8219159ac649",
   "metadata": {},
   "outputs": [
    {
     "name": "stdout",
     "output_type": "stream",
     "text": [
      "223.07811647641432\n"
     ]
    }
   ],
   "source": [
    "print(data.iloc[:,0].mean())"
   ]
  },
  {
   "cell_type": "code",
   "execution_count": 35,
   "id": "73d1af9f-bbdd-4501-aa3c-6c5d9abcb2d3",
   "metadata": {},
   "outputs": [
    {
     "name": "stdout",
     "output_type": "stream",
     "text": [
      "232.744984995\n"
     ]
    }
   ],
   "source": [
    "print(data.iloc[:,0].median())"
   ]
  },
  {
   "cell_type": "code",
   "execution_count": null,
   "id": "a6f2e055-90e0-41b8-a840-286df4ca986b",
   "metadata": {},
   "outputs": [],
   "source": []
  }
 ],
 "metadata": {
  "kernelspec": {
   "display_name": "Python 3 (ipykernel)",
   "language": "python",
   "name": "python3"
  },
  "language_info": {
   "codemirror_mode": {
    "name": "ipython",
    "version": 3
   },
   "file_extension": ".py",
   "mimetype": "text/x-python",
   "name": "python",
   "nbconvert_exporter": "python",
   "pygments_lexer": "ipython3",
   "version": "3.9.4"
  }
 },
 "nbformat": 4,
 "nbformat_minor": 5
}
