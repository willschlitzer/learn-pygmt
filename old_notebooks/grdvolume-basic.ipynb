{
 "cells": [
  {
   "cell_type": "code",
   "execution_count": 8,
   "id": "0a1c34dc",
   "metadata": {},
   "outputs": [],
   "source": [
    "import pygmt"
   ]
  },
  {
   "cell_type": "code",
   "execution_count": 9,
   "id": "16182ade",
   "metadata": {},
   "outputs": [],
   "source": [
    "grid = pygmt.datasets.load_earth_relief(resolution=\"05m\", region=[-105, -104, 39, 40])"
   ]
  },
  {
   "cell_type": "code",
   "execution_count": 10,
   "id": "df8e9d16",
   "metadata": {},
   "outputs": [
    {
     "name": "stdout",
     "output_type": "stream",
     "text": [
      "[[0.00000000e+00 9.53478632e+09 1.73613733e+13 1.82084556e+03]]\n"
     ]
    }
   ],
   "source": [
    "print(pygmt.grdvolume(grid=grid))"
   ]
  },
  {
   "cell_type": "code",
   "execution_count": 11,
   "id": "238c4d26",
   "metadata": {},
   "outputs": [
    {
     "name": "stdout",
     "output_type": "stream",
     "text": [
      "[[1.00000000e+03 8.02149690e+09 8.02149690e+11 1.00000000e+02]\n",
      " [1.10000000e+03 8.02149690e+09 8.02149690e+11 1.00000000e+02]\n",
      " [1.20000000e+03 8.02149690e+09 8.02149690e+11 1.00000000e+02]\n",
      " [1.30000000e+03 8.02149690e+09 8.02149690e+11 1.00000000e+02]\n",
      " [1.40000000e+03 8.02149690e+09 8.00615404e+11 1.00000000e+02]\n",
      " [1.50000000e+03 7.92228509e+09 7.48383578e+11 1.00000000e+02]]\n"
     ]
    }
   ],
   "source": [
    "print(pygmt.grdvolume(grid=grid, plane=\"1000/1600/100\", D=True))"
   ]
  },
  {
   "cell_type": "code",
   "execution_count": 15,
   "id": "9e57a800",
   "metadata": {},
   "outputs": [
    {
     "name": "stdout",
     "output_type": "stream",
     "text": [
      "        0             1             2           3\n",
      "0  1000.0  8.021497e+09  6.592421e+12  821.844283\n",
      "1  1100.0  8.021497e+09  5.790272e+12  721.844283\n",
      "2  1200.0  8.021497e+09  4.988122e+12  621.844283\n",
      "3  1300.0  8.021497e+09  4.185972e+12  521.844283\n",
      "4  1400.0  8.021497e+09  3.383823e+12  421.844283\n",
      "5  1500.0  7.922285e+09  2.583207e+12  326.068448\n",
      "6  1600.0  6.737318e+09  1.834824e+12  272.337386\n"
     ]
    }
   ],
   "source": [
    "print(pygmt.grdvolume(grid=grid, data_format=\"d\", plane=\"1000/1600/100\"))"
   ]
  },
  {
   "cell_type": "code",
   "execution_count": 13,
   "id": "88af32ba",
   "metadata": {},
   "outputs": [
    {
     "name": "stdout",
     "output_type": "stream",
     "text": [
      ": Title: \n",
      ": Command: \n",
      ": Remark: \n",
      ": Pixel node registration used [Geographic grid]\n",
      ": Grid file format: nf = GMT netCDF format (32-bit float), CF-1.7\n",
      ": x_min: -105 x_max: -104 x_inc: 0.0833333333333 (5 min) name: x n_columns: 12\n",
      ": y_min: 39 y_max: 40 y_inc: 0.0833333333333 (5 min) name: y n_rows: 12\n",
      ": v_min: 1462.5 v_max: 2721 name: z\n",
      ": scale_factor: 1 add_offset: 0\n",
      ": format: classic\n",
      "\n"
     ]
    }
   ],
   "source": [
    "print(pygmt.grdinfo(grid=grid))"
   ]
  },
  {
   "cell_type": "code",
   "execution_count": null,
   "id": "59f69b45",
   "metadata": {},
   "outputs": [],
   "source": []
  }
 ],
 "metadata": {
  "kernelspec": {
   "display_name": "Python 3",
   "language": "python",
   "name": "python3"
  },
  "language_info": {
   "codemirror_mode": {
    "name": "ipython",
    "version": 3
   },
   "file_extension": ".py",
   "mimetype": "text/x-python",
   "name": "python",
   "nbconvert_exporter": "python",
   "pygments_lexer": "ipython3",
   "version": "3.9.4"
  }
 },
 "nbformat": 4,
 "nbformat_minor": 5
}
