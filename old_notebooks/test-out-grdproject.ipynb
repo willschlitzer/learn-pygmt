{
 "cells": [
  {
   "cell_type": "code",
   "execution_count": 1,
   "id": "fdd47457-9dbd-4560-a8d8-639c7a4cb251",
   "metadata": {},
   "outputs": [],
   "source": [
    "import pygmt"
   ]
  },
  {
   "cell_type": "code",
   "execution_count": 10,
   "id": "76a8f3ed-ab31-411a-8e52-021dc6a44e97",
   "metadata": {},
   "outputs": [],
   "source": [
    "grid = pygmt.datasets.load_earth_relief(registration=\"pixel\", region=[-5, 5, -5, 5], resolution=\"01d\",)"
   ]
  },
  {
   "cell_type": "code",
   "execution_count": null,
   "id": "86327227-e1c0-473d-8cfa-a4b0ebb1cbcb",
   "metadata": {},
   "outputs": [],
   "source": []
  },
  {
   "cell_type": "code",
   "execution_count": 11,
   "id": "790d8e02-d3d1-4d8d-a035-af34a57d146d",
   "metadata": {},
   "outputs": [
    {
     "name": "stdout",
     "output_type": "stream",
     "text": [
      ": Title: \n",
      ": Command: \n",
      ": Remark: \n",
      ": Pixel node registration used [Geographic grid]\n",
      ": Grid file format: nf = GMT netCDF format (32-bit float), CF-1.7\n",
      ": x_min: -5 x_max: 5 x_inc: 1 name: x n_columns: 10\n",
      ": y_min: -5 y_max: 5 y_inc: 1 name: y n_rows: 10\n",
      ": v_min: -5130.5 v_max: -160 name: z\n",
      ": scale_factor: 1 add_offset: 0\n",
      ": format: classic\n",
      "\n"
     ]
    }
   ],
   "source": [
    "print(pygmt.grdinfo(grid=grid))"
   ]
  },
  {
   "cell_type": "code",
   "execution_count": 12,
   "id": "b088bf2b-ef3f-4220-bc61-ee5e458fa44f",
   "metadata": {},
   "outputs": [],
   "source": [
    "new_grid = pygmt.grdproject(grid=grid, projection=\"M10c\")"
   ]
  },
  {
   "cell_type": "code",
   "execution_count": 13,
   "id": "d0ea613a-c6e7-4f7f-aaa1-c6408fe9277f",
   "metadata": {},
   "outputs": [
    {
     "name": "stdout",
     "output_type": "stream",
     "text": [
      ": Title: \n",
      ": Command: \n",
      ": Remark: \n",
      ": Pixel node registration used [Cartesian grid]\n",
      ": Grid file format: nf = GMT netCDF format (32-bit float), CF-1.7\n",
      ": x_min: 0 x_max: 10 x_inc: 1 name: x n_columns: 10\n",
      ": y_min: -5.55111512313e-17 y_max: 9.94585661273 y_inc: 0.994585661273 name: y n_rows: 10\n",
      ": v_min: -5130.48193359 v_max: -152.585281372 name: z\n",
      ": scale_factor: 1 add_offset: 0\n",
      ": format: classic\n",
      "\n"
     ]
    }
   ],
   "source": [
    "print(pygmt.grdinfo(grid=new_grid))"
   ]
  },
  {
   "cell_type": "code",
   "execution_count": 6,
   "id": "19c67fff-9d09-407b-bbff-a25641591ccc",
   "metadata": {},
   "outputs": [],
   "source": [
    "newest_grid = pygmt.grdproject(grid=new_grid, projection=\"M4i\", inverse=True)"
   ]
  },
  {
   "cell_type": "code",
   "execution_count": 7,
   "id": "de162fea-90cd-4665-b9e5-526db317b834",
   "metadata": {},
   "outputs": [
    {
     "name": "stdout",
     "output_type": "stream",
     "text": [
      ": Title: \n",
      ": Command: \n",
      ": Remark: \n",
      ": Pixel node registration used [Geographic grid]\n",
      ": Grid file format: nf = GMT netCDF format (32-bit float), CF-1.7\n",
      ": x_min: -180.999954366 x_max: -180.999863097 x_inc: 7.60573608716e-07 name: x n_columns: 120\n",
      ": y_min: -0.999954306763 y_max: -0.999862934417 y_inc: 7.61436216666e-07 name: y n_rows: 120\n",
      ": v_min: -5721.88378906 v_max: 78.4681930542 name: z\n",
      ": scale_factor: 1 add_offset: 0\n",
      ": format: classic\n",
      "\n"
     ]
    }
   ],
   "source": [
    "print(pygmt.grdinfo(grid=newest_grid))"
   ]
  },
  {
   "cell_type": "code",
   "execution_count": null,
   "id": "f7d38255-4881-47d8-bb0b-a2b873e553b5",
   "metadata": {},
   "outputs": [],
   "source": []
  }
 ],
 "metadata": {
  "kernelspec": {
   "display_name": "Python 3",
   "language": "python",
   "name": "python3"
  },
  "language_info": {
   "codemirror_mode": {
    "name": "ipython",
    "version": 3
   },
   "file_extension": ".py",
   "mimetype": "text/x-python",
   "name": "python",
   "nbconvert_exporter": "python",
   "pygments_lexer": "ipython3",
   "version": "3.9.4"
  }
 },
 "nbformat": 4,
 "nbformat_minor": 5
}
