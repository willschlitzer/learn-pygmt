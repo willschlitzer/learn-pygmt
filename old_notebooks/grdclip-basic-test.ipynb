{
 "cells": [
  {
   "cell_type": "code",
   "execution_count": 2,
   "id": "927d51a8",
   "metadata": {},
   "outputs": [],
   "source": [
    "import pygmt\n",
    "import os\n",
    "from pygmt import grdclip, grdinfo\n",
    "from pygmt.helpers import GMTTempFile"
   ]
  },
  {
   "cell_type": "code",
   "execution_count": 3,
   "id": "9fe1736b",
   "metadata": {},
   "outputs": [
    {
     "name": "stdout",
     "output_type": "stream",
     "text": [
      ": Title: \n",
      ": Command: \n",
      ": Remark: \n",
      ": Pixel node registration used [Geographic grid]\n",
      ": Grid file format: nf = GMT netCDF format (32-bit float), CF-1.7\n",
      ": x_min: -108 x_max: -103 x_inc: 0.0833333333333 (5 min) name: x n_columns: 60\n",
      ": y_min: 35 y_max: 40 y_inc: 0.0833333333333 (5 min) name: y n_rows: 60\n",
      ": v_min: 1105.5 v_max: 3878.5 name: z\n",
      ": scale_factor: 1 add_offset: 0\n",
      ": format: classic\n",
      "\n"
     ]
    }
   ],
   "source": [
    "grid = pygmt.datasets.load_earth_relief(resolution=\"05m\", region=[-108, -103, 35, 40])\n",
    "print(pygmt.grdinfo(grid))"
   ]
  },
  {
   "cell_type": "code",
   "execution_count": 4,
   "id": "f1fcc812",
   "metadata": {},
   "outputs": [],
   "source": [
    "new_grid = pygmt.grdclip(grid=grid, Sb=\"1500/1500\", region=[-106, -104, 36, 38])"
   ]
  },
  {
   "cell_type": "code",
   "execution_count": 5,
   "id": "47480584",
   "metadata": {},
   "outputs": [
    {
     "name": "stdout",
     "output_type": "stream",
     "text": [
      ": Title: \n",
      ": Command: \n",
      ": Remark: \n",
      ": Pixel node registration used [Geographic grid]\n",
      ": Grid file format: nf = GMT netCDF format (32-bit float), CF-1.7\n",
      ": x_min: -106 x_max: -104 x_inc: 0.0833333333333 (5 min) name: x n_columns: 24\n",
      ": y_min: 36 y_max: 38 y_inc: 0.0833333333333 (5 min) name: y n_rows: 24\n",
      ": v_min: 1500 v_max: 3647 name: z\n",
      ": scale_factor: 1 add_offset: 0\n",
      ": format: classic\n",
      "\n"
     ]
    }
   ],
   "source": [
    "print(pygmt.grdinfo(new_grid))"
   ]
  },
  {
   "cell_type": "code",
   "execution_count": 12,
   "id": "c6ed4150",
   "metadata": {},
   "outputs": [
    {
     "name": "stdout",
     "output_type": "stream",
     "text": [
      ": Title: \n",
      ": Command: \n",
      ": Remark: \n",
      ": Pixel node registration used [Geographic grid]\n",
      ": Grid file format: nf = GMT netCDF format (32-bit float), CF-1.7\n",
      ": x_min: -5 x_max: 5 x_inc: 1 name: x n_columns: 10\n",
      ": y_min: -5 y_max: 5 y_inc: 1 name: y n_rows: 10\n",
      ": v_min: -5130.5 v_max: -160 name: z\n",
      ": scale_factor: 1 add_offset: 0\n",
      ": format: classic\n",
      "\n"
     ]
    }
   ],
   "source": [
    "grid = pygmt.datasets.load_earth_relief(resolution=\"01d\", region=[-5,5, -5, 5])\n",
    "print(pygmt.grdinfo(grid)) "
   ]
  },
  {
   "cell_type": "code",
   "execution_count": 13,
   "id": "74f9e21a",
   "metadata": {},
   "outputs": [
    {
     "name": "stdout",
     "output_type": "stream",
     "text": [
      "-1800\n"
     ]
    }
   ],
   "source": [
    "result = pygmt.grdinfo(pygmt.grdclip(grid=grid, below=\"-1500/-1800\"), force_scan=0, per_column=\"n\")\n",
    "print(result.strip().split()[4])"
   ]
  },
  {
   "cell_type": "code",
   "execution_count": 15,
   "id": "6a706356",
   "metadata": {},
   "outputs": [
    {
     "name": "stdout",
     "output_type": "stream",
     "text": [
      "['-5', '5', '-5', '5', '-1800', '40', '1', '1', '10', '10', '1', '1']\n"
     ]
    }
   ],
   "source": [
    "with GMTTempFile(suffix=\".nc\") as tmpfile:\n",
    "    result = grdclip(grid=grid, outgrid=tmpfile.name, below=\"-1500/-1800\", above=\"-200/40\")\n",
    "    assert result is None  # return value is None\n",
    "    assert os.path.exists(path=tmpfile.name)  # check that outgrid exists\n",
    "    result = grdinfo(grid=tmpfile.name, force_scan=0, per_column=\"n\").strip().split()\n",
    "print(result)\n",
    "assert int(result[4]) == -1800\n",
    "assert int(result[5]) == 40"
   ]
  },
  {
   "cell_type": "code",
   "execution_count": null,
   "id": "2bcd9de9",
   "metadata": {},
   "outputs": [],
   "source": []
  }
 ],
 "metadata": {
  "kernelspec": {
   "display_name": "Python 3",
   "language": "python",
   "name": "python3"
  },
  "language_info": {
   "codemirror_mode": {
    "name": "ipython",
    "version": 3
   },
   "file_extension": ".py",
   "mimetype": "text/x-python",
   "name": "python",
   "nbconvert_exporter": "python",
   "pygments_lexer": "ipython3",
   "version": "3.9.2"
  }
 },
 "nbformat": 4,
 "nbformat_minor": 5
}
