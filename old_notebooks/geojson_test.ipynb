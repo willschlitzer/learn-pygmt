{
 "cells": [
  {
   "cell_type": "code",
   "execution_count": 20,
   "id": "97c4fff3-8867-43d9-95f1-45bf5b063942",
   "metadata": {},
   "outputs": [],
   "source": [
    "import pygmt\n",
    "import json\n",
    "import geopandas as gpd\n",
    "from pygmt.helpers import (\n",
    "    GMTTempFile,\n",
    "    args_in_kwargs,\n",
    "    data_kind,\n",
    "    kwargs_to_strings,\n",
    "    unique_name,\n",
    "    tempfile_from_geojson\n",
    ")\n",
    "import shapely\n",
    "import os"
   ]
  },
  {
   "cell_type": "code",
   "execution_count": 21,
   "id": "628e76b9-a99f-44a0-917d-08367795aa9d",
   "metadata": {},
   "outputs": [
    {
     "name": "stdout",
     "output_type": "stream",
     "text": [
      "                                                     geometry\n",
      "polygon     POLYGON ((20.00000 10.00000, 23.00000 10.00000...\n",
      "linestring  LINESTRING (20.00000 15.00000, 30.00000 15.00000)\n"
     ]
    }
   ],
   "source": [
    "linestring = shapely.geometry.LineString([(20, 15), (30, 15)])\n",
    "polygon = shapely.geometry.Polygon([(20, 10), (23, 10), (23, 14), (20, 14)])\n",
    "gdf = gpd.GeoDataFrame(\n",
    "    index=[\"polygon\", \"linestring\"],\n",
    "    geometry=[polygon, linestring],\n",
    ")\n",
    "\n",
    "print(gdf)\n"
   ]
  },
  {
   "cell_type": "code",
   "execution_count": null,
   "id": "7dce9fda-d8ea-4460-883f-e24613be239e",
   "metadata": {},
   "outputs": [],
   "source": []
  },
  {
   "cell_type": "code",
   "execution_count": 22,
   "id": "6dad6cca-635c-405d-9f9c-162348560063",
   "metadata": {},
   "outputs": [
    {
     "name": "stdout",
     "output_type": "stream",
     "text": [
      "<class 'geopandas.geodataframe.GeoDataFrame'>\n"
     ]
    }
   ],
   "source": [
    "print(type(gdf))\n",
    "    "
   ]
  },
  {
   "cell_type": "code",
   "execution_count": 28,
   "id": "c347e771-4b69-4293-bf4a-e4d58e0cfb98",
   "metadata": {},
   "outputs": [
    {
     "name": "stdout",
     "output_type": "stream",
     "text": [
      "# @VGMT1.0\n",
      "# @R20/30/10/15                                                           \n",
      "# @GPOLYGON\n",
      "# @Nindex\n",
      "# @Tstring\n",
      "# FEATURE_DATA\n",
      ">\n",
      "# @Dpolygon\n",
      "# @P\n",
      "20 10\n",
      "23 10\n",
      "23 14\n",
      "20 14\n",
      "20 10\n",
      ">\n",
      "# @Dlinestring\n",
      "20 15\n",
      "30 15\n",
      "\n",
      "/tmp/pygmt-ue98sr7j.gmt\n"
     ]
    },
    {
     "ename": "AssertionError",
     "evalue": "",
     "output_type": "error",
     "traceback": [
      "\u001b[0;31m---------------------------------------------------------------------------\u001b[0m",
      "\u001b[0;31mAssertionError\u001b[0m                            Traceback (most recent call last)",
      "\u001b[0;32m<ipython-input-28-69242027ab9c>\u001b[0m in \u001b[0;36m<module>\u001b[0;34m\u001b[0m\n\u001b[1;32m      6\u001b[0m         \u001b[0mprint\u001b[0m\u001b[0;34m(\u001b[0m\u001b[0mftmp\u001b[0m\u001b[0;34m.\u001b[0m\u001b[0mname\u001b[0m\u001b[0;34m)\u001b[0m\u001b[0;34m\u001b[0m\u001b[0;34m\u001b[0m\u001b[0m\n\u001b[1;32m      7\u001b[0m         \u001b[0;32massert\u001b[0m \u001b[0mos\u001b[0m\u001b[0;34m.\u001b[0m\u001b[0mpath\u001b[0m\u001b[0;34m.\u001b[0m\u001b[0mbasename\u001b[0m\u001b[0;34m(\u001b[0m\u001b[0mftmp\u001b[0m\u001b[0;34m.\u001b[0m\u001b[0mname\u001b[0m\u001b[0;34m)\u001b[0m\u001b[0;34m.\u001b[0m\u001b[0mstartswith\u001b[0m\u001b[0;34m(\u001b[0m\u001b[0;34m\"pygmt-\"\u001b[0m\u001b[0;34m)\u001b[0m\u001b[0;34m\u001b[0m\u001b[0;34m\u001b[0m\u001b[0m\n\u001b[0;32m----> 8\u001b[0;31m         \u001b[0;32massert\u001b[0m \u001b[0mos\u001b[0m\u001b[0;34m.\u001b[0m\u001b[0mpath\u001b[0m\u001b[0;34m.\u001b[0m\u001b[0mbasename\u001b[0m\u001b[0;34m(\u001b[0m\u001b[0mftmp\u001b[0m\u001b[0;34m.\u001b[0m\u001b[0mname\u001b[0m\u001b[0;34m)\u001b[0m\u001b[0;34m.\u001b[0m\u001b[0mendswith\u001b[0m\u001b[0;34m(\u001b[0m\u001b[0;34m\".gmtx\"\u001b[0m\u001b[0;34m)\u001b[0m\u001b[0;34m\u001b[0m\u001b[0;34m\u001b[0m\u001b[0m\n\u001b[0m",
      "\u001b[0;31mAssertionError\u001b[0m: "
     ]
    }
   ],
   "source": [
    "with tempfile_from_geojson(gdf) as tmpfile:\n",
    "    assert type(tmpfile) == str\n",
    "    #print(type(tmpfile))\n",
    "    with open(tmpfile) as ftmp:\n",
    "        print(ftmp.read())\n",
    "        print(ftmp.name)\n",
    "        assert os.path.basename(ftmp.name).startswith(\"pygmt-\")\n",
    "        assert os.path.basename(ftmp.name).endswith(\".gmt\")"
   ]
  },
  {
   "cell_type": "code",
   "execution_count": 30,
   "id": "b36016e9-d598-44c5-8750-01145eb9c7af",
   "metadata": {},
   "outputs": [
    {
     "name": "stdout",
     "output_type": "stream",
     "text": [
      "# @VGMT1.0 @GLINESTRING\n",
      "# @R20/30/15/15                                                           \n",
      "# @Je4326\n",
      "# @Jp\"+proj=longlat +datum=WGS84 +no_defs\"\n",
      "# @Jw\"GEOGCS[\\\"WGS 84\\\",DATUM[\\\"WGS_1984\\\",SPHEROID[\\\"WGS 84\\\",6378137,298.257223563]],PRIMEM[\\\"Greenwich\\\",0],UNIT[\\\"degree\\\",0.0174532925199433,AUTHORITY[\\\"EPSG\\\",\\\"9122\\\"]],AXIS[\\\"Latitude\\\",NORTH],AXIS[\\\"Longitude\\\",EAST],AUTHORITY[\\\"EPSG\\\",\\\"4326\\\"]]\"\n",
      "# FEATURE_DATA\n",
      ">\n",
      "20 15\n",
      "30 15\n",
      "\n",
      "/tmp/pygmt-bwi_aqxl.gmt\n"
     ]
    }
   ],
   "source": [
    "with tempfile_from_geojson(linestring) as tmpfile:\n",
    "    with open(tmpfile) as ftmp:\n",
    "        print(ftmp.read())\n",
    "        print(ftmp.name)"
   ]
  },
  {
   "cell_type": "code",
   "execution_count": null,
   "id": "e94fd670-98be-42d9-8a2d-6df219b62f65",
   "metadata": {},
   "outputs": [],
   "source": []
  }
 ],
 "metadata": {
  "kernelspec": {
   "display_name": "Python 3",
   "language": "python",
   "name": "python3"
  },
  "language_info": {
   "codemirror_mode": {
    "name": "ipython",
    "version": 3
   },
   "file_extension": ".py",
   "mimetype": "text/x-python",
   "name": "python",
   "nbconvert_exporter": "python",
   "pygments_lexer": "ipython3",
   "version": "3.9.4"
  }
 },
 "nbformat": 4,
 "nbformat_minor": 5
}
