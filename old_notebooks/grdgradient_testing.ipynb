{
 "cells": [
  {
   "cell_type": "code",
   "execution_count": 45,
   "id": "b84188ee",
   "metadata": {},
   "outputs": [],
   "source": [
    "import pygmt\n",
    "import numpy.testing as npt\n",
    "grid = pygmt.datasets.load_earth_relief(resolution=\"01d\", region=[-5, 5, -5, 5])"
   ]
  },
  {
   "cell_type": "code",
   "execution_count": 46,
   "id": "d2a736c3",
   "metadata": {},
   "outputs": [
    {
     "name": "stdout",
     "output_type": "stream",
     "text": [
      ": Title: \n",
      ": Command: \n",
      ": Remark: \n",
      ": Pixel node registration used [Geographic grid]\n",
      ": Grid file format: nf = GMT netCDF format (32-bit float), CF-1.7\n",
      ": x_min: -5 x_max: 5 x_inc: 1 name: x n_columns: 10\n",
      ": y_min: -5 y_max: 5 y_inc: 1 name: y n_rows: 10\n",
      ": v_min: -5130.5 v_max: -160 name: z\n",
      ": scale_factor: 1 add_offset: 0\n",
      ": format: classic\n",
      "\n"
     ]
    }
   ],
   "source": [
    "print(pygmt.grdinfo(grid))"
   ]
  },
  {
   "cell_type": "code",
   "execution_count": 47,
   "id": "3a0bbd66",
   "metadata": {},
   "outputs": [],
   "source": [
    "grd_grad = pygmt.grdgradient(grid=grid, azimuth=10, direction=\"c\")"
   ]
  },
  {
   "cell_type": "code",
   "execution_count": 48,
   "id": "7c4f2ecb",
   "metadata": {},
   "outputs": [
    {
     "name": "stdout",
     "output_type": "stream",
     "text": [
      "[':', 'Title:', ':', 'Command:', ':', 'Remark:', ':', 'Pixel', 'node', 'registration', 'used', '[Geographic', 'grid]', ':', 'Grid', 'file', 'format:', 'nf', '=', 'GMT', 'netCDF', 'format', '(32-bit', 'float),', 'CF-1.7', ':', 'x_min:', '-5', 'x_max:', '5', 'x_inc:', '1', 'name:', 'x', 'n_columns:', '10', ':', 'y_min:', '-5', 'y_max:', '5', 'y_inc:', '1', 'name:', 'y', 'n_rows:', '10', ':', 'v_min:', '-0.00450604967773', 'v_max:', '0.0575332976878', 'name:', 'z', ':', 'scale_factor:', '1', 'add_offset:', '0', ':', 'format:', 'classic']\n"
     ]
    }
   ],
   "source": [
    "print(pygmt.grdinfo(grd_grad).strip().split())"
   ]
  },
  {
   "cell_type": "code",
   "execution_count": 49,
   "id": "52274f10",
   "metadata": {},
   "outputs": [],
   "source": [
    "#grd_grad = pygmt.grdgradient(grid=grid)"
   ]
  },
  {
   "cell_type": "code",
   "execution_count": 50,
   "id": "0b662ee6",
   "metadata": {},
   "outputs": [
    {
     "name": "stdout",
     "output_type": "stream",
     "text": [
      "None\n"
     ]
    }
   ],
   "source": [
    "print(npt.assert_allclose(grd_grad.min(), -.0045060496))"
   ]
  },
  {
   "cell_type": "code",
   "execution_count": 51,
   "id": "a7573e67",
   "metadata": {},
   "outputs": [
    {
     "name": "stdout",
     "output_type": "stream",
     "text": [
      "None\n"
     ]
    }
   ],
   "source": [
    "print(npt.assert_allclose(grd_grad.max(), .0575332976))"
   ]
  },
  {
   "cell_type": "code",
   "execution_count": 58,
   "id": "fa8d35bd",
   "metadata": {},
   "outputs": [
    {
     "name": "stdout",
     "output_type": "stream",
     "text": [
      "-0.004506049677729607\n"
     ]
    }
   ],
   "source": [
    "temp_grid = pygmt.grdgradient(grid=grid, azimuth=10, direction=\"c\")\n",
    "assert temp_grid.dims == (\"lat\", \"lon\")\n",
    "assert temp_grid.gmt.gtype == 1  # Geographic grid\n",
    "assert temp_grid.gmt.registration == 1  # Pixel registration\n",
    "npt.assert_allclose(temp_grid.min(), -.0045060496)\n",
    "npt.assert_allclose(temp_grid.max(), .0575332976)\n",
    "print(float(temp_grid.min()))"
   ]
  },
  {
   "cell_type": "code",
   "execution_count": null,
   "id": "bc25da08",
   "metadata": {},
   "outputs": [],
   "source": []
  }
 ],
 "metadata": {
  "kernelspec": {
   "display_name": "Python 3",
   "language": "python",
   "name": "python3"
  },
  "language_info": {
   "codemirror_mode": {
    "name": "ipython",
    "version": 3
   },
   "file_extension": ".py",
   "mimetype": "text/x-python",
   "name": "python",
   "nbconvert_exporter": "python",
   "pygments_lexer": "ipython3",
   "version": "3.9.4"
  }
 },
 "nbformat": 4,
 "nbformat_minor": 5
}
