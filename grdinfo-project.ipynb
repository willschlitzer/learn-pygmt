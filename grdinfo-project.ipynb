{
 "cells": [
  {
   "cell_type": "code",
   "execution_count": 1,
   "id": "50cc0cdf-6c59-4168-b972-efa9d2f42837",
   "metadata": {},
   "outputs": [],
   "source": [
    "import pygmt"
   ]
  },
  {
   "cell_type": "code",
   "execution_count": 2,
   "id": "e020ee09-dd80-4809-9e04-463771e0ffd6",
   "metadata": {},
   "outputs": [],
   "source": [
    "grid = pygmt.datasets.load_earth_relief(registration=\"pixel\", region=[125, 130, -25, -20])"
   ]
  },
  {
   "cell_type": "code",
   "execution_count": 4,
   "id": "bd19b08a-116f-4d00-8ae4-2dc02bd789be",
   "metadata": {},
   "outputs": [],
   "source": [
    "result = pygmt.grdgradient(grid=grid, azimuth=10, direction=\"c\")"
   ]
  },
  {
   "cell_type": "code",
   "execution_count": 5,
   "id": "626251c4-28ed-454b-8142-8c5732f712f3",
   "metadata": {},
   "outputs": [
    {
     "name": "stdout",
     "output_type": "stream",
     "text": [
      "<xarray.DataArray 'z' (lat: 5, lon: 5)>\n",
      "array([[-4.44407284e-04, -5.23089548e-04, -2.83417467e-04,\n",
      "        -6.09701383e-04, -5.56207578e-06],\n",
      "       [-3.89257970e-04, -1.49117477e-04, -1.05610132e-04,\n",
      "        -4.98196052e-04, -2.81143642e-04],\n",
      "       [-2.58729182e-04,  1.10914145e-04, -2.62369547e-04,\n",
      "        -4.26519982e-04, -4.27756924e-04],\n",
      "       [-2.55958090e-04, -3.33979144e-04, -4.43578669e-04,\n",
      "         7.77622772e-05,  7.69931285e-05],\n",
      "       [-2.86219700e-04, -3.75151722e-04, -4.55771631e-04,\n",
      "         4.72632033e-04, -3.38737620e-04]], dtype=float32)\n",
      "Coordinates:\n",
      "  * lon      (lon) float64 125.5 126.5 127.5 128.5 129.5\n",
      "  * lat      (lat) float64 -24.5 -23.5 -22.5 -21.5 -20.5\n",
      "Attributes:\n",
      "    long_name:     z\n",
      "    actual_range:  [-0.0006097   0.00047263]\n"
     ]
    }
   ],
   "source": [
    "print(result)"
   ]
  },
  {
   "cell_type": "code",
   "execution_count": null,
   "id": "e2d81d51-08f5-4a4e-a748-de35d9624fd8",
   "metadata": {},
   "outputs": [],
   "source": []
  }
 ],
 "metadata": {
  "kernelspec": {
   "display_name": "Python 3 (ipykernel)",
   "language": "python",
   "name": "python3"
  },
  "language_info": {
   "codemirror_mode": {
    "name": "ipython",
    "version": 3
   },
   "file_extension": ".py",
   "mimetype": "text/x-python",
   "name": "python",
   "nbconvert_exporter": "python",
   "pygments_lexer": "ipython3",
   "version": "3.9.9"
  }
 },
 "nbformat": 4,
 "nbformat_minor": 5
}
