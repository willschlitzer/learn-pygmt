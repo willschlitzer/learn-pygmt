{
 "cells": [
  {
   "cell_type": "code",
   "execution_count": 1,
   "id": "50cc0cdf-6c59-4168-b972-efa9d2f42837",
   "metadata": {},
   "outputs": [],
   "source": [
    "import pygmt"
   ]
  },
  {
   "cell_type": "code",
   "execution_count": 13,
   "id": "e020ee09-dd80-4809-9e04-463771e0ffd6",
   "metadata": {},
   "outputs": [],
   "source": [
    "grid = pygmt.datasets.load_earth_relief(resolution=\"01d\", registration=\"pixel\", region=[125, 130, -25, -20])"
   ]
  },
  {
   "cell_type": "code",
   "execution_count": 14,
   "id": "bd19b08a-116f-4d00-8ae4-2dc02bd789be",
   "metadata": {},
   "outputs": [],
   "source": [
    "result = pygmt.grdproject(grid=grid, projection=\"M10c\")"
   ]
  },
  {
   "cell_type": "code",
   "execution_count": 15,
   "id": "626251c4-28ed-454b-8142-8c5732f712f3",
   "metadata": {},
   "outputs": [
    {
     "name": "stdout",
     "output_type": "stream",
     "text": [
      "<xarray.DataArray 'z' (y: 5, x: 5)>\n",
      "array([[442.91666, 439.51202, 462.82422, 504.1126 , 508.01578],\n",
      "       [393.78897, 364.91565, 415.91202, 449.7487 , 507.4866 ],\n",
      "       [362.80795, 400.7865 , 423.06854, 374.5926 , 403.55084],\n",
      "       [322.25696, 378.78528, 362.4327 , 355.9475 , 422.6374 ],\n",
      "       [282.81348, 318.37677, 326.95657, 379.11594, 383.81543]],\n",
      "      dtype=float32)\n",
      "Coordinates:\n",
      "  * x        (x) float64 1.0 3.0 5.0 7.0 9.0\n",
      "  * y        (y) float64 1.077 3.23 5.383 7.537 9.69\n",
      "Attributes:\n",
      "    grid_mapping:  grid_mapping\n",
      "    long_name:     z\n",
      "    actual_range:  [282.81347656 508.01577759]\n"
     ]
    }
   ],
   "source": [
    "print(result)"
   ]
  },
  {
   "cell_type": "code",
   "execution_count": 19,
   "id": "e2d81d51-08f5-4a4e-a748-de35d9624fd8",
   "metadata": {},
   "outputs": [
    {
     "name": "stdout",
     "output_type": "stream",
     "text": [
      "<xarray.DataArray 'y' (y: 5)>\n",
      "array([1.076665, 3.229995, 5.383325, 7.536655, 9.689984])\n",
      "Coordinates:\n",
      "  * y        (y) float64 1.077 3.23 5.383 7.537 9.69\n",
      "Attributes:\n",
      "    long_name:     cm\n",
      "    actual_range:  [ 0.         10.76664936]\n",
      "    axis:          Y\n"
     ]
    }
   ],
   "source": [
    "print(result.y)"
   ]
  },
  {
   "cell_type": "code",
   "execution_count": null,
   "id": "b6cd2efb-98fa-4efc-87ab-d69da44c3992",
   "metadata": {},
   "outputs": [],
   "source": []
  }
 ],
 "metadata": {
  "kernelspec": {
   "display_name": "Python 3 (ipykernel)",
   "language": "python",
   "name": "python3"
  },
  "language_info": {
   "codemirror_mode": {
    "name": "ipython",
    "version": 3
   },
   "file_extension": ".py",
   "mimetype": "text/x-python",
   "name": "python",
   "nbconvert_exporter": "python",
   "pygments_lexer": "ipython3",
   "version": "3.9.9"
  }
 },
 "nbformat": 4,
 "nbformat_minor": 5
}
