{
 "cells": [
  {
   "cell_type": "code",
   "execution_count": 1,
   "id": "40e5b888-9eec-4fc8-a280-82c455bf8783",
   "metadata": {},
   "outputs": [],
   "source": [
    "import pygmt"
   ]
  },
  {
   "cell_type": "code",
   "execution_count": 4,
   "id": "f1aacb7b-66e5-4a6a-99ca-53ab120be67b",
   "metadata": {},
   "outputs": [
    {
     "name": "stderr",
     "output_type": "stream",
     "text": [
      "mapproject [ERROR]: Bad latitude outside valid range at input line 1 - skipped\n",
      "mapproject [ERROR]: Bad latitude outside valid range at input line 2 - skipped\n",
      "mapproject [ERROR]: Bad latitude outside valid range at input line 3 - skipped\n",
      "mapproject [ERROR]: Bad latitude outside valid range at input line 4 - skipped\n",
      "mapproject [ERROR]: Bad latitude outside valid range at input line 5 - skipped\n",
      "mapproject [ERROR]: Bad latitude outside valid range at input line 6 - skipped\n",
      "mapproject [ERROR]: Bad latitude outside valid range at input line 7 - skipped\n",
      "mapproject [ERROR]: Bad latitude outside valid range at input line 8 - skipped\n",
      "mapproject [ERROR]: Bad latitude outside valid range at input line 9 - skipped\n",
      "mapproject [ERROR]: Bad latitude outside valid range at input line 10 - skipped\n",
      "mapproject [ERROR]: Bad latitude outside valid range at input line 11 - skipped\n",
      "mapproject [ERROR]: Bad latitude outside valid range at input line 12 - skipped\n",
      "mapproject [ERROR]: Bad latitude outside valid range at input line 13 - skipped\n",
      "mapproject [ERROR]: Bad latitude outside valid range at input line 14 - skipped\n",
      "mapproject [ERROR]: Bad latitude outside valid range at input line 15 - skipped\n"
     ]
    }
   ],
   "source": [
    "data = pygmt.mapproject(data=\"@waypoints.txt\", region=\"-180/180/-72/72\", projection=\"m0.5c\", output_type=\"file\", outfile=\"xy.txt\")"
   ]
  },
  {
   "cell_type": "code",
   "execution_count": null,
   "id": "6a75ffb8-f8ef-461d-aff2-9e3b1630259f",
   "metadata": {},
   "outputs": [],
   "source": []
  }
 ],
 "metadata": {
  "kernelspec": {
   "display_name": "Python 3 (ipykernel)",
   "language": "python",
   "name": "python3"
  },
  "language_info": {
   "codemirror_mode": {
    "name": "ipython",
    "version": 3
   },
   "file_extension": ".py",
   "mimetype": "text/x-python",
   "name": "python",
   "nbconvert_exporter": "python",
   "pygments_lexer": "ipython3",
   "version": "3.9.9"
  }
 },
 "nbformat": 4,
 "nbformat_minor": 5
}
